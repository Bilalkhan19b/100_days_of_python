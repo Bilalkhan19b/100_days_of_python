{
 "cells": [
  {
   "cell_type": "markdown",
   "id": "efd8e74a",
   "metadata": {},
   "source": [
    "# print function "
   ]
  },
  {
   "cell_type": "code",
   "execution_count": 1,
   "id": "fd1d0ed0",
   "metadata": {},
   "outputs": [
    {
     "name": "stdout",
     "output_type": "stream",
     "text": [
      "Hello world\n"
     ]
    }
   ],
   "source": [
    "print(\"Hello world\")"
   ]
  },
  {
   "cell_type": "code",
   "execution_count": 2,
   "id": "9946ff29",
   "metadata": {},
   "outputs": [
    {
     "name": "stdout",
     "output_type": "stream",
     "text": [
      "6\n"
     ]
    }
   ],
   "source": [
    "print(6)"
   ]
  },
  {
   "cell_type": "code",
   "execution_count": 3,
   "id": "99808a1e",
   "metadata": {},
   "outputs": [
    {
     "name": "stdout",
     "output_type": "stream",
     "text": [
      "4.5\n"
     ]
    }
   ],
   "source": [
    "print(4.5)"
   ]
  },
  {
   "cell_type": "code",
   "execution_count": 4,
   "id": "028d6e9b",
   "metadata": {},
   "outputs": [
    {
     "name": "stdout",
     "output_type": "stream",
     "text": [
      "True\n"
     ]
    }
   ],
   "source": [
    "print(True)"
   ]
  },
  {
   "cell_type": "code",
   "execution_count": 62,
   "id": "f7dc7612",
   "metadata": {},
   "outputs": [
    {
     "name": "stdout",
     "output_type": "stream",
     "text": [
      "Karachi Lahore Islamabad\n"
     ]
    }
   ],
   "source": [
    "print(\"Karachi\",\"Lahore\",\"Islamabad\")"
   ]
  },
  {
   "cell_type": "code",
   "execution_count": 63,
   "id": "bf6512b2",
   "metadata": {},
   "outputs": [
    {
     "name": "stdout",
     "output_type": "stream",
     "text": [
      "Karachi 5 4.5 True\n"
     ]
    }
   ],
   "source": [
    "print(\"Karachi\",5,4.5,True)"
   ]
  },
  {
   "cell_type": "code",
   "execution_count": 64,
   "id": "72235f6c",
   "metadata": {},
   "outputs": [
    {
     "name": "stdout",
     "output_type": "stream",
     "text": [
      "Karachi/Lahore/Islamabad\n"
     ]
    }
   ],
   "source": [
    "print(\"Karachi\",\"Lahore\",\"Islamabad\",sep=\"/\")"
   ]
  },
  {
   "cell_type": "code",
   "execution_count": 10,
   "id": "2b7cd8ea",
   "metadata": {},
   "outputs": [
    {
     "name": "stdout",
     "output_type": "stream",
     "text": [
      "India-Pakistan-Iran\n"
     ]
    }
   ],
   "source": [
    "print(\"India\",\"Pakistan\",\"Iran\",sep=\"-\")"
   ]
  },
  {
   "cell_type": "code",
   "execution_count": 11,
   "id": "481bc55f",
   "metadata": {},
   "outputs": [
    {
     "name": "stdout",
     "output_type": "stream",
     "text": [
      "hello\n",
      "world\n"
     ]
    }
   ],
   "source": [
    "print(\"hello\")\n",
    "print(\"world\")"
   ]
  },
  {
   "cell_type": "code",
   "execution_count": 65,
   "id": "ffdfa583",
   "metadata": {},
   "outputs": [
    {
     "name": "stdout",
     "output_type": "stream",
     "text": [
      "Hello World\n"
     ]
    }
   ],
   "source": [
    "print(\"Hello\",end=\" \")\n",
    "print(\"World\")"
   ]
  },
  {
   "cell_type": "markdown",
   "id": "d8e3e58c",
   "metadata": {},
   "source": [
    "# Data types\n",
    "### Python supports 3 data types\n",
    "#### Basic types - (integer, float, complex, boolean and string)\n",
    "#### Container types - (list, tuple, sets, dictionaries)\n",
    "#### User-defined types - (Class)"
   ]
  },
  {
   "cell_type": "code",
   "execution_count": 13,
   "id": "efbce9cb",
   "metadata": {},
   "outputs": [
    {
     "name": "stdout",
     "output_type": "stream",
     "text": [
      "4\n",
      "1e+308\n",
      "inf\n"
     ]
    }
   ],
   "source": [
    "# integer\n",
    "print(4)\n",
    "print(1e308)\n",
    "print(1e309)"
   ]
  },
  {
   "cell_type": "code",
   "execution_count": 14,
   "id": "011b78fb",
   "metadata": {},
   "outputs": [
    {
     "name": "stdout",
     "output_type": "stream",
     "text": [
      "4.5\n",
      "1.7e+308\n",
      "inf\n"
     ]
    }
   ],
   "source": [
    "# float\n",
    "print(4.5)\n",
    "print(1.7e308)\n",
    "print(1.7e309)"
   ]
  },
  {
   "cell_type": "code",
   "execution_count": 15,
   "id": "5259c21c",
   "metadata": {},
   "outputs": [
    {
     "name": "stdout",
     "output_type": "stream",
     "text": [
      "(4+5j)\n"
     ]
    }
   ],
   "source": [
    "# complex\n",
    "print(4+5j)"
   ]
  },
  {
   "cell_type": "code",
   "execution_count": 16,
   "id": "8992f482",
   "metadata": {},
   "outputs": [
    {
     "name": "stdout",
     "output_type": "stream",
     "text": [
      "True\n",
      "False\n"
     ]
    }
   ],
   "source": [
    "#boolean\n",
    "print(True)\n",
    "print(False)"
   ]
  },
  {
   "cell_type": "code",
   "execution_count": 17,
   "id": "5f6cccea",
   "metadata": {},
   "outputs": [
    {
     "name": "stdout",
     "output_type": "stream",
     "text": [
      "Bilal\n",
      "Bilal\n",
      "Bilal\n"
     ]
    }
   ],
   "source": [
    "# string\n",
    "print('Bilal')\n",
    "print(\"Bilal\")\n",
    "print(\"\"\"Bilal\"\"\")"
   ]
  },
  {
   "cell_type": "code",
   "execution_count": 18,
   "id": "8aa3859e",
   "metadata": {},
   "outputs": [
    {
     "name": "stdout",
     "output_type": "stream",
     "text": [
      "[1, 2, 3, 4, 5]\n"
     ]
    }
   ],
   "source": [
    "#list\n",
    "print([1,2,3,4,5])"
   ]
  },
  {
   "cell_type": "code",
   "execution_count": 19,
   "id": "44feaa02",
   "metadata": {},
   "outputs": [
    {
     "name": "stdout",
     "output_type": "stream",
     "text": [
      "(1, 2, 3, 4, 5)\n"
     ]
    }
   ],
   "source": [
    "# tuple\n",
    "print((1,2,3,4,5))"
   ]
  },
  {
   "cell_type": "code",
   "execution_count": 20,
   "id": "33bc0e00",
   "metadata": {},
   "outputs": [
    {
     "name": "stdout",
     "output_type": "stream",
     "text": [
      "{'Name': 'Bilal', 'Age': '22', 'Gender': 'Male'}\n"
     ]
    }
   ],
   "source": [
    "# dictionary\n",
    "print({\"Name\":\"Bilal\",\"Age\":\"22\",\"Gender\":\"Male\"})"
   ]
  },
  {
   "cell_type": "code",
   "execution_count": 21,
   "id": "8534ba8c",
   "metadata": {},
   "outputs": [
    {
     "name": "stdout",
     "output_type": "stream",
     "text": [
      "{1, 2, 3, 4, 5}\n"
     ]
    }
   ],
   "source": [
    "#sets\n",
    "print({1,2,3,4,5})"
   ]
  },
  {
   "cell_type": "code",
   "execution_count": 22,
   "id": "5a1da502",
   "metadata": {},
   "outputs": [],
   "source": [
    "# this is a comment ,it is skipped by the compiler and will not be executed by the compiler"
   ]
  },
  {
   "cell_type": "markdown",
   "id": "651858b5",
   "metadata": {},
   "source": [
    "# Variables\n",
    "#### Variables are containers for future use"
   ]
  },
  {
   "cell_type": "code",
   "execution_count": 23,
   "id": "577c9f2f",
   "metadata": {},
   "outputs": [],
   "source": [
    "name=\"Bilal\""
   ]
  },
  {
   "cell_type": "code",
   "execution_count": 24,
   "id": "d731ce2c",
   "metadata": {},
   "outputs": [
    {
     "name": "stdout",
     "output_type": "stream",
     "text": [
      "Bilal\n"
     ]
    }
   ],
   "source": [
    "print(name)"
   ]
  },
  {
   "cell_type": "code",
   "execution_count": 26,
   "id": "fc838193",
   "metadata": {},
   "outputs": [],
   "source": [
    "# no variable decleration like in other languages, we only use the variables."
   ]
  },
  {
   "cell_type": "code",
   "execution_count": 32,
   "id": "d671a250",
   "metadata": {},
   "outputs": [],
   "source": [
    "# Dynamic typing : When we create variable in python, python automatically understands it's type.\n",
    "                    # No need to declare type of the variable.\n",
    "# Static Typing : Always need to declare type of the variable."
   ]
  },
  {
   "cell_type": "code",
   "execution_count": null,
   "id": "a19a6d3a",
   "metadata": {},
   "outputs": [],
   "source": [
    "# Dynamic Binding : A variable is not binded with any data type we can store any data type in a \n",
    "# single variable at any time. example is given below.\n",
    "#Static Binding : A variable can store exact same data type which was defined during vairiable \n",
    "# declaration"
   ]
  },
  {
   "cell_type": "code",
   "execution_count": 28,
   "id": "95e22a87",
   "metadata": {},
   "outputs": [
    {
     "name": "stdout",
     "output_type": "stream",
     "text": [
      "Bilal\n"
     ]
    }
   ],
   "source": [
    "print(name)"
   ]
  },
  {
   "cell_type": "code",
   "execution_count": 30,
   "id": "44bec83e",
   "metadata": {},
   "outputs": [
    {
     "name": "stdout",
     "output_type": "stream",
     "text": [
      "4\n"
     ]
    }
   ],
   "source": [
    "name=4\n",
    "print(name)"
   ]
  },
  {
   "cell_type": "code",
   "execution_count": 31,
   "id": "47b4b20e",
   "metadata": {},
   "outputs": [
    {
     "name": "stdout",
     "output_type": "stream",
     "text": [
      "True\n"
     ]
    }
   ],
   "source": [
    "name=True\n",
    "print(name)"
   ]
  },
  {
   "cell_type": "markdown",
   "id": "fd458371",
   "metadata": {},
   "source": [
    "### Multi-Variable Decleration"
   ]
  },
  {
   "cell_type": "code",
   "execution_count": 33,
   "id": "26959beb",
   "metadata": {},
   "outputs": [
    {
     "name": "stdout",
     "output_type": "stream",
     "text": [
      "2\n",
      "5\n",
      "9\n"
     ]
    }
   ],
   "source": [
    "a=2;b=5;c=9\n",
    "print(a)\n",
    "print(b)\n",
    "print(c)"
   ]
  },
  {
   "cell_type": "code",
   "execution_count": 34,
   "id": "ba054f04",
   "metadata": {},
   "outputs": [
    {
     "name": "stdout",
     "output_type": "stream",
     "text": [
      "2\n",
      "5\n",
      "9\n"
     ]
    }
   ],
   "source": [
    "a,b,c=2,5,9\n",
    "print(a)\n",
    "print(b)\n",
    "print(c)"
   ]
  },
  {
   "cell_type": "code",
   "execution_count": 35,
   "id": "b6af9a6d",
   "metadata": {},
   "outputs": [
    {
     "name": "stdout",
     "output_type": "stream",
     "text": [
      "6\n",
      "6\n",
      "6\n"
     ]
    }
   ],
   "source": [
    "a=b=c=6\n",
    "print(a)\n",
    "print(b)\n",
    "print(c)"
   ]
  },
  {
   "cell_type": "markdown",
   "id": "a59d26a0",
   "metadata": {},
   "source": [
    "# Keywords"
   ]
  },
  {
   "cell_type": "markdown",
   "id": "2cd5a8b0",
   "metadata": {},
   "source": [
    "#### In programming, a keyword is a word that is reserved by a program because the word has a special meaning. Keywords can be commands or parameters."
   ]
  },
  {
   "cell_type": "code",
   "execution_count": 37,
   "id": "8f29cbcb",
   "metadata": {},
   "outputs": [
    {
     "name": "stdout",
     "output_type": "stream",
     "text": [
      "['False', 'None', 'True', '__peg_parser__', 'and', 'as', 'assert', 'async', 'await', 'break', 'class', 'continue', 'def', 'del', 'elif', 'else', 'except', 'finally', 'for', 'from', 'global', 'if', 'import', 'in', 'is', 'lambda', 'nonlocal', 'not', 'or', 'pass', 'raise', 'return', 'try', 'while', 'with', 'yield']\n"
     ]
    }
   ],
   "source": [
    "# python has 33 keywords\n",
    "import keyword\n",
    "print(keyword.kwlist)"
   ]
  },
  {
   "cell_type": "markdown",
   "id": "78edf8ae",
   "metadata": {},
   "source": [
    "# Identifiers"
   ]
  },
  {
   "cell_type": "markdown",
   "id": "239c5e47",
   "metadata": {},
   "source": [
    "#### A python identifier is a name used to identify a variable, function, class, module, or other object."
   ]
  },
  {
   "cell_type": "markdown",
   "id": "5e1b9871",
   "metadata": {},
   "source": [
    "## Rules for setting Identifiers\n",
    "##### can only start with an alphabet or _\n",
    "##### followed by 0 or more letter,_ and digits.\n",
    "##### keywords can not be used as an identifiers."
   ]
  },
  {
   "cell_type": "code",
   "execution_count": 44,
   "id": "923af6b0",
   "metadata": {},
   "outputs": [
    {
     "name": "stdout",
     "output_type": "stream",
     "text": [
      "Bilal\n"
     ]
    }
   ],
   "source": [
    "_=\"Bilal\"\n",
    "print(_)"
   ]
  },
  {
   "cell_type": "code",
   "execution_count": 45,
   "id": "9b9cf4c4",
   "metadata": {},
   "outputs": [
    {
     "name": "stdout",
     "output_type": "stream",
     "text": [
      "Bilal\n"
     ]
    }
   ],
   "source": [
    "name=\"Bilal\"\n",
    "print(name)"
   ]
  },
  {
   "cell_type": "code",
   "execution_count": 46,
   "id": "86b2357b",
   "metadata": {},
   "outputs": [
    {
     "name": "stdout",
     "output_type": "stream",
     "text": [
      "Bilal\n"
     ]
    }
   ],
   "source": [
    "name1=\"Bilal\"\n",
    "print(name1)"
   ]
  },
  {
   "cell_type": "code",
   "execution_count": 47,
   "id": "e5bfd005",
   "metadata": {},
   "outputs": [
    {
     "name": "stdout",
     "output_type": "stream",
     "text": [
      "Bilal\n"
     ]
    }
   ],
   "source": [
    "first_name=\"Bilal\"\n",
    "print(first_name)"
   ]
  },
  {
   "cell_type": "code",
   "execution_count": 48,
   "id": "3e009fa2",
   "metadata": {},
   "outputs": [
    {
     "name": "stdout",
     "output_type": "stream",
     "text": [
      "Bilal\n"
     ]
    }
   ],
   "source": [
    "__=\"Bilal\"\n",
    "print(__)"
   ]
  },
  {
   "cell_type": "markdown",
   "id": "68abf758",
   "metadata": {},
   "source": [
    "# Taking user input"
   ]
  },
  {
   "cell_type": "code",
   "execution_count": 49,
   "id": "9df8be3b",
   "metadata": {},
   "outputs": [
    {
     "name": "stdout",
     "output_type": "stream",
     "text": [
      "bilal\n"
     ]
    },
    {
     "data": {
      "text/plain": [
       "'bilal'"
      ]
     },
     "execution_count": 49,
     "metadata": {},
     "output_type": "execute_result"
    }
   ],
   "source": [
    "input()"
   ]
  },
  {
   "cell_type": "code",
   "execution_count": 50,
   "id": "c0844548",
   "metadata": {},
   "outputs": [
    {
     "name": "stdout",
     "output_type": "stream",
     "text": [
      "apna naam btaBilal\n"
     ]
    },
    {
     "data": {
      "text/plain": [
       "'Bilal'"
      ]
     },
     "execution_count": 50,
     "metadata": {},
     "output_type": "execute_result"
    }
   ],
   "source": [
    "input(\"apna naam bta\")"
   ]
  },
  {
   "cell_type": "markdown",
   "id": "5e90205c",
   "metadata": {},
   "source": [
    "#### Write a program which asks user to enter two numbers and add them and prints the result."
   ]
  },
  {
   "cell_type": "code",
   "execution_count": 89,
   "id": "4d625832",
   "metadata": {},
   "outputs": [
    {
     "name": "stdout",
     "output_type": "stream",
     "text": [
      "enter first number2\n",
      "enter second number3\n",
      "23\n"
     ]
    }
   ],
   "source": [
    "first_num=input(\"enter first number\")\n",
    "second_num=input(\"enter second number\")\n",
    "result=first_num+second_num\n",
    "print(result)"
   ]
  },
  {
   "cell_type": "code",
   "execution_count": 90,
   "id": "2c4f5629",
   "metadata": {},
   "outputs": [],
   "source": [
    "# Oops! This is not the result We were expecting.\n",
    "# There is a need for type conversion."
   ]
  },
  {
   "cell_type": "markdown",
   "id": "cfbe231c",
   "metadata": {},
   "source": [
    "# Type conversion\n",
    "#### There are 2 types of type conversion. i.e implicit and explicit "
   ]
  },
  {
   "cell_type": "code",
   "execution_count": 91,
   "id": "8cf500ed",
   "metadata": {},
   "outputs": [],
   "source": [
    "# implicit type coversion : is one in which we don't have to tell the python to change the type.\n",
    "# python itself change the type.for example:"
   ]
  },
  {
   "cell_type": "code",
   "execution_count": 92,
   "id": "c90d2d53",
   "metadata": {},
   "outputs": [
    {
     "data": {
      "text/plain": [
       "8.5"
      ]
     },
     "execution_count": 92,
     "metadata": {},
     "output_type": "execute_result"
    }
   ],
   "source": [
    "4+4.5"
   ]
  },
  {
   "cell_type": "code",
   "execution_count": 93,
   "id": "8b2f317a",
   "metadata": {},
   "outputs": [
    {
     "data": {
      "text/plain": [
       "(10+7j)"
      ]
     },
     "execution_count": 93,
     "metadata": {},
     "output_type": "execute_result"
    }
   ],
   "source": [
    "4 + 6+7j"
   ]
  },
  {
   "cell_type": "code",
   "execution_count": 94,
   "id": "47e19323",
   "metadata": {},
   "outputs": [
    {
     "data": {
      "text/plain": [
       "(9.5+5j)"
      ]
     },
     "execution_count": 94,
     "metadata": {},
     "output_type": "execute_result"
    }
   ],
   "source": [
    "4.5 + 5+5j"
   ]
  },
  {
   "cell_type": "code",
   "execution_count": 95,
   "id": "578995a1",
   "metadata": {},
   "outputs": [],
   "source": [
    "# explicit type conversion : is one in which we have to tell the python to change the type explicitly.\n",
    "# we use multiple functions for explicit type conversion.for example:"
   ]
  },
  {
   "cell_type": "code",
   "execution_count": 96,
   "id": "5e5952a5",
   "metadata": {},
   "outputs": [
    {
     "data": {
      "text/plain": [
       "4"
      ]
     },
     "execution_count": 96,
     "metadata": {},
     "output_type": "execute_result"
    }
   ],
   "source": [
    "# int()\n",
    "int(4.5)"
   ]
  },
  {
   "cell_type": "code",
   "execution_count": 97,
   "id": "72d222e3",
   "metadata": {},
   "outputs": [
    {
     "data": {
      "text/plain": [
       "4"
      ]
     },
     "execution_count": 97,
     "metadata": {},
     "output_type": "execute_result"
    }
   ],
   "source": [
    "int(\"4\")"
   ]
  },
  {
   "cell_type": "code",
   "execution_count": 98,
   "id": "24d630c0",
   "metadata": {},
   "outputs": [
    {
     "data": {
      "text/plain": [
       "4.0"
      ]
     },
     "execution_count": 98,
     "metadata": {},
     "output_type": "execute_result"
    }
   ],
   "source": [
    "# float\n",
    "float(4)"
   ]
  },
  {
   "cell_type": "code",
   "execution_count": 99,
   "id": "ced9b0da",
   "metadata": {},
   "outputs": [
    {
     "data": {
      "text/plain": [
       "'4'"
      ]
     },
     "execution_count": 99,
     "metadata": {},
     "output_type": "execute_result"
    }
   ],
   "source": [
    "# str()\n",
    "str(4)"
   ]
  },
  {
   "cell_type": "code",
   "execution_count": 100,
   "id": "d370aef6",
   "metadata": {},
   "outputs": [
    {
     "data": {
      "text/plain": [
       "True"
      ]
     },
     "execution_count": 100,
     "metadata": {},
     "output_type": "execute_result"
    }
   ],
   "source": [
    "# bool()\n",
    "bool(1)"
   ]
  },
  {
   "cell_type": "code",
   "execution_count": 101,
   "id": "852fcef2",
   "metadata": {},
   "outputs": [
    {
     "data": {
      "text/plain": [
       "(4+0j)"
      ]
     },
     "execution_count": 101,
     "metadata": {},
     "output_type": "execute_result"
    }
   ],
   "source": [
    "# complex()\n",
    "complex(4)"
   ]
  },
  {
   "cell_type": "code",
   "execution_count": 102,
   "id": "179a0083",
   "metadata": {},
   "outputs": [
    {
     "data": {
      "text/plain": [
       "['H', 'e', 'l', 'l', 'o']"
      ]
     },
     "execution_count": 102,
     "metadata": {},
     "output_type": "execute_result"
    }
   ],
   "source": [
    "# list()\n",
    "list(\"Hello\")"
   ]
  },
  {
   "cell_type": "code",
   "execution_count": 103,
   "id": "e4ec1060",
   "metadata": {},
   "outputs": [],
   "source": [
    "# Type conversion is not a permanent operation.for example:"
   ]
  },
  {
   "cell_type": "code",
   "execution_count": 104,
   "id": "f58bc5b6",
   "metadata": {},
   "outputs": [],
   "source": [
    "a=4.5"
   ]
  },
  {
   "cell_type": "code",
   "execution_count": 105,
   "id": "8e99dc7a",
   "metadata": {},
   "outputs": [
    {
     "data": {
      "text/plain": [
       "4"
      ]
     },
     "execution_count": 105,
     "metadata": {},
     "output_type": "execute_result"
    }
   ],
   "source": [
    "int(a)"
   ]
  },
  {
   "cell_type": "code",
   "execution_count": 106,
   "id": "7a1e17d0",
   "metadata": {},
   "outputs": [
    {
     "data": {
      "text/plain": [
       "4.5"
      ]
     },
     "execution_count": 106,
     "metadata": {},
     "output_type": "execute_result"
    }
   ],
   "source": [
    "a"
   ]
  },
  {
   "cell_type": "markdown",
   "id": "12715be2",
   "metadata": {},
   "source": [
    "### type() function"
   ]
  },
  {
   "cell_type": "code",
   "execution_count": 107,
   "id": "fc35100b",
   "metadata": {},
   "outputs": [
    {
     "data": {
      "text/plain": [
       "int"
      ]
     },
     "execution_count": 107,
     "metadata": {},
     "output_type": "execute_result"
    }
   ],
   "source": [
    "# type function\n",
    "type(4)"
   ]
  },
  {
   "cell_type": "code",
   "execution_count": 108,
   "id": "be549b75",
   "metadata": {},
   "outputs": [
    {
     "data": {
      "text/plain": [
       "float"
      ]
     },
     "execution_count": 108,
     "metadata": {},
     "output_type": "execute_result"
    }
   ],
   "source": [
    "type(4.5)"
   ]
  },
  {
   "cell_type": "code",
   "execution_count": 109,
   "id": "8e0d2e69",
   "metadata": {},
   "outputs": [
    {
     "data": {
      "text/plain": [
       "str"
      ]
     },
     "execution_count": 109,
     "metadata": {},
     "output_type": "execute_result"
    }
   ],
   "source": [
    "type(\"4\")"
   ]
  },
  {
   "cell_type": "code",
   "execution_count": 110,
   "id": "b2ca4884",
   "metadata": {},
   "outputs": [
    {
     "data": {
      "text/plain": [
       "bool"
      ]
     },
     "execution_count": 110,
     "metadata": {},
     "output_type": "execute_result"
    }
   ],
   "source": [
    "type(True)"
   ]
  },
  {
   "cell_type": "code",
   "execution_count": 111,
   "id": "458c3efb",
   "metadata": {},
   "outputs": [
    {
     "data": {
      "text/plain": [
       "complex"
      ]
     },
     "execution_count": 111,
     "metadata": {},
     "output_type": "execute_result"
    }
   ],
   "source": [
    "type(6+7j)"
   ]
  },
  {
   "cell_type": "code",
   "execution_count": 112,
   "id": "e9455938",
   "metadata": {},
   "outputs": [
    {
     "data": {
      "text/plain": [
       "list"
      ]
     },
     "execution_count": 112,
     "metadata": {},
     "output_type": "execute_result"
    }
   ],
   "source": [
    "type([1,2,3,4,5])"
   ]
  },
  {
   "cell_type": "markdown",
   "id": "c7f23281",
   "metadata": {},
   "source": [
    "#### Write a program which asks user to enter two numbers and add them and prints the result."
   ]
  },
  {
   "cell_type": "code",
   "execution_count": 115,
   "id": "08c2764c",
   "metadata": {},
   "outputs": [
    {
     "name": "stdout",
     "output_type": "stream",
     "text": [
      "enter first number4\n",
      "enter second number5\n",
      "9\n"
     ]
    }
   ],
   "source": [
    "first_num=int(input(\"enter first number\"))\n",
    "second_num=int(input(\"enter second number\"))\n",
    "result=first_num+second_num\n",
    "print(result)"
   ]
  },
  {
   "cell_type": "markdown",
   "id": "46ebe46c",
   "metadata": {},
   "source": [
    "# Literals\n",
    "Literal is a raw data given in variable. In Python, there are various types of literals they are as follows:<br>\n",
    "-Numeric Literals<br>\n",
    "-String Literals<br>\n",
    "-Boolean Literals<br>\n",
    "-Special Literals"
   ]
  },
  {
   "cell_type": "markdown",
   "id": "66d45a0f",
   "metadata": {},
   "source": [
    "### 1. Numeric Literals"
   ]
  },
  {
   "cell_type": "code",
   "execution_count": 118,
   "id": "9b87f549",
   "metadata": {},
   "outputs": [
    {
     "name": "stdout",
     "output_type": "stream",
     "text": [
      "10 100 200 300\n",
      "10.5 150.0 0.0015\n",
      "3.14j 3.14 0.0\n"
     ]
    }
   ],
   "source": [
    "a = 0b1010 #Binary Literals\n",
    "b = 100 #Decimal Literals\n",
    "c = 0o310 #Octal Literal\n",
    "d = 0x12c #Hexadecimal Literals\n",
    "\n",
    "#Flaot Literals\n",
    "float_1 = 10.5\n",
    "float_2 = 1.5e2\n",
    "float_3 = 1.5e-3\n",
    "\n",
    "#Complex Literal\n",
    "x = 3.14j\n",
    "\n",
    "print(a, b ,c, d)\n",
    "print(float_1, float_2, float_3)\n",
    "print(x, x.imag, x.real)"
   ]
  },
  {
   "cell_type": "markdown",
   "id": "210167b2",
   "metadata": {},
   "source": [
    "### 2. String Literals"
   ]
  },
  {
   "cell_type": "code",
   "execution_count": 120,
   "id": "2d7aab3f",
   "metadata": {},
   "outputs": [
    {
     "name": "stdout",
     "output_type": "stream",
     "text": [
      "This is python\n",
      "This is python\n",
      "C\n",
      "This is a multiline string with more than one line code\n",
      "😀😆🤣\n",
      "raw \\n string\n"
     ]
    }
   ],
   "source": [
    "string='This is python'\n",
    "strings=\"This is python\"\n",
    "char=\"C\"\n",
    "multiline_str=\"\"\"This is a multiline string with more than one line code\"\"\"\n",
    "unicode=u\"\\U0001f600\\U0001F606\\U0001F923\"\n",
    "raw_str=r\"raw \\n string\"\n",
    "\n",
    "print(string)\n",
    "print(strings)\n",
    "print(char)\n",
    "print(multiline_str)\n",
    "print(unicode)\n",
    "print(raw_str)"
   ]
  },
  {
   "cell_type": "markdown",
   "id": "c8fbf407",
   "metadata": {},
   "source": [
    "### 3. Booloean Literals"
   ]
  },
  {
   "cell_type": "code",
   "execution_count": 122,
   "id": "38174bb6",
   "metadata": {},
   "outputs": [
    {
     "name": "stdout",
     "output_type": "stream",
     "text": [
      "a: 5\n",
      "b: 10\n"
     ]
    }
   ],
   "source": [
    "a= True + 4\n",
    "b= False + 10\n",
    "\n",
    "print(\"a:\", a)\n",
    "print(\"b:\", b)"
   ]
  },
  {
   "cell_type": "markdown",
   "id": "dded728a",
   "metadata": {},
   "source": [
    "### 4. Special Literals"
   ]
  },
  {
   "cell_type": "code",
   "execution_count": 124,
   "id": "fbc2c64b",
   "metadata": {},
   "outputs": [
    {
     "name": "stdout",
     "output_type": "stream",
     "text": [
      "None\n"
     ]
    }
   ],
   "source": [
    "# it can be used for variable declaration which can be used later.\n",
    "a= None\n",
    "print(a)"
   ]
  },
  {
   "cell_type": "markdown",
   "id": "9557b9e9",
   "metadata": {},
   "source": [
    "# Operators\n",
    "Operators are used to perform operations on variables and values. Python has the following operators:\n",
    "\n",
    "Arithmetic operators<br>\n",
    "Comparison operators<br>\n",
    "Logical operators<br>\n",
    "Bitwise operators<br>\n",
    "Assignment operators<br>\n",
    "Identity operators<br>\n",
    "Membership operators<br>"
   ]
  },
  {
   "cell_type": "markdown",
   "id": "79d03d17",
   "metadata": {},
   "source": [
    "#### Arithmetic Operators"
   ]
  },
  {
   "cell_type": "code",
   "execution_count": 1,
   "id": "1e227f9a",
   "metadata": {},
   "outputs": [
    {
     "name": "stdout",
     "output_type": "stream",
     "text": [
      "7\n"
     ]
    }
   ],
   "source": [
    "x=5\n",
    "y=2\n",
    "\n",
    "# addition\n",
    "print(x+y)"
   ]
  },
  {
   "cell_type": "code",
   "execution_count": 2,
   "id": "227cf8fd",
   "metadata": {},
   "outputs": [
    {
     "name": "stdout",
     "output_type": "stream",
     "text": [
      "3\n"
     ]
    }
   ],
   "source": [
    "# subtraction\n",
    "print(x-y)"
   ]
  },
  {
   "cell_type": "code",
   "execution_count": 3,
   "id": "440e1b86",
   "metadata": {},
   "outputs": [
    {
     "name": "stdout",
     "output_type": "stream",
     "text": [
      "10\n"
     ]
    }
   ],
   "source": [
    "# multiplication\n",
    "print(x*y)"
   ]
  },
  {
   "cell_type": "code",
   "execution_count": 4,
   "id": "f0905d1d",
   "metadata": {},
   "outputs": [
    {
     "name": "stdout",
     "output_type": "stream",
     "text": [
      "2.5\n"
     ]
    }
   ],
   "source": [
    "# true division\n",
    "print(x/y)"
   ]
  },
  {
   "cell_type": "code",
   "execution_count": 5,
   "id": "8bb1b2da",
   "metadata": {},
   "outputs": [
    {
     "name": "stdout",
     "output_type": "stream",
     "text": [
      "1\n"
     ]
    }
   ],
   "source": [
    "# modulus(it gives remainder)\n",
    "print(x%y)"
   ]
  },
  {
   "cell_type": "code",
   "execution_count": 6,
   "id": "ddeb8255",
   "metadata": {},
   "outputs": [
    {
     "name": "stdout",
     "output_type": "stream",
     "text": [
      "2\n"
     ]
    }
   ],
   "source": [
    "# integer division\n",
    "print(x//y)"
   ]
  },
  {
   "cell_type": "code",
   "execution_count": 7,
   "id": "3b1d6cde",
   "metadata": {},
   "outputs": [
    {
     "name": "stdout",
     "output_type": "stream",
     "text": [
      "25\n"
     ]
    }
   ],
   "source": [
    "# power\n",
    "print(x**y)"
   ]
  },
  {
   "cell_type": "markdown",
   "id": "cc281895",
   "metadata": {},
   "source": [
    "#### Comparison Operators"
   ]
  },
  {
   "cell_type": "code",
   "execution_count": 8,
   "id": "2e4b1416",
   "metadata": {},
   "outputs": [
    {
     "name": "stdout",
     "output_type": "stream",
     "text": [
      "True\n"
     ]
    }
   ],
   "source": [
    "print(x > y)"
   ]
  },
  {
   "cell_type": "code",
   "execution_count": 9,
   "id": "35f749f6",
   "metadata": {},
   "outputs": [
    {
     "name": "stdout",
     "output_type": "stream",
     "text": [
      "False\n"
     ]
    }
   ],
   "source": [
    "print(x < y)"
   ]
  },
  {
   "cell_type": "code",
   "execution_count": 10,
   "id": "d4c4c035",
   "metadata": {},
   "outputs": [
    {
     "name": "stdout",
     "output_type": "stream",
     "text": [
      "True\n"
     ]
    }
   ],
   "source": [
    "print(x >=y )"
   ]
  },
  {
   "cell_type": "code",
   "execution_count": 11,
   "id": "839ee8b9",
   "metadata": {},
   "outputs": [
    {
     "name": "stdout",
     "output_type": "stream",
     "text": [
      "False\n"
     ]
    }
   ],
   "source": [
    "print(x <=y )"
   ]
  },
  {
   "cell_type": "code",
   "execution_count": 12,
   "id": "45e0d010",
   "metadata": {},
   "outputs": [
    {
     "name": "stdout",
     "output_type": "stream",
     "text": [
      "False\n"
     ]
    }
   ],
   "source": [
    "print(x == y)"
   ]
  },
  {
   "cell_type": "code",
   "execution_count": 13,
   "id": "e5bfa0c3",
   "metadata": {},
   "outputs": [
    {
     "name": "stdout",
     "output_type": "stream",
     "text": [
      "True\n"
     ]
    }
   ],
   "source": [
    "print(x != y)"
   ]
  },
  {
   "cell_type": "markdown",
   "id": "93236c16",
   "metadata": {},
   "source": [
    "#### Logical Operators"
   ]
  },
  {
   "cell_type": "code",
   "execution_count": 14,
   "id": "19e09414",
   "metadata": {},
   "outputs": [
    {
     "name": "stdout",
     "output_type": "stream",
     "text": [
      "True\n"
     ]
    }
   ],
   "source": [
    "x = True\n",
    "y = False\n",
    "\n",
    "print(x or y)"
   ]
  },
  {
   "cell_type": "code",
   "execution_count": 15,
   "id": "9e9e5eb6",
   "metadata": {},
   "outputs": [
    {
     "name": "stdout",
     "output_type": "stream",
     "text": [
      "False\n"
     ]
    }
   ],
   "source": [
    "print(x and y)"
   ]
  },
  {
   "cell_type": "code",
   "execution_count": 17,
   "id": "161e6bea",
   "metadata": {},
   "outputs": [
    {
     "name": "stdout",
     "output_type": "stream",
     "text": [
      "False\n"
     ]
    }
   ],
   "source": [
    "print(not x)"
   ]
  },
  {
   "cell_type": "markdown",
   "id": "70de3ace",
   "metadata": {},
   "source": [
    "#### Bitwise Operators"
   ]
  },
  {
   "cell_type": "code",
   "execution_count": 21,
   "id": "94ed6050",
   "metadata": {},
   "outputs": [],
   "source": [
    "x = 2\n",
    "y = 3"
   ]
  },
  {
   "cell_type": "code",
   "execution_count": 24,
   "id": "52446eb8",
   "metadata": {},
   "outputs": [
    {
     "name": "stdout",
     "output_type": "stream",
     "text": [
      "2\n"
     ]
    }
   ],
   "source": [
    "print(x & y)\n",
    "\n",
    "# 010 => 2\n",
    "# 011 => 3\n",
    "# ---\n",
    "# 010 => 2"
   ]
  },
  {
   "cell_type": "code",
   "execution_count": 26,
   "id": "3562c26e",
   "metadata": {},
   "outputs": [
    {
     "name": "stdout",
     "output_type": "stream",
     "text": [
      "3\n"
     ]
    }
   ],
   "source": [
    "print(x | y)\n",
    "\n",
    "# 010 => 2\n",
    "# 011 => 3\n",
    "# ---\n",
    "# 011 => 3"
   ]
  },
  {
   "cell_type": "code",
   "execution_count": 27,
   "id": "806ada71",
   "metadata": {},
   "outputs": [
    {
     "name": "stdout",
     "output_type": "stream",
     "text": [
      "0\n"
     ]
    }
   ],
   "source": [
    "print(x >> 2)"
   ]
  },
  {
   "cell_type": "code",
   "execution_count": 28,
   "id": "21900b78",
   "metadata": {},
   "outputs": [
    {
     "name": "stdout",
     "output_type": "stream",
     "text": [
      "24\n"
     ]
    }
   ],
   "source": [
    "print(y << 3)"
   ]
  },
  {
   "cell_type": "code",
   "execution_count": 29,
   "id": "74ce396a",
   "metadata": {},
   "outputs": [
    {
     "name": "stdout",
     "output_type": "stream",
     "text": [
      "-3\n"
     ]
    }
   ],
   "source": [
    "print(~x)"
   ]
  },
  {
   "cell_type": "markdown",
   "id": "a8dae027",
   "metadata": {},
   "source": [
    "#### Assignment Operator"
   ]
  },
  {
   "cell_type": "code",
   "execution_count": 35,
   "id": "2e228254",
   "metadata": {},
   "outputs": [],
   "source": [
    "x = 3"
   ]
  },
  {
   "cell_type": "code",
   "execution_count": 36,
   "id": "d5a02a51",
   "metadata": {},
   "outputs": [
    {
     "name": "stdout",
     "output_type": "stream",
     "text": [
      "3\n"
     ]
    }
   ],
   "source": [
    "print(x)"
   ]
  },
  {
   "cell_type": "code",
   "execution_count": 37,
   "id": "cb63ec17",
   "metadata": {},
   "outputs": [
    {
     "name": "stdout",
     "output_type": "stream",
     "text": [
      "6\n"
     ]
    }
   ],
   "source": [
    "x += 3\n",
    "# x = x + 3\n",
    "print(x)"
   ]
  },
  {
   "cell_type": "code",
   "execution_count": 38,
   "id": "e46bb38b",
   "metadata": {},
   "outputs": [
    {
     "name": "stdout",
     "output_type": "stream",
     "text": [
      "3\n"
     ]
    }
   ],
   "source": [
    "x -= 3\n",
    "# x = x - 3\n",
    "print(x)"
   ]
  },
  {
   "cell_type": "code",
   "execution_count": 39,
   "id": "e9250a4c",
   "metadata": {},
   "outputs": [],
   "source": [
    "x *= 3\n",
    "x &= 3"
   ]
  },
  {
   "cell_type": "markdown",
   "id": "06b60fb4",
   "metadata": {},
   "source": [
    "#### Identity Operator (It is used to check if the variables are stored in the same memory location)"
   ]
  },
  {
   "cell_type": "code",
   "execution_count": 40,
   "id": "0b97984e",
   "metadata": {},
   "outputs": [
    {
     "name": "stdout",
     "output_type": "stream",
     "text": [
      "True\n"
     ]
    }
   ],
   "source": [
    "a = 3\n",
    "b = 3\n",
    "\n",
    "print(a is b)"
   ]
  },
  {
   "cell_type": "code",
   "execution_count": 41,
   "id": "6a26cbcc",
   "metadata": {},
   "outputs": [
    {
     "name": "stdout",
     "output_type": "stream",
     "text": [
      "True\n"
     ]
    }
   ],
   "source": [
    "a = \"Hello\"\n",
    "b = \"Hello\"\n",
    "\n",
    "print(a is b)"
   ]
  },
  {
   "cell_type": "code",
   "execution_count": 42,
   "id": "c55f10c4",
   "metadata": {},
   "outputs": [
    {
     "name": "stdout",
     "output_type": "stream",
     "text": [
      "False\n"
     ]
    }
   ],
   "source": [
    "a = [1,2,3]\n",
    "b = [1,2,3]\n",
    "\n",
    "print(a is b)"
   ]
  },
  {
   "cell_type": "code",
   "execution_count": 43,
   "id": "8f085adf",
   "metadata": {},
   "outputs": [
    {
     "name": "stdout",
     "output_type": "stream",
     "text": [
      "False\n"
     ]
    }
   ],
   "source": [
    "a = \"Hello-World\"\n",
    "b = \"Hello World\"\n",
    "\n",
    "print(a is b)"
   ]
  },
  {
   "cell_type": "code",
   "execution_count": 49,
   "id": "6adb87ab",
   "metadata": {},
   "outputs": [
    {
     "name": "stdout",
     "output_type": "stream",
     "text": [
      "True\n"
     ]
    }
   ],
   "source": [
    "a = \"Hello-World\"\n",
    "b = \"Hello World\"\n",
    "\n",
    "print(a is not b)"
   ]
  },
  {
   "cell_type": "markdown",
   "id": "039b710e",
   "metadata": {},
   "source": [
    "#### Membership Operator"
   ]
  },
  {
   "cell_type": "code",
   "execution_count": 45,
   "id": "bf2ceaa0",
   "metadata": {},
   "outputs": [
    {
     "name": "stdout",
     "output_type": "stream",
     "text": [
      "True\n"
     ]
    }
   ],
   "source": [
    "x= \"Karachi\"\n",
    "\n",
    "print(\"K\" in x)"
   ]
  },
  {
   "cell_type": "code",
   "execution_count": 46,
   "id": "92d15bc1",
   "metadata": {},
   "outputs": [
    {
     "name": "stdout",
     "output_type": "stream",
     "text": [
      "False\n"
     ]
    }
   ],
   "source": [
    "print(\"K\" not in x)"
   ]
  },
  {
   "cell_type": "code",
   "execution_count": 47,
   "id": "23234d33",
   "metadata": {},
   "outputs": [
    {
     "name": "stdout",
     "output_type": "stream",
     "text": [
      "True\n"
     ]
    }
   ],
   "source": [
    "x = [1,2,3]\n",
    "print(1 in x)"
   ]
  },
  {
   "cell_type": "code",
   "execution_count": 48,
   "id": "447b41bd",
   "metadata": {},
   "outputs": [
    {
     "name": "stdout",
     "output_type": "stream",
     "text": [
      "False\n"
     ]
    }
   ],
   "source": [
    "print(5 in x)"
   ]
  },
  {
   "cell_type": "markdown",
   "id": "4ddc6fc3",
   "metadata": {},
   "source": [
    "# Conditional Statements (If-else)"
   ]
  },
  {
   "cell_type": "code",
   "execution_count": 2,
   "id": "e2fd4222",
   "metadata": {},
   "outputs": [
    {
     "name": "stdout",
     "output_type": "stream",
     "text": [
      "Enter email : mbikhan@students.uit.edu\n",
      "Enter password: 1234\n",
      "Welcome !\n"
     ]
    }
   ],
   "source": [
    "# correct-email: mbikhan@students.uit.edu\n",
    "# correct-password: 1234\n",
    "\n",
    "email = input(\"Enter email : \")\n",
    "\n",
    "if \"@\" in email:\n",
    "    password = input(\"Enter password: \")\n",
    "\n",
    "    if email == \"mbikhan@students.uit.edu\" and password == \"1234\":\n",
    "        print(\"Welcome !\")\n",
    "\n",
    "    elif email == \"mbikhan@students.uit.edu\" and password != \"1234\":\n",
    "        print(\"Password Ghalat hai!\")\n",
    "        password = input(\"Password phir se bta: \")\n",
    "\n",
    "        if password == \"1234\":\n",
    "            print(\"Finally Correct, Welcome !\")\n",
    "\n",
    "        else:\n",
    "            print(\"Abhi bhi password ghalat !\")\n",
    "\n",
    "    else:\n",
    "        print(\"Invalid credentials !\")\n",
    "    \n",
    "else:\n",
    "    print(\"Email ghalat hai !\")"
   ]
  },
  {
   "cell_type": "markdown",
   "id": "377b3e19",
   "metadata": {},
   "source": [
    "# While loop"
   ]
  },
  {
   "cell_type": "code",
   "execution_count": 12,
   "id": "07732da2",
   "metadata": {},
   "outputs": [
    {
     "name": "stdout",
     "output_type": "stream",
     "text": [
      "Enter the number: 2\n",
      "2 * 1 = 2\n",
      "2 * 2 = 4\n",
      "2 * 3 = 6\n",
      "2 * 4 = 8\n",
      "2 * 5 = 10\n",
      "2 * 6 = 12\n",
      "2 * 7 = 14\n",
      "2 * 8 = 16\n",
      "2 * 9 = 18\n",
      "2 * 10 = 20\n"
     ]
    }
   ],
   "source": [
    "number = int(input(\"Enter the number: \"))\n",
    "\n",
    "i = 1\n",
    "\n",
    "while i < 11:\n",
    "    print(number,\"*\",i,\"=\", number * i)\n",
    "    i+=1"
   ]
  },
  {
   "cell_type": "markdown",
   "id": "a00cabaf",
   "metadata": {},
   "source": [
    "# Project: Guessing Game"
   ]
  },
  {
   "cell_type": "code",
   "execution_count": 2,
   "id": "bbd01950",
   "metadata": {},
   "outputs": [
    {
     "name": "stdout",
     "output_type": "stream",
     "text": [
      "Guess the jackpot number between 1 and 10: 9\n",
      "Guess lower\n",
      "Guess again: 4\n",
      "Guess higher\n",
      "Guess again: 6\n",
      "Guess higher\n",
      "Guess again: 7\n",
      "Guess higher\n",
      "Guess again: 8\n",
      "The jackpot number was ( 8 ) You guessed it right\n",
      "You took 5 attemps\n"
     ]
    }
   ],
   "source": [
    "import random\n",
    "jackpot = random.randint(1,10)\n",
    "guess = int(input(\"Guess the jackpot number between 1 and 10: \"))\n",
    "counter = 1\n",
    "while guess != jackpot:\n",
    "    \n",
    "    if guess > jackpot:\n",
    "        print(\"Guess lower\")\n",
    "        \n",
    "    else:\n",
    "        print(\"Guess higher\")\n",
    "        \n",
    "    guess=int(input(\"Guess again: \"))\n",
    "    counter += 1\n",
    "        \n",
    "print(\"The jackpot number was (\",jackpot,\") You guessed it right\")\n",
    "print(\"You took\",counter,\"attemps\")\n"
   ]
  },
  {
   "cell_type": "markdown",
   "id": "ff73c8d8",
   "metadata": {},
   "source": [
    "# For Loop:"
   ]
  },
  {
   "cell_type": "code",
   "execution_count": 3,
   "id": "b66f02e5",
   "metadata": {},
   "outputs": [
    {
     "data": {
      "text/plain": [
       "range(1, 11)"
      ]
     },
     "execution_count": 3,
     "metadata": {},
     "output_type": "execute_result"
    }
   ],
   "source": [
    "# range() function\n",
    "range(1,11)"
   ]
  },
  {
   "cell_type": "code",
   "execution_count": 4,
   "id": "2519fc14",
   "metadata": {},
   "outputs": [
    {
     "data": {
      "text/plain": [
       "[1, 2, 3, 4, 5, 6, 7, 8, 9, 10]"
      ]
     },
     "execution_count": 4,
     "metadata": {},
     "output_type": "execute_result"
    }
   ],
   "source": [
    "list(range(1,11))"
   ]
  },
  {
   "cell_type": "code",
   "execution_count": 5,
   "id": "c6bd3e8e",
   "metadata": {},
   "outputs": [
    {
     "data": {
      "text/plain": [
       "[0, 1, 2, 3, 4]"
      ]
     },
     "execution_count": 5,
     "metadata": {},
     "output_type": "execute_result"
    }
   ],
   "source": [
    "list(range(5))"
   ]
  },
  {
   "cell_type": "code",
   "execution_count": 6,
   "id": "2ffb8a30",
   "metadata": {},
   "outputs": [
    {
     "data": {
      "text/plain": [
       "[1, 3, 5, 7, 9]"
      ]
     },
     "execution_count": 6,
     "metadata": {},
     "output_type": "execute_result"
    }
   ],
   "source": [
    "list(range(1,11,2))"
   ]
  },
  {
   "cell_type": "code",
   "execution_count": 7,
   "id": "7cf06170",
   "metadata": {},
   "outputs": [
    {
     "data": {
      "text/plain": [
       "[1, 4, 7, 10]"
      ]
     },
     "execution_count": 7,
     "metadata": {},
     "output_type": "execute_result"
    }
   ],
   "source": [
    "list(range(1,11,3))"
   ]
  },
  {
   "cell_type": "code",
   "execution_count": 9,
   "id": "07584649",
   "metadata": {},
   "outputs": [
    {
     "data": {
      "text/plain": [
       "[10, 9, 8, 7, 6, 5, 4, 3, 2, 1]"
      ]
     },
     "execution_count": 9,
     "metadata": {},
     "output_type": "execute_result"
    }
   ],
   "source": [
    "list(range(10,0,-1))"
   ]
  },
  {
   "cell_type": "code",
   "execution_count": 11,
   "id": "879bed45",
   "metadata": {},
   "outputs": [],
   "source": [
    "# sequence"
   ]
  },
  {
   "cell_type": "code",
   "execution_count": 12,
   "id": "927fe546",
   "metadata": {},
   "outputs": [
    {
     "data": {
      "text/plain": [
       "'Bilal'"
      ]
     },
     "execution_count": 12,
     "metadata": {},
     "output_type": "execute_result"
    }
   ],
   "source": [
    "\"Bilal\""
   ]
  },
  {
   "cell_type": "code",
   "execution_count": 13,
   "id": "81da97cb",
   "metadata": {},
   "outputs": [
    {
     "data": {
      "text/plain": [
       "['a', 'b', 'c']"
      ]
     },
     "execution_count": 13,
     "metadata": {},
     "output_type": "execute_result"
    }
   ],
   "source": [
    "[\"a\",\"b\",\"c\"]"
   ]
  },
  {
   "cell_type": "code",
   "execution_count": 14,
   "id": "ede7024a",
   "metadata": {},
   "outputs": [
    {
     "data": {
      "text/plain": [
       "('a', 'b', 'c')"
      ]
     },
     "execution_count": 14,
     "metadata": {},
     "output_type": "execute_result"
    }
   ],
   "source": [
    "(\"a\",\"b\",\"c\")"
   ]
  },
  {
   "cell_type": "code",
   "execution_count": 15,
   "id": "501bc0d3",
   "metadata": {},
   "outputs": [
    {
     "data": {
      "text/plain": [
       "{'a', 'b', 'c'}"
      ]
     },
     "execution_count": 15,
     "metadata": {},
     "output_type": "execute_result"
    }
   ],
   "source": [
    "{\"a\",\"b\",\"c\"}"
   ]
  },
  {
   "cell_type": "code",
   "execution_count": 16,
   "id": "1131419c",
   "metadata": {},
   "outputs": [
    {
     "name": "stdout",
     "output_type": "stream",
     "text": [
      "1\n",
      "2\n",
      "3\n",
      "4\n",
      "5\n",
      "6\n",
      "7\n",
      "8\n",
      "9\n",
      "10\n"
     ]
    }
   ],
   "source": [
    "for i in range(1,11):\n",
    "    print(i)"
   ]
  },
  {
   "cell_type": "code",
   "execution_count": 18,
   "id": "8ebb6894",
   "metadata": {},
   "outputs": [
    {
     "name": "stdout",
     "output_type": "stream",
     "text": [
      "1\n",
      "3\n",
      "5\n",
      "7\n",
      "9\n"
     ]
    }
   ],
   "source": [
    "for i in range(1,11,2):\n",
    "    print(i)"
   ]
  },
  {
   "cell_type": "code",
   "execution_count": 20,
   "id": "6a291305",
   "metadata": {},
   "outputs": [
    {
     "name": "stdout",
     "output_type": "stream",
     "text": [
      "10\n",
      "9\n",
      "8\n",
      "7\n",
      "6\n",
      "5\n",
      "4\n",
      "3\n",
      "2\n",
      "1\n"
     ]
    }
   ],
   "source": [
    "for i in range(10,0,-1):\n",
    "    print(i)"
   ]
  },
  {
   "cell_type": "code",
   "execution_count": 22,
   "id": "4b97b7ff",
   "metadata": {},
   "outputs": [
    {
     "name": "stdout",
     "output_type": "stream",
     "text": [
      "k\n",
      "a\n",
      "r\n",
      "a\n",
      "c\n",
      "h\n",
      "i\n"
     ]
    }
   ],
   "source": [
    "for i in \"karachi\":\n",
    "    print(i)"
   ]
  },
  {
   "cell_type": "code",
   "execution_count": 23,
   "id": "2a575fe9",
   "metadata": {},
   "outputs": [
    {
     "name": "stdout",
     "output_type": "stream",
     "text": [
      "1\n",
      "2\n",
      "3\n",
      "4\n",
      "5\n"
     ]
    }
   ],
   "source": [
    "for i in [1,2,3,4,5]:\n",
    "    print(i)"
   ]
  },
  {
   "cell_type": "code",
   "execution_count": 24,
   "id": "6399a0e7",
   "metadata": {},
   "outputs": [
    {
     "name": "stdout",
     "output_type": "stream",
     "text": [
      "1\n",
      "2\n",
      "3\n",
      "4\n",
      "5\n"
     ]
    }
   ],
   "source": [
    "for i in (1,2,3,4,5):\n",
    "    print(i)"
   ]
  },
  {
   "cell_type": "code",
   "execution_count": 25,
   "id": "05e53593",
   "metadata": {},
   "outputs": [
    {
     "name": "stdout",
     "output_type": "stream",
     "text": [
      "1\n",
      "2\n",
      "3\n",
      "4\n",
      "5\n"
     ]
    }
   ],
   "source": [
    "for i in {1,2,3,4,5}:\n",
    "    print(i)"
   ]
  },
  {
   "cell_type": "markdown",
   "id": "75d5b2ec",
   "metadata": {},
   "source": [
    "# Nested Loops"
   ]
  },
  {
   "cell_type": "code",
   "execution_count": 27,
   "id": "b3c78f78",
   "metadata": {},
   "outputs": [
    {
     "name": "stdout",
     "output_type": "stream",
     "text": [
      "enter number of row8\n",
      "* \n",
      "* * \n",
      "* * * \n",
      "* * * * \n",
      "* * * * * \n",
      "* * * * * * \n",
      "* * * * * * * \n",
      "* * * * * * * * \n"
     ]
    }
   ],
   "source": [
    "rows=int(input(\"enter number of row\"))\n",
    "for i in range(1,rows+1):\n",
    "    for j in range(0,i):\n",
    "        print(\"*\",end=\" \")\n",
    "    print(\"\")"
   ]
  },
  {
   "cell_type": "markdown",
   "id": "5f8a2887",
   "metadata": {},
   "source": [
    "# Break statement"
   ]
  },
  {
   "cell_type": "code",
   "execution_count": 31,
   "id": "9d395234",
   "metadata": {},
   "outputs": [
    {
     "name": "stdout",
     "output_type": "stream",
     "text": [
      "1\n",
      "2\n",
      "3\n",
      "4\n"
     ]
    }
   ],
   "source": [
    "for i in range(1,11):\n",
    "    if i == 5:\n",
    "        break\n",
    "    print(i)"
   ]
  },
  {
   "cell_type": "markdown",
   "id": "09e304da",
   "metadata": {},
   "source": [
    "# Continue statement"
   ]
  },
  {
   "cell_type": "code",
   "execution_count": 34,
   "id": "92a2de9b",
   "metadata": {},
   "outputs": [
    {
     "name": "stdout",
     "output_type": "stream",
     "text": [
      "1\n",
      "2\n",
      "3\n",
      "4\n",
      "6\n",
      "7\n",
      "8\n",
      "9\n",
      "10\n"
     ]
    }
   ],
   "source": [
    "for i in range(1,11):\n",
    "    if i == 5:\n",
    "        continue\n",
    "    print(i)"
   ]
  },
  {
   "cell_type": "markdown",
   "id": "5997d764",
   "metadata": {},
   "source": [
    "# Pass statement"
   ]
  },
  {
   "cell_type": "code",
   "execution_count": 35,
   "id": "07d442fa",
   "metadata": {},
   "outputs": [],
   "source": [
    "for i in range(1,11):\n",
    "    pass"
   ]
  },
  {
   "cell_type": "markdown",
   "id": "5c6ab998",
   "metadata": {},
   "source": [
    "# Built-in Functions"
   ]
  },
  {
   "cell_type": "markdown",
   "id": "214bc5c3",
   "metadata": {},
   "source": [
    "### print"
   ]
  },
  {
   "cell_type": "code",
   "execution_count": 36,
   "id": "af54b493",
   "metadata": {},
   "outputs": [
    {
     "name": "stdout",
     "output_type": "stream",
     "text": [
      "Hello World\n"
     ]
    }
   ],
   "source": [
    "print(\"Hello World\")"
   ]
  },
  {
   "cell_type": "markdown",
   "id": "e4c3154b",
   "metadata": {},
   "source": [
    "### input"
   ]
  },
  {
   "cell_type": "code",
   "execution_count": 37,
   "id": "ca397e93",
   "metadata": {},
   "outputs": [
    {
     "name": "stdout",
     "output_type": "stream",
     "text": [
      "enter your namebilal\n"
     ]
    },
    {
     "data": {
      "text/plain": [
       "'bilal'"
      ]
     },
     "execution_count": 37,
     "metadata": {},
     "output_type": "execute_result"
    }
   ],
   "source": [
    "input(\"enter your name\")"
   ]
  },
  {
   "cell_type": "markdown",
   "id": "b681c714",
   "metadata": {},
   "source": [
    "### type"
   ]
  },
  {
   "cell_type": "code",
   "execution_count": 39,
   "id": "71dcc2ec",
   "metadata": {},
   "outputs": [
    {
     "data": {
      "text/plain": [
       "float"
      ]
     },
     "execution_count": 39,
     "metadata": {},
     "output_type": "execute_result"
    }
   ],
   "source": [
    "a=3.5\n",
    "type(a)"
   ]
  },
  {
   "cell_type": "markdown",
   "id": "b2104a04",
   "metadata": {},
   "source": [
    "### int,str etc"
   ]
  },
  {
   "cell_type": "code",
   "execution_count": 40,
   "id": "b63bcb50",
   "metadata": {},
   "outputs": [
    {
     "data": {
      "text/plain": [
       "5"
      ]
     },
     "execution_count": 40,
     "metadata": {},
     "output_type": "execute_result"
    }
   ],
   "source": [
    "int(\"5\")\n",
    "# float\n",
    "# tr\n",
    "# ist\n",
    "# tuple"
   ]
  },
  {
   "cell_type": "markdown",
   "id": "4bdb47b0",
   "metadata": {},
   "source": [
    "### abs"
   ]
  },
  {
   "cell_type": "code",
   "execution_count": 41,
   "id": "971d4d14",
   "metadata": {},
   "outputs": [
    {
     "data": {
      "text/plain": [
       "2"
      ]
     },
     "execution_count": 41,
     "metadata": {},
     "output_type": "execute_result"
    }
   ],
   "source": [
    "abs(-2)"
   ]
  },
  {
   "cell_type": "markdown",
   "id": "74ac6ff6",
   "metadata": {},
   "source": [
    "### pow"
   ]
  },
  {
   "cell_type": "code",
   "execution_count": 42,
   "id": "cde929ca",
   "metadata": {},
   "outputs": [
    {
     "data": {
      "text/plain": [
       "8"
      ]
     },
     "execution_count": 42,
     "metadata": {},
     "output_type": "execute_result"
    }
   ],
   "source": [
    "pow(2,3)"
   ]
  },
  {
   "cell_type": "markdown",
   "id": "6cebf81e",
   "metadata": {},
   "source": [
    "### min/max"
   ]
  },
  {
   "cell_type": "code",
   "execution_count": 43,
   "id": "b66f5808",
   "metadata": {},
   "outputs": [
    {
     "data": {
      "text/plain": [
       "1"
      ]
     },
     "execution_count": 43,
     "metadata": {},
     "output_type": "execute_result"
    }
   ],
   "source": [
    "min([3,7,1,9])"
   ]
  },
  {
   "cell_type": "code",
   "execution_count": 44,
   "id": "bf4b80cb",
   "metadata": {},
   "outputs": [
    {
     "data": {
      "text/plain": [
       "9"
      ]
     },
     "execution_count": 44,
     "metadata": {},
     "output_type": "execute_result"
    }
   ],
   "source": [
    "max([3,7,1,9])"
   ]
  },
  {
   "cell_type": "markdown",
   "id": "802f7f98",
   "metadata": {},
   "source": [
    "### round"
   ]
  },
  {
   "cell_type": "code",
   "execution_count": 49,
   "id": "b89319bd",
   "metadata": {},
   "outputs": [
    {
     "name": "stdout",
     "output_type": "stream",
     "text": [
      "3.142857142857143\n"
     ]
    },
    {
     "data": {
      "text/plain": [
       "3.143"
      ]
     },
     "execution_count": 49,
     "metadata": {},
     "output_type": "execute_result"
    }
   ],
   "source": [
    "c=22/7\n",
    "print(c)\n",
    "round(c,3)"
   ]
  },
  {
   "cell_type": "markdown",
   "id": "27fc20cb",
   "metadata": {},
   "source": [
    "### divmod"
   ]
  },
  {
   "cell_type": "code",
   "execution_count": 50,
   "id": "acb908c5",
   "metadata": {},
   "outputs": [
    {
     "data": {
      "text/plain": [
       "(2, 1)"
      ]
     },
     "execution_count": 50,
     "metadata": {},
     "output_type": "execute_result"
    }
   ],
   "source": [
    "divmod(5,2)"
   ]
  },
  {
   "cell_type": "markdown",
   "id": "c7a9172a",
   "metadata": {},
   "source": [
    "### id"
   ]
  },
  {
   "cell_type": "code",
   "execution_count": 54,
   "id": "9d41504c",
   "metadata": {},
   "outputs": [
    {
     "data": {
      "text/plain": [
       "1757899155824"
      ]
     },
     "execution_count": 54,
     "metadata": {},
     "output_type": "execute_result"
    }
   ],
   "source": [
    "a=3\n",
    "id(a)"
   ]
  },
  {
   "cell_type": "markdown",
   "id": "71362a5b",
   "metadata": {},
   "source": [
    "### bin/oct/hex"
   ]
  },
  {
   "cell_type": "code",
   "execution_count": 51,
   "id": "462c4d95",
   "metadata": {},
   "outputs": [
    {
     "data": {
      "text/plain": [
       "'0b100'"
      ]
     },
     "execution_count": 51,
     "metadata": {},
     "output_type": "execute_result"
    }
   ],
   "source": [
    "bin(4)"
   ]
  },
  {
   "cell_type": "code",
   "execution_count": 52,
   "id": "a8e24b32",
   "metadata": {},
   "outputs": [
    {
     "data": {
      "text/plain": [
       "'0o4'"
      ]
     },
     "execution_count": 52,
     "metadata": {},
     "output_type": "execute_result"
    }
   ],
   "source": [
    "oct(4)"
   ]
  },
  {
   "cell_type": "code",
   "execution_count": 53,
   "id": "a6626a13",
   "metadata": {},
   "outputs": [
    {
     "data": {
      "text/plain": [
       "'0x4'"
      ]
     },
     "execution_count": 53,
     "metadata": {},
     "output_type": "execute_result"
    }
   ],
   "source": [
    "hex(4)"
   ]
  },
  {
   "cell_type": "markdown",
   "id": "c5c95ec4",
   "metadata": {},
   "source": [
    "### ord"
   ]
  },
  {
   "cell_type": "code",
   "execution_count": 55,
   "id": "5284fba4",
   "metadata": {},
   "outputs": [
    {
     "data": {
      "text/plain": [
       "65"
      ]
     },
     "execution_count": 55,
     "metadata": {},
     "output_type": "execute_result"
    }
   ],
   "source": [
    "# ASCII codes\n",
    "ord(\"A\")"
   ]
  },
  {
   "cell_type": "markdown",
   "id": "b596abe9",
   "metadata": {},
   "source": [
    "### len"
   ]
  },
  {
   "cell_type": "code",
   "execution_count": 56,
   "id": "06541bc9",
   "metadata": {},
   "outputs": [
    {
     "data": {
      "text/plain": [
       "4"
      ]
     },
     "execution_count": 56,
     "metadata": {},
     "output_type": "execute_result"
    }
   ],
   "source": [
    "len([2,3,1,5])"
   ]
  },
  {
   "cell_type": "markdown",
   "id": "bfb5f14b",
   "metadata": {},
   "source": [
    "### sum"
   ]
  },
  {
   "cell_type": "code",
   "execution_count": 57,
   "id": "2f8d508f",
   "metadata": {},
   "outputs": [
    {
     "data": {
      "text/plain": [
       "15"
      ]
     },
     "execution_count": 57,
     "metadata": {},
     "output_type": "execute_result"
    }
   ],
   "source": [
    "sum([1,2,3,4,5])"
   ]
  },
  {
   "cell_type": "code",
   "execution_count": 59,
   "id": "3c5d51ca",
   "metadata": {},
   "outputs": [
    {
     "data": {
      "text/plain": [
       "15"
      ]
     },
     "execution_count": 59,
     "metadata": {},
     "output_type": "execute_result"
    }
   ],
   "source": [
    "sum({1,2,3,4,5})"
   ]
  },
  {
   "cell_type": "markdown",
   "id": "0bf95b97",
   "metadata": {},
   "source": [
    "### help"
   ]
  },
  {
   "cell_type": "code",
   "execution_count": 60,
   "id": "4397738d",
   "metadata": {},
   "outputs": [
    {
     "name": "stdout",
     "output_type": "stream",
     "text": [
      "Help on built-in function print in module builtins:\n",
      "\n",
      "print(...)\n",
      "    print(value, ..., sep=' ', end='\\n', file=sys.stdout, flush=False)\n",
      "    \n",
      "    Prints the values to a stream, or to sys.stdout by default.\n",
      "    Optional keyword arguments:\n",
      "    file:  a file-like object (stream); defaults to the current sys.stdout.\n",
      "    sep:   string inserted between values, default a space.\n",
      "    end:   string appended after the last value, default a newline.\n",
      "    flush: whether to forcibly flush the stream.\n",
      "\n"
     ]
    }
   ],
   "source": [
    "help(\"print\")"
   ]
  },
  {
   "cell_type": "markdown",
   "id": "10d1c7a2",
   "metadata": {},
   "source": [
    "# Built-in modules"
   ]
  },
  {
   "cell_type": "markdown",
   "id": "1184c751",
   "metadata": {},
   "source": [
    "Consider a module to be the same as a code library.\n",
    "A file containing a set of functions you want to include in your application.<br>\n",
    "Examples of python modules<br>\n",
    "- Math\n",
    "- Random\n",
    "- os\n",
    "- time"
   ]
  },
  {
   "cell_type": "code",
   "execution_count": 61,
   "id": "da9cc113",
   "metadata": {},
   "outputs": [
    {
     "name": "stdout",
     "output_type": "stream",
     "text": [
      "\n",
      "Please wait a moment while I gather a list of all available modules...\n",
      "\n"
     ]
    },
    {
     "name": "stderr",
     "output_type": "stream",
     "text": [
      "C:\\Users\\HP\\anaconda3\\lib\\site-packages\\IPython\\kernel\\__init__.py:12: ShimWarning: The `IPython.kernel` package has been deprecated since IPython 4.0.You should import from ipykernel or jupyter_client instead.\n",
      "  warn(\"The `IPython.kernel` package has been deprecated since IPython 4.0.\"\n",
      "WARNING: AstropyDeprecationWarning: The private astropy._erfa module has been made into its own package, pyerfa, which is a dependency of astropy and can be imported directly using \"import erfa\" [astropy._erfa]\n",
      "C:\\Users\\HP\\anaconda3\\lib\\site-packages\\paramiko\\transport.py:219: CryptographyDeprecationWarning: Blowfish has been deprecated\n",
      "  \"class\": algorithms.Blowfish,\n",
      "C:\\Users\\HP\\anaconda3\\lib\\site-packages\\nltk\\twitter\\__init__.py:20: UserWarning: The twython library has not been installed. Some functionality from the twitter package will not be available.\n",
      "  warnings.warn(\n",
      "C:\\Users\\HP\\anaconda3\\lib\\pkgutil.py:93: UserWarning: The numpy.array_api submodule is still experimental. See NEP 47.\n",
      "  __import__(info.name)\n",
      "C:\\Users\\HP\\anaconda3\\lib\\site-packages\\_distutils_hack\\__init__.py:33: UserWarning: Setuptools is replacing distutils.\n",
      "  warnings.warn(\"Setuptools is replacing distutils.\")\n",
      "No QCoreApplication instance found. Application patches not applied. You have to call load_stylesheet function after instantiation of QApplication to take effect. \n",
      "C:\\Users\\HP\\anaconda3\\lib\\site-packages\\torch\\distributed\\_shard\\checkpoint\\__init__.py:8: DeprecationWarning:\n",
      "\n",
      "torch.distributed._shard.checkpoint will be deprecated, use torch.distributed.checkpoint instead\n",
      "\n",
      "C:\\Users\\HP\\anaconda3\\lib\\site-packages\\torch\\distributed\\_sharded_tensor\\__init__.py:8: DeprecationWarning:\n",
      "\n",
      "torch.distributed._sharded_tensor will be deprecated, use torch.distributed._shard.sharded_tensor instead\n",
      "\n",
      "C:\\Users\\HP\\anaconda3\\lib\\site-packages\\torch\\distributed\\_sharding_spec\\__init__.py:8: DeprecationWarning:\n",
      "\n",
      "torch.distributed._sharding_spec will be deprecated, use torch.distributed._shard.sharding_spec instead\n",
      "\n",
      "NOTE: Redirects are currently not supported in Windows or MacOs.\n",
      "C:\\Users\\HP\\anaconda3\\lib\\site-packages\\torchaudio\\backend\\utils.py:74: UserWarning:\n",
      "\n",
      "No audio backend is available.\n",
      "\n",
      "C:\\Users\\HP\\anaconda3\\lib\\site-packages\\torchvision\\transforms\\_functional_pil.py:242: DeprecationWarning:\n",
      "\n",
      "BILINEAR is deprecated and will be removed in Pillow 10 (2023-07-01). Use Resampling.BILINEAR instead.\n",
      "\n",
      "C:\\Users\\HP\\anaconda3\\lib\\site-packages\\torchvision\\transforms\\_functional_pil.py:286: DeprecationWarning:\n",
      "\n",
      "NEAREST is deprecated and will be removed in Pillow 10 (2023-07-01). Use Resampling.NEAREST or Dither.NONE instead.\n",
      "\n",
      "C:\\Users\\HP\\anaconda3\\lib\\site-packages\\torchvision\\transforms\\_functional_pil.py:319: DeprecationWarning:\n",
      "\n",
      "BICUBIC is deprecated and will be removed in Pillow 10 (2023-07-01). Use Resampling.BICUBIC instead.\n",
      "\n",
      "C:\\Users\\HP\\anaconda3\\lib\\site-packages\\torchvision\\datapoints\\__init__.py:12: UserWarning:\n",
      "\n",
      "The torchvision.datapoints and torchvision.transforms.v2 namespaces are still Beta. While we do not expect major breaking changes, some APIs may still change according to user feedback. Please submit any feedback you may have in this issue: https://github.com/pytorch/vision/issues/6753, and you can also check out https://github.com/pytorch/vision/issues/7319 to learn more about the APIs that we suspect might involve future changes. You can silence this warning by calling torchvision.disable_beta_transforms_warning().\n",
      "\n",
      "C:\\Users\\HP\\anaconda3\\lib\\site-packages\\torchvision\\transforms\\v2\\__init__.py:54: UserWarning:\n",
      "\n",
      "The torchvision.datapoints and torchvision.transforms.v2 namespaces are still Beta. While we do not expect major breaking changes, some APIs may still change according to user feedback. Please submit any feedback you may have in this issue: https://github.com/pytorch/vision/issues/6753, and you can also check out https://github.com/pytorch/vision/issues/7319 to learn more about the APIs that we suspect might involve future changes. You can silence this warning by calling torchvision.disable_beta_transforms_warning().\n",
      "\n",
      "\u001b[31m\u001b[1mrequirements:\u001b[0m Ultralytics requirement ['lapx>=0.5.2'] not found, attempting AutoUpdate...\n",
      "Collecting lapx>=0.5.2\n",
      "  Downloading lapx-0.5.4-cp39-cp39-win_amd64.whl (1.5 MB)\n",
      "     ---------------------------------------- 1.5/1.5 MB 75.8 kB/s eta 0:00:00\n",
      "Requirement already satisfied: Cython>=0.29.32 in c:\\users\\hp\\anaconda3\\lib\\site-packages (from lapx>=0.5.2) (0.29.32)\n",
      "Requirement already satisfied: numpy>=1.21.6 in c:\\users\\hp\\anaconda3\\lib\\site-packages (from lapx>=0.5.2) (1.24.3)\n",
      "Installing collected packages: lapx\n",
      "Successfully installed lapx-0.5.4\n",
      "\n",
      "\u001b[31m\u001b[1mrequirements:\u001b[0m AutoUpdate success  38.3s, installed 1 package: ['lapx>=0.5.2']\n",
      "\u001b[31m\u001b[1mrequirements:\u001b[0m  \u001b[1mRestart runtime or rerun command for updates to take effect\u001b[0m\n",
      "\n",
      "WARNING  'ultralytics.yolo.v8' is deprecated since '8.0.136' and will be removed in '8.1.0'. Please use 'ultralytics.models.yolo' instead.\n",
      "WARNING  'ultralytics.yolo.cfg' is deprecated since '8.0.136' and will be removed in '8.1.0'. Please use 'ultralytics.cfg' instead.\n",
      "WARNING  'ultralytics.yolo.data' is deprecated since '8.0.136' and will be removed in '8.1.0'. Please use 'ultralytics.data' instead.\n",
      "Note this warning may be related to loading older models. You can update your model to current structure with:\n",
      "    import torch\n",
      "    ckpt = torch.load(\"model.pt\")  # applies to both official and custom models\n",
      "    torch.save(ckpt, \"updated-model.pt\")\n",
      "\n",
      "WARNING  'ultralytics.yolo.engine' is deprecated since '8.0.136' and will be removed in '8.1.0'. Please use 'ultralytics.engine' instead.\n",
      "WARNING  'ultralytics.yolo.utils' is deprecated since '8.0.136' and will be removed in '8.1.0'. Please use 'ultralytics.utils' instead.\n",
      "Note this warning may be related to loading older models. You can update your model to current structure with:\n",
      "    import torch\n",
      "    ckpt = torch.load(\"model.pt\")  # applies to both official and custom models\n",
      "    torch.save(ckpt, \"updated-model.pt\")\n",
      "\n",
      "C:\\Users\\HP\\anaconda3\\lib\\pkgutil.py:108: VisibleDeprecationWarning:\n",
      "\n",
      "zmq.eventloop.minitornado is deprecated in pyzmq 14.0 and will be removed.\n",
      "    Install tornado itself to use zmq with the tornado IOLoop.\n",
      "    \n",
      "\n"
     ]
    },
    {
     "name": "stdout",
     "output_type": "stream",
     "text": [
      "Cython              conda_content_trust mpmath              sortedcontainers\n",
      "IPython             conda_env           msgpack             soupsieve\n",
      "OpenSSL             conda_pack          msilib              sphinx\n",
      "PIL                 conda_package_handling msvcrt              spyder\n",
      "PyQt5               conda_token         multipledispatch    spyder_kernels\n",
      "TBB                 conda_verify        multiprocessing     sqlalchemy\n",
      "__future__          configparser        munkres             sqlite3\n",
      "_abc                constantly          mypy_extensions     sre_compile\n",
      "_aix_support        contextlib          nacl                sre_constants\n",
      "_argon2_cffi_bindings contextvars         navigator_updater   sre_parse\n",
      "_ast                cookiecutter        nbclassic           ssl\n",
      "_asyncio            copy                nbclient            sspi\n",
      "_bisect             copyreg             nbconvert           sspicon\n",
      "_black_version      crypt               nbformat            stat\n",
      "_blake2             cryptography        nest_asyncio        statistics\n",
      "_bootlocale         cssselect           netbios             statsmodels\n",
      "_bootsubprocess     csv                 netrc               storemagic\n",
      "_bz2                ctypes              networkx            string\n",
      "_cffi_backend       curl                nltk                stringprep\n",
      "_codecs             curses              nntplib             struct\n",
      "_codecs_cn          cv2                 nose                subprocess\n",
      "_codecs_hk          cwp                 notebook            sunau\n",
      "_codecs_iso2022     cycler              nt                  symbol\n",
      "_codecs_jp          cython              ntpath              sympy\n",
      "_codecs_kr          cythonmagic         ntsecuritycon       sympyprinting\n",
      "_codecs_tw          cytoolz             nturl2path          symtable\n",
      "_collections        daal4py             numba               sys\n",
      "_collections_abc    dask                numbergen           sysconfig\n",
      "_compat_pickle      dataclasses         numbers             tables\n",
      "_compression        datashader          numexpr             tabnanny\n",
      "_contextvars        datashape           numpy               tabulate\n",
      "_csv                datetime            numpydoc            tarfile\n",
      "_ctypes             dateutil            nvfuser             tbb\n",
      "_ctypes_test        dbi                 oauthlib            tblib\n",
      "_datetime           dbm                 odbc                telnetlib\n",
      "_decimal            dde                 olefile             tempfile\n",
      "_distutils_hack     debugpy             onedal              tenacity\n",
      "_elementtree        decimal             opcode              tensorboard\n",
      "_functools          decorator           openpyxl            tensorboard_data_server\n",
      "_hashlib            defusedxml          operator            tensorflow\n",
      "_heapq              diff_match_patch    opt_einsum          tensorflow_estimator\n",
      "_imp                difflib             optparse            tensorflow_io_gcs_filesystem\n",
      "_io                 dill                os                  termcolor\n",
      "_json               dis                 packaging           terminado\n",
      "_locale             distributed         pandas              test\n",
      "_lsprof             distutils           pandocfilters       test_pycosat\n",
      "_lzma               doctest             panel               testpath\n",
      "_markupbase         docutils            param               tests\n",
      "_md5                email               paramiko            text_unidecode\n",
      "_msi                encodings           parsel              textdistance\n",
      "_multibytecodec     ensurepip           parser              textwrap\n",
      "_multiprocessing    entrypoints         parso               this\n",
      "_nsis               enum                partd               thop\n",
      "_opcode             erfa                past                threading\n",
      "_operator           errno               pasta               threadpoolctl\n",
      "_osx_support        et_xmlfile          pathlib             three_merge\n",
      "_overlapped         fastjsonschema      pathspec            tifffile\n",
      "_peg_parser         faulthandler        patsy               time\n",
      "_pickle             filecmp             pdb                 timeit\n",
      "_plotly_future_     fileinput           pep8                timer\n",
      "_plotly_utils       filelock            perfmon             tinycss\n",
      "_py_abc             flake8              pexpect             tkinter\n",
      "_pydecimal          flask               pickle              tldextract\n",
      "_pyio               flatbuffers         pickleshare         tlz\n",
      "_pyrsistent_version fnmatch             pickletools         token\n",
      "_pytest             fontTools           pip                 tokenize\n",
      "_queue              formatter           pipes               toml\n",
      "_random             fractions           pkg_resources       tomli\n",
      "_sha1               fsspec              pkginfo             tomlkit\n",
      "_sha256             ftplib              pkgutil             toolz\n",
      "_sha3               functools           platform            torch\n",
      "_sha512             functorch           platformdirs        torchaudio\n",
      "_signal             future              plistlib            torchgen\n",
      "_sitebuiltins       gast                plotly              torchvision\n",
      "_socket             gc                  pluggy              tornado\n",
      "_sqlite3            genericpath         poplib              tqdm\n",
      "_sre                gensim              posixpath           trace\n",
      "_ssl                getopt              poyo                traceback\n",
      "_stat               getpass             pprint              tracemalloc\n",
      "_statistics         gettext             profile             traitlets\n",
      "_string             git                 prometheus_client   tty\n",
      "_strptime           gitdb               prompt_toolkit      turtle\n",
      "_struct             glob                protego             turtledemo\n",
      "_symtable           glob2               pstats              twisted\n",
      "_system_path        google_auth_oauthlib psutil              types\n",
      "_testbuffer         graphlib            pty                 typing\n",
      "_testcapi           greenlet            ptyprocess          typing_extensions\n",
      "_testconsole        grpc                pvectorc            ujson\n",
      "_testimportmultiple gzip                py                  ultralytics\n",
      "_testinternalcapi   h5py                py_compile          unicodedata\n",
      "_testmultiphase     hamcrest            pyasn1              unidecode\n",
      "_thread             hashlib             pyasn1_modules      unittest\n",
      "_threading_local    heapdict            pyclbr              urllib\n",
      "_tkinter            heapq               pycodestyle         urllib3\n",
      "_tracemalloc        hmac                pycosat             uu\n",
      "_uuid               holoviews           pycparser           uuid\n",
      "_warnings           html                pyct                venv\n",
      "_weakref            http                pycurl              w3lib\n",
      "_weakrefset         hvplot              pydispatch          warnings\n",
      "_win32sysloader     hyperlink           pydoc               watchdog\n",
      "_winapi             idlelib             pydoc_data          wave\n",
      "_winxptheme         idna                pydocstyle          wcwidth\n",
      "_xxsubinterpreters  imagecodecs         pyexpat             weakref\n",
      "_yaml               imageio             pyflakes            webbrowser\n",
      "_zoneinfo           imagesize           pygments            webencodings\n",
      "abc                 imaplib             pylab               websocket\n",
      "absl                imghdr              pylint              werkzeug\n",
      "adodbapi            imp                 pyls_spyder         wheel\n",
      "afxres              importlib           pylsp               widgetsnbextension\n",
      "aifc                importlib_metadata  pylsp_black         win2kras\n",
      "alabaster           incremental         pylsp_jsonrpc       win32api\n",
      "anaconda_navigator  inflection          pyodbc              win32clipboard\n",
      "anaconda_project    iniconfig           pyparsing           win32com\n",
      "antigravity         inspect             pyrsistent          win32con\n",
      "anyio               intake              pytest              win32console\n",
      "appdirs             intervaltree        pythoncom           win32cred\n",
      "argon2              io                  pytz                win32crypt\n",
      "argparse            ipaddress           pyviz_comms         win32cryptcon\n",
      "array               ipykernel           pywin               win32ctypes\n",
      "arrow               ipykernel_launcher  pywin32_bootstrap   win32event\n",
      "ast                 ipython_genutils    pywin32_testutil    win32evtlog\n",
      "astroid             ipywidgets          pywintypes          win32evtlogutil\n",
      "astropy             isapi               pywt                win32file\n",
      "astunparse          isort               pyximport           win32gui\n",
      "asynchat            isympy              qdarkstyle          win32gui_struct\n",
      "asyncio             itemadapter         qstylizer           win32help\n",
      "asyncore            itemloaders         qtawesome           win32inet\n",
      "atexit              itertools           qtconsole           win32inetcon\n",
      "atomicwrites        itsdangerous        qtpy                win32job\n",
      "attr                jdcal               queue               win32lz\n",
      "attrs               jedi                queuelib            win32net\n",
      "audioop             jellyfish           quopri              win32netcon\n",
      "automat             jinja2              random              win32pdh\n",
      "autopep8            jinja2_time         rasutil             win32pdhquery\n",
      "autoreload          jmespath            re                  win32pdhutil\n",
      "babel               joblib              regcheck            win32pipe\n",
      "backcall            json                regex               win32print\n",
      "backports           json5               regutil             win32process\n",
      "base64              jsonschema          repo_cli            win32profile\n",
      "bcrypt              jupyter             reprlib             win32ras\n",
      "bdb                 jupyter_client      requests            win32rcparser\n",
      "binaryornot         jupyter_console     requests_file       win32security\n",
      "binascii            jupyter_core        requests_oauthlib   win32service\n",
      "binhex              jupyter_server      rlcompleter         win32serviceutil\n",
      "binstar_client      jupyterlab          rmagic              win32timezone\n",
      "bisect              jupyterlab_plotly   rope                win32trace\n",
      "bitarray            jupyterlab_pygments rsa                 win32traceutil\n",
      "bkcharts            jupyterlab_server   rtree               win32transaction\n",
      "black               jupyterlab_widgets  ruamel_yaml         win32ts\n",
      "blackd              jwt                 run                 win32ui\n",
      "bleach              keras               runpy               win32uiole\n",
      "blib2to3            keyring             s3transfer          win32verstamp\n",
      "bokeh               keyword             sched               win32wnet\n",
      "boto3               kiwisolver          scipy               win_inet_pton\n",
      "botocore            lap                 scrapy              win_unicode_console\n",
      "bottleneck          lazy_object_proxy   seaborn             wincertstore\n",
      "brotli              lib2to3             secrets             winerror\n",
      "bs4                 libarchive          select              winioctlcon\n",
      "builtins            libfuturize         selectors           winnt\n",
      "bz2                 libpasteurize       send2trash          winperf\n",
      "cProfile            lief                service_identity    winpty\n",
      "cachetools          linecache           servicemanager      winreg\n",
      "calendar            llvmlite            setuptools          winsound\n",
      "certifi             locale              shelve              winxpgui\n",
      "cffi                locket              shlex               winxptheme\n",
      "cgi                 logging             shutil              wrapt\n",
      "cgitb               lxml                signal              wsgiref\n",
      "chardet             lz4                 sip                 xarray\n",
      "charset_normalizer  lzma                sipconfig           xdrlib\n",
      "chunk               mailbox             sipdistutils        xlrd\n",
      "clang               mailcap             site                xlsxwriter\n",
      "click               markdown            six                 xlwings\n",
      "cloudpickle         markupsafe          skimage             xml\n",
      "clyent              marshal             sklearn             xmlrpc\n",
      "cmath               math                sklearnex           xxsubtype\n",
      "cmd                 matplotlib          slugify             yaml\n",
      "code                matplotlib_inline   smart_open          yapf\n",
      "codecs              mccabe              smmap               yapftests\n",
      "codeop              menuinst            smtpd               zict\n",
      "collections         mimetypes           smtplib             zipapp\n",
      "colorama            mistune             snappy              zipfile\n",
      "colorcet            mkl                 sndhdr              zipimport\n",
      "colorsys            mkl_fft             sniffio             zipp\n",
      "commctrl            mkl_random          snowballstemmer     zlib\n",
      "compileall          mmap                socket              zmq\n",
      "comtypes            mmapfile            socketserver        zoneinfo\n",
      "concurrent          mmsystem            socks               zope\n",
      "conda               mock                sockshandler        ~umpy\n",
      "conda_build         modulefinder        sortedcollections   \n",
      "\n",
      "Enter any module name to get more help.  Or, type \"modules spam\" to search\n",
      "for modules whose name or summary contain the string \"spam\".\n",
      "\n"
     ]
    },
    {
     "name": "stderr",
     "output_type": "stream",
     "text": [
      "C:\\Users\\HP\\anaconda3\\lib\\site-packages\\Pythonwin\\pywin\\scintilla\\view.py:818: ResourceWarning:\n",
      "\n",
      "unclosed file <_io.TextIOWrapper name='C:\\\\Users\\\\HP\\\\anaconda3\\\\lib\\\\site-packages\\\\Pythonwin\\\\pywin\\\\default.cfg' mode='r' encoding='cp1252'>\n",
      "\n"
     ]
    }
   ],
   "source": [
    "help(\"modules\")"
   ]
  },
  {
   "cell_type": "code",
   "execution_count": null,
   "id": "ee46c2f4",
   "metadata": {},
   "outputs": [],
   "source": [
    "# math module"
   ]
  },
  {
   "cell_type": "code",
   "execution_count": 66,
   "id": "e59c011e",
   "metadata": {},
   "outputs": [],
   "source": [
    "import math"
   ]
  },
  {
   "cell_type": "code",
   "execution_count": 67,
   "id": "46938bff",
   "metadata": {},
   "outputs": [
    {
     "data": {
      "text/plain": [
       "6"
      ]
     },
     "execution_count": 67,
     "metadata": {},
     "output_type": "execute_result"
    }
   ],
   "source": [
    "math.ceil(5.8)"
   ]
  },
  {
   "cell_type": "code",
   "execution_count": 68,
   "id": "38450dd3",
   "metadata": {},
   "outputs": [
    {
     "data": {
      "text/plain": [
       "2.718281828459045"
      ]
     },
     "execution_count": 68,
     "metadata": {},
     "output_type": "execute_result"
    }
   ],
   "source": [
    "math.e"
   ]
  },
  {
   "cell_type": "code",
   "execution_count": 69,
   "id": "aee7b96e",
   "metadata": {},
   "outputs": [
    {
     "data": {
      "text/plain": [
       "120"
      ]
     },
     "execution_count": 69,
     "metadata": {},
     "output_type": "execute_result"
    }
   ],
   "source": [
    "math.factorial(5)"
   ]
  },
  {
   "cell_type": "code",
   "execution_count": 72,
   "id": "b9056dcd",
   "metadata": {},
   "outputs": [
    {
     "data": {
      "text/plain": [
       "5"
      ]
     },
     "execution_count": 72,
     "metadata": {},
     "output_type": "execute_result"
    }
   ],
   "source": [
    "math.floor(5.4)"
   ]
  },
  {
   "cell_type": "code",
   "execution_count": 73,
   "id": "bcc4fdd3",
   "metadata": {},
   "outputs": [
    {
     "data": {
      "text/plain": [
       "3.141592653589793"
      ]
     },
     "execution_count": 73,
     "metadata": {},
     "output_type": "execute_result"
    }
   ],
   "source": [
    "math.pi"
   ]
  },
  {
   "cell_type": "code",
   "execution_count": 74,
   "id": "f4595eb4",
   "metadata": {},
   "outputs": [
    {
     "data": {
      "text/plain": [
       "10.0"
      ]
     },
     "execution_count": 74,
     "metadata": {},
     "output_type": "execute_result"
    }
   ],
   "source": [
    "math.sqrt(100)"
   ]
  },
  {
   "cell_type": "code",
   "execution_count": 75,
   "id": "071df582",
   "metadata": {},
   "outputs": [],
   "source": [
    "# random module"
   ]
  },
  {
   "cell_type": "code",
   "execution_count": 76,
   "id": "40226d61",
   "metadata": {},
   "outputs": [],
   "source": [
    "import random"
   ]
  },
  {
   "cell_type": "code",
   "execution_count": 80,
   "id": "36a4be9a",
   "metadata": {},
   "outputs": [
    {
     "data": {
      "text/plain": [
       "65"
      ]
     },
     "execution_count": 80,
     "metadata": {},
     "output_type": "execute_result"
    }
   ],
   "source": [
    "random.randint(1,100)"
   ]
  },
  {
   "cell_type": "code",
   "execution_count": 90,
   "id": "5232b41e",
   "metadata": {},
   "outputs": [
    {
     "data": {
      "text/plain": [
       "[5, 3, 1, 2, 4]"
      ]
     },
     "execution_count": 90,
     "metadata": {},
     "output_type": "execute_result"
    }
   ],
   "source": [
    "a=[1,2,3,4,5]\n",
    "random.shuffle(a)\n",
    "a"
   ]
  },
  {
   "cell_type": "code",
   "execution_count": 91,
   "id": "b08db202",
   "metadata": {},
   "outputs": [],
   "source": [
    "# time module"
   ]
  },
  {
   "cell_type": "code",
   "execution_count": 92,
   "id": "6155e658",
   "metadata": {},
   "outputs": [],
   "source": [
    "import time"
   ]
  },
  {
   "cell_type": "code",
   "execution_count": 98,
   "id": "768fb1c0",
   "metadata": {},
   "outputs": [
    {
     "data": {
      "text/plain": [
       "1695286297.5691726"
      ]
     },
     "execution_count": 98,
     "metadata": {},
     "output_type": "execute_result"
    }
   ],
   "source": [
    "time.time()"
   ]
  },
  {
   "cell_type": "code",
   "execution_count": 99,
   "id": "8f1327dc",
   "metadata": {},
   "outputs": [
    {
     "data": {
      "text/plain": [
       "'Thu Sep 21 13:52:20 2023'"
      ]
     },
     "execution_count": 99,
     "metadata": {},
     "output_type": "execute_result"
    }
   ],
   "source": [
    "time.ctime()"
   ]
  },
  {
   "cell_type": "code",
   "execution_count": 103,
   "id": "319e748a",
   "metadata": {},
   "outputs": [
    {
     "name": "stdout",
     "output_type": "stream",
     "text": [
      "Hello\n",
      "World\n"
     ]
    }
   ],
   "source": [
    "print(\"Hello\")\n",
    "time.sleep(2)\n",
    "print(\"World\")"
   ]
  },
  {
   "cell_type": "code",
   "execution_count": 104,
   "id": "cef9d108",
   "metadata": {},
   "outputs": [],
   "source": [
    "# os module"
   ]
  },
  {
   "cell_type": "code",
   "execution_count": 105,
   "id": "be0920af",
   "metadata": {},
   "outputs": [],
   "source": [
    "import os"
   ]
  },
  {
   "cell_type": "code",
   "execution_count": 106,
   "id": "48fffb78",
   "metadata": {},
   "outputs": [
    {
     "data": {
      "text/plain": [
       "'C:\\\\Users\\\\HP\\\\Desktop\\\\Python Learning'"
      ]
     },
     "execution_count": 106,
     "metadata": {},
     "output_type": "execute_result"
    }
   ],
   "source": [
    "os.getcwd()"
   ]
  },
  {
   "cell_type": "code",
   "execution_count": 107,
   "id": "7494a339",
   "metadata": {},
   "outputs": [
    {
     "data": {
      "text/plain": [
       "['.ipynb_checkpoints',\n",
       " 'Books',\n",
       " 'Certifications',\n",
       " 'Interview Questions',\n",
       " 'Notes',\n",
       " 'Object Oriented Programming (1) (1).pdf',\n",
       " 'OOPs Interview Questions for Freshers.docx',\n",
       " 'Playlists',\n",
       " 'Practice',\n",
       " 'Projects',\n",
       " 'Python in One Shot.pdf',\n",
       " 'Python programs',\n",
       " 'Python_CampusX.ipynb',\n",
       " 'Slides']"
      ]
     },
     "execution_count": 107,
     "metadata": {},
     "output_type": "execute_result"
    }
   ],
   "source": [
    "os.listdir()"
   ]
  },
  {
   "cell_type": "markdown",
   "id": "3aa3cb8d",
   "metadata": {},
   "source": [
    "# Strings"
   ]
  },
  {
   "cell_type": "markdown",
   "id": "c2906a90",
   "metadata": {},
   "source": [
    "Strings are sequence of Characters\n",
    "\n",
    "In Python specifically, strings are a sequence of Unicode Characters\n",
    "\n",
    "- Creating Strings\n",
    "- Accessing Strings\n",
    "- Adding Chars to Strings\n",
    "- Editing Strings\n",
    "- Deleting Strings\n",
    "- Operations on Strings\n",
    "- String Functions"
   ]
  },
  {
   "cell_type": "markdown",
   "id": "dacf56a4",
   "metadata": {},
   "source": [
    "#### Creating Strings"
   ]
  },
  {
   "cell_type": "code",
   "execution_count": 109,
   "id": "fba337dd",
   "metadata": {},
   "outputs": [
    {
     "name": "stdout",
     "output_type": "stream",
     "text": [
      "Hello\n"
     ]
    }
   ],
   "source": [
    "a=\"Hello\"\n",
    "print(a)"
   ]
  },
  {
   "cell_type": "code",
   "execution_count": 110,
   "id": "e4cad1a6",
   "metadata": {},
   "outputs": [
    {
     "name": "stdout",
     "output_type": "stream",
     "text": [
      "Hello\n"
     ]
    }
   ],
   "source": [
    "a='Hello'\n",
    "print(a)"
   ]
  },
  {
   "cell_type": "code",
   "execution_count": 111,
   "id": "4081c383",
   "metadata": {},
   "outputs": [
    {
     "name": "stdout",
     "output_type": "stream",
     "text": [
      "It's raining\n"
     ]
    }
   ],
   "source": [
    "a=\"It's raining\"\n",
    "print(a)"
   ]
  },
  {
   "cell_type": "code",
   "execution_count": 113,
   "id": "63bca221",
   "metadata": {},
   "outputs": [
    {
     "name": "stdout",
     "output_type": "stream",
     "text": [
      "My name is \"Bilal\"\n"
     ]
    }
   ],
   "source": [
    "a='My name is \"Bilal\"'\n",
    "print(a)"
   ]
  },
  {
   "cell_type": "code",
   "execution_count": 114,
   "id": "c41f9cc0",
   "metadata": {},
   "outputs": [
    {
     "name": "stdout",
     "output_type": "stream",
     "text": [
      "Hello\n"
     ]
    }
   ],
   "source": [
    "# Multi line strings\n",
    "a='''Hello'''\n",
    "print(a)"
   ]
  },
  {
   "cell_type": "code",
   "execution_count": 115,
   "id": "905a4f95",
   "metadata": {},
   "outputs": [
    {
     "name": "stdout",
     "output_type": "stream",
     "text": [
      "Hello\n"
     ]
    }
   ],
   "source": [
    "# Multi line strings\n",
    "a=\"\"\"Hello\"\"\"\n",
    "print(a)"
   ]
  },
  {
   "cell_type": "code",
   "execution_count": 117,
   "id": "46d83b22",
   "metadata": {},
   "outputs": [
    {
     "name": "stdout",
     "output_type": "stream",
     "text": [
      "Hello\n"
     ]
    }
   ],
   "source": [
    "a=str(\"Hello\")\n",
    "print(a)"
   ]
  },
  {
   "cell_type": "markdown",
   "id": "bb2577d5",
   "metadata": {},
   "source": [
    "#### Accessing substrings from strings"
   ]
  },
  {
   "cell_type": "code",
   "execution_count": 118,
   "id": "5d54dc04",
   "metadata": {},
   "outputs": [
    {
     "name": "stdout",
     "output_type": "stream",
     "text": [
      "Hello\n"
     ]
    }
   ],
   "source": [
    "# indexing\n",
    "a=\"Hello\"\n",
    "print(a)"
   ]
  },
  {
   "cell_type": "code",
   "execution_count": 125,
   "id": "821fc804",
   "metadata": {},
   "outputs": [
    {
     "name": "stdout",
     "output_type": "stream",
     "text": [
      "H\n"
     ]
    }
   ],
   "source": [
    "print(a[0])"
   ]
  },
  {
   "cell_type": "code",
   "execution_count": 126,
   "id": "4a352d8e",
   "metadata": {},
   "outputs": [],
   "source": [
    "# Types of Indexing\n",
    "# 1. Positive Indexing\n",
    "# 2. Negative Indexing"
   ]
  },
  {
   "cell_type": "code",
   "execution_count": 127,
   "id": "939a5341",
   "metadata": {},
   "outputs": [
    {
     "name": "stdout",
     "output_type": "stream",
     "text": [
      "o\n"
     ]
    }
   ],
   "source": [
    "print(a[-1])"
   ]
  },
  {
   "cell_type": "code",
   "execution_count": 128,
   "id": "d6598eba",
   "metadata": {},
   "outputs": [
    {
     "name": "stdout",
     "output_type": "stream",
     "text": [
      "Hello World\n"
     ]
    }
   ],
   "source": [
    "# Slicing\n",
    "a=\"Hello World\"\n",
    "print(a)"
   ]
  },
  {
   "cell_type": "code",
   "execution_count": 129,
   "id": "2ab0a828",
   "metadata": {},
   "outputs": [
    {
     "name": "stdout",
     "output_type": "stream",
     "text": [
      "Hello\n"
     ]
    }
   ],
   "source": [
    "print(a[0:5])"
   ]
  },
  {
   "cell_type": "code",
   "execution_count": 131,
   "id": "3cc76bdb",
   "metadata": {},
   "outputs": [
    {
     "name": "stdout",
     "output_type": "stream",
     "text": [
      "llo World\n"
     ]
    }
   ],
   "source": [
    "print(a[2:])"
   ]
  },
  {
   "cell_type": "code",
   "execution_count": 133,
   "id": "24a7763f",
   "metadata": {},
   "outputs": [
    {
     "name": "stdout",
     "output_type": "stream",
     "text": [
      "Hello\n"
     ]
    }
   ],
   "source": [
    "print(a[:5])"
   ]
  },
  {
   "cell_type": "code",
   "execution_count": 134,
   "id": "8bb18435",
   "metadata": {},
   "outputs": [
    {
     "name": "stdout",
     "output_type": "stream",
     "text": [
      "Hello World\n"
     ]
    }
   ],
   "source": [
    "print(a[:])"
   ]
  },
  {
   "cell_type": "code",
   "execution_count": 136,
   "id": "32cae344",
   "metadata": {},
   "outputs": [
    {
     "name": "stdout",
     "output_type": "stream",
     "text": [
      "Hello World\n"
     ]
    }
   ],
   "source": [
    "print(a)"
   ]
  },
  {
   "cell_type": "code",
   "execution_count": 137,
   "id": "1f30d418",
   "metadata": {},
   "outputs": [
    {
     "name": "stdout",
     "output_type": "stream",
     "text": [
      "lo\n"
     ]
    }
   ],
   "source": [
    "print(a[2:6:2])"
   ]
  },
  {
   "cell_type": "code",
   "execution_count": 138,
   "id": "239fdf10",
   "metadata": {},
   "outputs": [
    {
     "name": "stdout",
     "output_type": "stream",
     "text": [
      "\n"
     ]
    }
   ],
   "source": [
    "print(a[0:6:-1])"
   ]
  },
  {
   "cell_type": "code",
   "execution_count": 140,
   "id": "92217cc2",
   "metadata": {},
   "outputs": [
    {
     "name": "stdout",
     "output_type": "stream",
     "text": [
      "Wr\n"
     ]
    }
   ],
   "source": [
    "print(a[-5:-1:2])"
   ]
  },
  {
   "cell_type": "code",
   "execution_count": 141,
   "id": "c17c509b",
   "metadata": {},
   "outputs": [
    {
     "name": "stdout",
     "output_type": "stream",
     "text": [
      "dlroW olleH\n"
     ]
    }
   ],
   "source": [
    "print(a[::-1])"
   ]
  },
  {
   "cell_type": "code",
   "execution_count": 142,
   "id": "8714bb2e",
   "metadata": {},
   "outputs": [
    {
     "name": "stdout",
     "output_type": "stream",
     "text": [
      "dlro\n"
     ]
    }
   ],
   "source": [
    "print(a[-1:-5:-1])"
   ]
  },
  {
   "cell_type": "markdown",
   "id": "3f30ebc9",
   "metadata": {},
   "source": [
    "#### Editing and deleting strings"
   ]
  },
  {
   "cell_type": "code",
   "execution_count": 143,
   "id": "7c2d1805",
   "metadata": {},
   "outputs": [
    {
     "name": "stdout",
     "output_type": "stream",
     "text": [
      "Hello\n"
     ]
    }
   ],
   "source": [
    "a=\"Hello\"\n",
    "print(a)"
   ]
  },
  {
   "cell_type": "code",
   "execution_count": 144,
   "id": "b44cc44f",
   "metadata": {},
   "outputs": [
    {
     "ename": "TypeError",
     "evalue": "'str' object does not support item assignment",
     "output_type": "error",
     "traceback": [
      "\u001b[1;31m---------------------------------------------------------------------------\u001b[0m",
      "\u001b[1;31mTypeError\u001b[0m                                 Traceback (most recent call last)",
      "\u001b[1;32m~\\AppData\\Local\\Temp\\ipykernel_16856\\550394652.py\u001b[0m in \u001b[0;36m<module>\u001b[1;34m\u001b[0m\n\u001b[1;32m----> 1\u001b[1;33m \u001b[0ma\u001b[0m\u001b[1;33m[\u001b[0m\u001b[1;36m0\u001b[0m\u001b[1;33m]\u001b[0m\u001b[1;33m=\u001b[0m\u001b[1;34m\"X\"\u001b[0m\u001b[1;33m\u001b[0m\u001b[1;33m\u001b[0m\u001b[0m\n\u001b[0m",
      "\u001b[1;31mTypeError\u001b[0m: 'str' object does not support item assignment"
     ]
    }
   ],
   "source": [
    "a[0]=\"X\""
   ]
  },
  {
   "cell_type": "code",
   "execution_count": 145,
   "id": "ebf5b9f3",
   "metadata": {},
   "outputs": [],
   "source": [
    "# Strings are immutable data type\n",
    "# you can reassign a whole string but not not edit or change a string"
   ]
  },
  {
   "cell_type": "code",
   "execution_count": 148,
   "id": "dc3fee9e",
   "metadata": {},
   "outputs": [
    {
     "name": "stdout",
     "output_type": "stream",
     "text": [
      "World\n"
     ]
    },
    {
     "data": {
      "text/plain": [
       "str"
      ]
     },
     "execution_count": 148,
     "metadata": {},
     "output_type": "execute_result"
    }
   ],
   "source": [
    "a=\"World\"\n",
    "print(a)"
   ]
  },
  {
   "cell_type": "code",
   "execution_count": 149,
   "id": "6c53e2e7",
   "metadata": {},
   "outputs": [
    {
     "ename": "TypeError",
     "evalue": "'str' object does not support item assignment",
     "output_type": "error",
     "traceback": [
      "\u001b[1;31m---------------------------------------------------------------------------\u001b[0m",
      "\u001b[1;31mTypeError\u001b[0m                                 Traceback (most recent call last)",
      "\u001b[1;32m~\\AppData\\Local\\Temp\\ipykernel_16856\\3077755587.py\u001b[0m in \u001b[0;36m<module>\u001b[1;34m\u001b[0m\n\u001b[1;32m----> 1\u001b[1;33m \u001b[0ma\u001b[0m\u001b[1;33m[\u001b[0m\u001b[1;36m5\u001b[0m\u001b[1;33m]\u001b[0m\u001b[1;33m=\u001b[0m\u001b[1;34m\"X\"\u001b[0m\u001b[1;33m\u001b[0m\u001b[1;33m\u001b[0m\u001b[0m\n\u001b[0m",
      "\u001b[1;31mTypeError\u001b[0m: 'str' object does not support item assignment"
     ]
    }
   ],
   "source": [
    "a[5]=\"X\""
   ]
  },
  {
   "cell_type": "code",
   "execution_count": 150,
   "id": "da53cdda",
   "metadata": {},
   "outputs": [
    {
     "data": {
      "text/plain": [
       "'World'"
      ]
     },
     "execution_count": 150,
     "metadata": {},
     "output_type": "execute_result"
    }
   ],
   "source": [
    "# Deletion\n",
    "a"
   ]
  },
  {
   "cell_type": "code",
   "execution_count": 151,
   "id": "f293538a",
   "metadata": {},
   "outputs": [],
   "source": [
    "del a"
   ]
  },
  {
   "cell_type": "code",
   "execution_count": 152,
   "id": "1f271187",
   "metadata": {},
   "outputs": [
    {
     "ename": "NameError",
     "evalue": "name 'a' is not defined",
     "output_type": "error",
     "traceback": [
      "\u001b[1;31m---------------------------------------------------------------------------\u001b[0m",
      "\u001b[1;31mNameError\u001b[0m                                 Traceback (most recent call last)",
      "\u001b[1;32m~\\AppData\\Local\\Temp\\ipykernel_16856\\2167009006.py\u001b[0m in \u001b[0;36m<module>\u001b[1;34m\u001b[0m\n\u001b[1;32m----> 1\u001b[1;33m \u001b[0ma\u001b[0m\u001b[1;33m\u001b[0m\u001b[1;33m\u001b[0m\u001b[0m\n\u001b[0m",
      "\u001b[1;31mNameError\u001b[0m: name 'a' is not defined"
     ]
    }
   ],
   "source": [
    "a"
   ]
  },
  {
   "cell_type": "code",
   "execution_count": 153,
   "id": "6f8a5379",
   "metadata": {},
   "outputs": [],
   "source": [
    "a=\"Hello\""
   ]
  },
  {
   "cell_type": "code",
   "execution_count": 155,
   "id": "1ef9c48a",
   "metadata": {},
   "outputs": [
    {
     "name": "stdout",
     "output_type": "stream",
     "text": [
      "Hello\n"
     ]
    }
   ],
   "source": [
    "print(a)"
   ]
  },
  {
   "cell_type": "code",
   "execution_count": 156,
   "id": "432f1aa6",
   "metadata": {},
   "outputs": [
    {
     "ename": "TypeError",
     "evalue": "'str' object doesn't support item deletion",
     "output_type": "error",
     "traceback": [
      "\u001b[1;31m---------------------------------------------------------------------------\u001b[0m",
      "\u001b[1;31mTypeError\u001b[0m                                 Traceback (most recent call last)",
      "\u001b[1;32m~\\AppData\\Local\\Temp\\ipykernel_16856\\3074760810.py\u001b[0m in \u001b[0;36m<module>\u001b[1;34m\u001b[0m\n\u001b[1;32m----> 1\u001b[1;33m \u001b[1;32mdel\u001b[0m \u001b[0ma\u001b[0m\u001b[1;33m[\u001b[0m\u001b[1;36m0\u001b[0m\u001b[1;33m]\u001b[0m\u001b[1;33m\u001b[0m\u001b[1;33m\u001b[0m\u001b[0m\n\u001b[0m",
      "\u001b[1;31mTypeError\u001b[0m: 'str' object doesn't support item deletion"
     ]
    }
   ],
   "source": [
    "del a[0]"
   ]
  },
  {
   "cell_type": "code",
   "execution_count": 157,
   "id": "3dc798e8",
   "metadata": {},
   "outputs": [
    {
     "ename": "TypeError",
     "evalue": "'str' object does not support item deletion",
     "output_type": "error",
     "traceback": [
      "\u001b[1;31m---------------------------------------------------------------------------\u001b[0m",
      "\u001b[1;31mTypeError\u001b[0m                                 Traceback (most recent call last)",
      "\u001b[1;32m~\\AppData\\Local\\Temp\\ipykernel_16856\\200533110.py\u001b[0m in \u001b[0;36m<module>\u001b[1;34m\u001b[0m\n\u001b[1;32m----> 1\u001b[1;33m \u001b[1;32mdel\u001b[0m \u001b[0ma\u001b[0m\u001b[1;33m[\u001b[0m\u001b[1;33m:\u001b[0m\u001b[1;36m3\u001b[0m\u001b[1;33m:\u001b[0m\u001b[1;36m2\u001b[0m\u001b[1;33m]\u001b[0m\u001b[1;33m\u001b[0m\u001b[1;33m\u001b[0m\u001b[0m\n\u001b[0m",
      "\u001b[1;31mTypeError\u001b[0m: 'str' object does not support item deletion"
     ]
    }
   ],
   "source": [
    "del a[:3:2]"
   ]
  },
  {
   "cell_type": "markdown",
   "id": "f89abccf",
   "metadata": {},
   "source": [
    "#### String operations in python"
   ]
  },
  {
   "cell_type": "markdown",
   "id": "c87a2d69",
   "metadata": {},
   "source": [
    "- Arithmetic Operations\n",
    "- Relational Operations\n",
    "- Logical Operations\n",
    "- Loops on Strings\n",
    "- Membership Operations"
   ]
  },
  {
   "cell_type": "code",
   "execution_count": 161,
   "id": "75f6f873",
   "metadata": {},
   "outputs": [],
   "source": [
    "# Arithmetic Operations"
   ]
  },
  {
   "cell_type": "code",
   "execution_count": 158,
   "id": "acbbb3b4",
   "metadata": {},
   "outputs": [
    {
     "data": {
      "text/plain": [
       "'Hello-World'"
      ]
     },
     "execution_count": 158,
     "metadata": {},
     "output_type": "execute_result"
    }
   ],
   "source": [
    "\"Hello\"+\"-\"+\"World\""
   ]
  },
  {
   "cell_type": "code",
   "execution_count": 159,
   "id": "964b5c5f",
   "metadata": {},
   "outputs": [
    {
     "data": {
      "text/plain": [
       "'**************************************************'"
      ]
     },
     "execution_count": 159,
     "metadata": {},
     "output_type": "execute_result"
    }
   ],
   "source": [
    "\"*\" * 50"
   ]
  },
  {
   "cell_type": "code",
   "execution_count": null,
   "id": "9e4ac72b",
   "metadata": {},
   "outputs": [],
   "source": [
    "# Relational Operations"
   ]
  },
  {
   "cell_type": "code",
   "execution_count": 160,
   "id": "71c0ed38",
   "metadata": {},
   "outputs": [
    {
     "data": {
      "text/plain": [
       "False"
      ]
     },
     "execution_count": 160,
     "metadata": {},
     "output_type": "execute_result"
    }
   ],
   "source": [
    "\"Hello\" == \"World\""
   ]
  },
  {
   "cell_type": "code",
   "execution_count": 163,
   "id": "78dcf8d9",
   "metadata": {},
   "outputs": [
    {
     "data": {
      "text/plain": [
       "True"
      ]
     },
     "execution_count": 163,
     "metadata": {},
     "output_type": "execute_result"
    }
   ],
   "source": [
    "\"Hello\" != \"World\""
   ]
  },
  {
   "cell_type": "code",
   "execution_count": 164,
   "id": "669f781b",
   "metadata": {},
   "outputs": [
    {
     "data": {
      "text/plain": [
       "False"
      ]
     },
     "execution_count": 164,
     "metadata": {},
     "output_type": "execute_result"
    }
   ],
   "source": [
    "\"Karachi\">\"Lahore\"\n",
    "# Lexiographically(According to dictionary)"
   ]
  },
  {
   "cell_type": "code",
   "execution_count": 166,
   "id": "f6ff8b37",
   "metadata": {},
   "outputs": [
    {
     "data": {
      "text/plain": [
       "True"
      ]
     },
     "execution_count": 166,
     "metadata": {},
     "output_type": "execute_result"
    }
   ],
   "source": [
    "\"Bilal\"<\"Khan\""
   ]
  },
  {
   "cell_type": "code",
   "execution_count": 167,
   "id": "c71000a9",
   "metadata": {},
   "outputs": [
    {
     "data": {
      "text/plain": [
       "False"
      ]
     },
     "execution_count": 167,
     "metadata": {},
     "output_type": "execute_result"
    }
   ],
   "source": [
    "\"Bilal\">\"bilal\""
   ]
  },
  {
   "cell_type": "code",
   "execution_count": 168,
   "id": "04e45a22",
   "metadata": {},
   "outputs": [],
   "source": [
    "# Logical Operations"
   ]
  },
  {
   "cell_type": "code",
   "execution_count": 170,
   "id": "70329df4",
   "metadata": {},
   "outputs": [],
   "source": [
    "# \"\" -> False\n",
    "# \"asjkn\" -> True"
   ]
  },
  {
   "cell_type": "code",
   "execution_count": 171,
   "id": "c35d294d",
   "metadata": {},
   "outputs": [
    {
     "data": {
      "text/plain": [
       "''"
      ]
     },
     "execution_count": 171,
     "metadata": {},
     "output_type": "execute_result"
    }
   ],
   "source": [
    "\"\" and \"Hello\""
   ]
  },
  {
   "cell_type": "code",
   "execution_count": 172,
   "id": "a723293f",
   "metadata": {},
   "outputs": [
    {
     "data": {
      "text/plain": [
       "'world'"
      ]
     },
     "execution_count": 172,
     "metadata": {},
     "output_type": "execute_result"
    }
   ],
   "source": [
    "\"\" or \"world\""
   ]
  },
  {
   "cell_type": "code",
   "execution_count": 173,
   "id": "8c87f661",
   "metadata": {},
   "outputs": [
    {
     "data": {
      "text/plain": [
       "'hello'"
      ]
     },
     "execution_count": 173,
     "metadata": {},
     "output_type": "execute_result"
    }
   ],
   "source": [
    "\"hello\" or \"world\""
   ]
  },
  {
   "cell_type": "code",
   "execution_count": 174,
   "id": "2cdc891d",
   "metadata": {},
   "outputs": [
    {
     "data": {
      "text/plain": [
       "'world'"
      ]
     },
     "execution_count": 174,
     "metadata": {},
     "output_type": "execute_result"
    }
   ],
   "source": [
    "\"hello\" and \"world\""
   ]
  },
  {
   "cell_type": "code",
   "execution_count": 175,
   "id": "39b04b13",
   "metadata": {},
   "outputs": [
    {
     "data": {
      "text/plain": [
       "False"
      ]
     },
     "execution_count": 175,
     "metadata": {},
     "output_type": "execute_result"
    }
   ],
   "source": [
    "not \"Hello\""
   ]
  },
  {
   "cell_type": "code",
   "execution_count": 176,
   "id": "c6c0e00c",
   "metadata": {},
   "outputs": [
    {
     "data": {
      "text/plain": [
       "True"
      ]
     },
     "execution_count": 176,
     "metadata": {},
     "output_type": "execute_result"
    }
   ],
   "source": [
    "not \"\""
   ]
  },
  {
   "cell_type": "code",
   "execution_count": 179,
   "id": "f874041a",
   "metadata": {},
   "outputs": [],
   "source": [
    "# Loops on Strings"
   ]
  },
  {
   "cell_type": "code",
   "execution_count": 180,
   "id": "6c298aba",
   "metadata": {},
   "outputs": [
    {
     "name": "stdout",
     "output_type": "stream",
     "text": [
      "l\n",
      "o\n",
      "w\n"
     ]
    }
   ],
   "source": [
    "c=\"Hello world\"\n",
    "for i in c[2:7:2]:\n",
    "    print(i)"
   ]
  },
  {
   "cell_type": "code",
   "execution_count": 181,
   "id": "82f0693c",
   "metadata": {},
   "outputs": [],
   "source": [
    "# Membership Operations"
   ]
  },
  {
   "cell_type": "code",
   "execution_count": 182,
   "id": "77921e38",
   "metadata": {},
   "outputs": [
    {
     "data": {
      "text/plain": [
       "'Hello world'"
      ]
     },
     "execution_count": 182,
     "metadata": {},
     "output_type": "execute_result"
    }
   ],
   "source": [
    "c"
   ]
  },
  {
   "cell_type": "code",
   "execution_count": 183,
   "id": "3e5cd917",
   "metadata": {},
   "outputs": [
    {
     "data": {
      "text/plain": [
       "False"
      ]
     },
     "execution_count": 183,
     "metadata": {},
     "output_type": "execute_result"
    }
   ],
   "source": [
    "\"h\" in c"
   ]
  },
  {
   "cell_type": "code",
   "execution_count": 184,
   "id": "0bb39ee3",
   "metadata": {},
   "outputs": [
    {
     "data": {
      "text/plain": [
       "True"
      ]
     },
     "execution_count": 184,
     "metadata": {},
     "output_type": "execute_result"
    }
   ],
   "source": [
    "\"H\" in c"
   ]
  },
  {
   "cell_type": "code",
   "execution_count": 185,
   "id": "d2fdd89a",
   "metadata": {},
   "outputs": [
    {
     "data": {
      "text/plain": [
       "True"
      ]
     },
     "execution_count": 185,
     "metadata": {},
     "output_type": "execute_result"
    }
   ],
   "source": [
    "\"rld\" in c"
   ]
  },
  {
   "cell_type": "code",
   "execution_count": 186,
   "id": "2ba93e88",
   "metadata": {},
   "outputs": [
    {
     "data": {
      "text/plain": [
       "False"
      ]
     },
     "execution_count": 186,
     "metadata": {},
     "output_type": "execute_result"
    }
   ],
   "source": [
    "\"world\" not in c"
   ]
  },
  {
   "cell_type": "markdown",
   "id": "8054ffbe",
   "metadata": {},
   "source": [
    "### String Functions\n",
    "\n",
    "#### Common Functions\n",
    "- len()\n",
    "- max()\n",
    "- min()\n",
    "- sorted()"
   ]
  },
  {
   "cell_type": "code",
   "execution_count": 187,
   "id": "b5c64f84",
   "metadata": {},
   "outputs": [],
   "source": [
    "a=\"Hello World\""
   ]
  },
  {
   "cell_type": "code",
   "execution_count": 188,
   "id": "99697c09",
   "metadata": {},
   "outputs": [
    {
     "data": {
      "text/plain": [
       "11"
      ]
     },
     "execution_count": 188,
     "metadata": {},
     "output_type": "execute_result"
    }
   ],
   "source": [
    "len(a)"
   ]
  },
  {
   "cell_type": "code",
   "execution_count": 189,
   "id": "7baeca00",
   "metadata": {},
   "outputs": [
    {
     "data": {
      "text/plain": [
       "'r'"
      ]
     },
     "execution_count": 189,
     "metadata": {},
     "output_type": "execute_result"
    }
   ],
   "source": [
    "# return max value according to ASCII\n",
    "max(a)"
   ]
  },
  {
   "cell_type": "code",
   "execution_count": 190,
   "id": "d1260a45",
   "metadata": {},
   "outputs": [
    {
     "data": {
      "text/plain": [
       "' '"
      ]
     },
     "execution_count": 190,
     "metadata": {},
     "output_type": "execute_result"
    }
   ],
   "source": [
    "min(a)"
   ]
  },
  {
   "cell_type": "code",
   "execution_count": 191,
   "id": "f165836c",
   "metadata": {},
   "outputs": [
    {
     "data": {
      "text/plain": [
       "[' ', 'H', 'W', 'd', 'e', 'l', 'l', 'l', 'o', 'o', 'r']"
      ]
     },
     "execution_count": 191,
     "metadata": {},
     "output_type": "execute_result"
    }
   ],
   "source": [
    "# ascending order\n",
    "sorted(a)"
   ]
  },
  {
   "cell_type": "code",
   "execution_count": 192,
   "id": "78f43c44",
   "metadata": {},
   "outputs": [
    {
     "data": {
      "text/plain": [
       "['r', 'o', 'o', 'l', 'l', 'l', 'e', 'd', 'W', 'H', ' ']"
      ]
     },
     "execution_count": 192,
     "metadata": {},
     "output_type": "execute_result"
    }
   ],
   "source": [
    "# descending order\n",
    "sorted(a,reverse=True)"
   ]
  },
  {
   "cell_type": "markdown",
   "id": "5312a476",
   "metadata": {},
   "source": [
    "#### 1.\n",
    "- Capitalize\n",
    "- Title\n",
    "- Lower\n",
    "- Upper\n",
    "- Swapcase"
   ]
  },
  {
   "cell_type": "code",
   "execution_count": 215,
   "id": "a30d6141",
   "metadata": {},
   "outputs": [],
   "source": [
    "c=\"HeLlo woRld\""
   ]
  },
  {
   "cell_type": "code",
   "execution_count": 216,
   "id": "f67859ad",
   "metadata": {},
   "outputs": [
    {
     "data": {
      "text/plain": [
       "'HeLlo woRld'"
      ]
     },
     "execution_count": 216,
     "metadata": {},
     "output_type": "execute_result"
    }
   ],
   "source": [
    "c"
   ]
  },
  {
   "cell_type": "code",
   "execution_count": 217,
   "id": "46a05ea9",
   "metadata": {},
   "outputs": [
    {
     "data": {
      "text/plain": [
       "'Hello world'"
      ]
     },
     "execution_count": 217,
     "metadata": {},
     "output_type": "execute_result"
    }
   ],
   "source": [
    "c.capitalize()"
   ]
  },
  {
   "cell_type": "code",
   "execution_count": 218,
   "id": "7bf8c0df",
   "metadata": {},
   "outputs": [
    {
     "data": {
      "text/plain": [
       "'hello world'"
      ]
     },
     "execution_count": 218,
     "metadata": {},
     "output_type": "execute_result"
    }
   ],
   "source": [
    "c.lower()"
   ]
  },
  {
   "cell_type": "code",
   "execution_count": 219,
   "id": "b679e68e",
   "metadata": {},
   "outputs": [
    {
     "data": {
      "text/plain": [
       "'HELLO WORLD'"
      ]
     },
     "execution_count": 219,
     "metadata": {},
     "output_type": "execute_result"
    }
   ],
   "source": [
    "c.upper()"
   ]
  },
  {
   "cell_type": "code",
   "execution_count": 220,
   "id": "54b5ed64",
   "metadata": {},
   "outputs": [
    {
     "data": {
      "text/plain": [
       "'Hello World'"
      ]
     },
     "execution_count": 220,
     "metadata": {},
     "output_type": "execute_result"
    }
   ],
   "source": [
    "c.title()"
   ]
  },
  {
   "cell_type": "code",
   "execution_count": 221,
   "id": "2eb05c64",
   "metadata": {},
   "outputs": [
    {
     "data": {
      "text/plain": [
       "'hElLO WOrLD'"
      ]
     },
     "execution_count": 221,
     "metadata": {},
     "output_type": "execute_result"
    }
   ],
   "source": [
    "c.swapcase()"
   ]
  },
  {
   "cell_type": "markdown",
   "id": "a6857c43",
   "metadata": {},
   "source": [
    "#### 2. count()"
   ]
  },
  {
   "cell_type": "code",
   "execution_count": 228,
   "id": "00531f6e",
   "metadata": {},
   "outputs": [],
   "source": [
    "c=\"Hello World\""
   ]
  },
  {
   "cell_type": "code",
   "execution_count": 230,
   "id": "b5fbfb5c",
   "metadata": {},
   "outputs": [
    {
     "data": {
      "text/plain": [
       "3"
      ]
     },
     "execution_count": 230,
     "metadata": {},
     "output_type": "execute_result"
    }
   ],
   "source": [
    "c.count(\"l\")"
   ]
  },
  {
   "cell_type": "code",
   "execution_count": 232,
   "id": "5499bf7e",
   "metadata": {},
   "outputs": [
    {
     "data": {
      "text/plain": [
       "1"
      ]
     },
     "execution_count": 232,
     "metadata": {},
     "output_type": "execute_result"
    }
   ],
   "source": [
    "c.count(\"ll\")"
   ]
  },
  {
   "cell_type": "markdown",
   "id": "282aebb1",
   "metadata": {},
   "source": [
    "#### 3. Find / Index"
   ]
  },
  {
   "cell_type": "code",
   "execution_count": 234,
   "id": "5cb6785f",
   "metadata": {},
   "outputs": [
    {
     "data": {
      "text/plain": [
       "12"
      ]
     },
     "execution_count": 234,
     "metadata": {},
     "output_type": "execute_result"
    }
   ],
   "source": [
    "\"it is raining\".find(\"g\")"
   ]
  },
  {
   "cell_type": "code",
   "execution_count": 235,
   "id": "0f99437e",
   "metadata": {},
   "outputs": [
    {
     "data": {
      "text/plain": [
       "6"
      ]
     },
     "execution_count": 235,
     "metadata": {},
     "output_type": "execute_result"
    }
   ],
   "source": [
    "\"it is raining\".find(\"raining\")"
   ]
  },
  {
   "cell_type": "code",
   "execution_count": 236,
   "id": "a2b5ae0e",
   "metadata": {},
   "outputs": [
    {
     "data": {
      "text/plain": [
       "-1"
      ]
     },
     "execution_count": 236,
     "metadata": {},
     "output_type": "execute_result"
    }
   ],
   "source": [
    "\"it is raining\".find(\"x\")"
   ]
  },
  {
   "cell_type": "code",
   "execution_count": 237,
   "id": "3427a72e",
   "metadata": {},
   "outputs": [
    {
     "data": {
      "text/plain": [
       "6"
      ]
     },
     "execution_count": 237,
     "metadata": {},
     "output_type": "execute_result"
    }
   ],
   "source": [
    "\"it is raining\".index(\"rain\")"
   ]
  },
  {
   "cell_type": "code",
   "execution_count": 239,
   "id": "30c4fe74",
   "metadata": {},
   "outputs": [
    {
     "ename": "ValueError",
     "evalue": "substring not found",
     "output_type": "error",
     "traceback": [
      "\u001b[1;31m---------------------------------------------------------------------------\u001b[0m",
      "\u001b[1;31mValueError\u001b[0m                                Traceback (most recent call last)",
      "\u001b[1;32m~\\AppData\\Local\\Temp\\ipykernel_16856\\4196732353.py\u001b[0m in \u001b[0;36m<module>\u001b[1;34m\u001b[0m\n\u001b[1;32m----> 1\u001b[1;33m \u001b[1;34m\"it is raining\"\u001b[0m\u001b[1;33m.\u001b[0m\u001b[0mindex\u001b[0m\u001b[1;33m(\u001b[0m\u001b[1;34m\"x\"\u001b[0m\u001b[1;33m)\u001b[0m\u001b[1;33m\u001b[0m\u001b[1;33m\u001b[0m\u001b[0m\n\u001b[0m",
      "\u001b[1;31mValueError\u001b[0m: substring not found"
     ]
    }
   ],
   "source": [
    "\"it is raining\".index(\"x\")"
   ]
  },
  {
   "cell_type": "markdown",
   "id": "798763a4",
   "metadata": {},
   "source": [
    "#### 4. endswith/startswith"
   ]
  },
  {
   "cell_type": "code",
   "execution_count": 240,
   "id": "7e8ae8b1",
   "metadata": {},
   "outputs": [
    {
     "data": {
      "text/plain": [
       "True"
      ]
     },
     "execution_count": 240,
     "metadata": {},
     "output_type": "execute_result"
    }
   ],
   "source": [
    "\"it is raining\".endswith(\"ing\")"
   ]
  },
  {
   "cell_type": "code",
   "execution_count": 242,
   "id": "3ce51879",
   "metadata": {},
   "outputs": [
    {
     "data": {
      "text/plain": [
       "False"
      ]
     },
     "execution_count": 242,
     "metadata": {},
     "output_type": "execute_result"
    }
   ],
   "source": [
    "\"it is raining\".endswith(\"r\")"
   ]
  },
  {
   "cell_type": "code",
   "execution_count": 243,
   "id": "47a9b699",
   "metadata": {},
   "outputs": [
    {
     "data": {
      "text/plain": [
       "True"
      ]
     },
     "execution_count": 243,
     "metadata": {},
     "output_type": "execute_result"
    }
   ],
   "source": [
    "\"it is raining\".startswith(\"i\")"
   ]
  },
  {
   "cell_type": "code",
   "execution_count": 245,
   "id": "39975719",
   "metadata": {},
   "outputs": [
    {
     "data": {
      "text/plain": [
       "False"
      ]
     },
     "execution_count": 245,
     "metadata": {},
     "output_type": "execute_result"
    }
   ],
   "source": [
    "\"it is raining\".startswith(\"rain\")"
   ]
  },
  {
   "cell_type": "markdown",
   "id": "36c362c8",
   "metadata": {},
   "source": [
    "#### 5. format"
   ]
  },
  {
   "cell_type": "code",
   "execution_count": 247,
   "id": "6f4c07d3",
   "metadata": {},
   "outputs": [
    {
     "data": {
      "text/plain": [
       "'Hello, My name is Bilal and I am 22'"
      ]
     },
     "execution_count": 247,
     "metadata": {},
     "output_type": "execute_result"
    }
   ],
   "source": [
    "\"Hello, My name is {} and I am {}\".format(\"Bilal\",22)"
   ]
  },
  {
   "cell_type": "code",
   "execution_count": 248,
   "id": "e26d939f",
   "metadata": {},
   "outputs": [
    {
     "data": {
      "text/plain": [
       "'Hello, My name is 22 and I am Bilal'"
      ]
     },
     "execution_count": 248,
     "metadata": {},
     "output_type": "execute_result"
    }
   ],
   "source": [
    "\"Hello, My name is {1} and I am {0}\".format(\"Bilal\",22)"
   ]
  },
  {
   "cell_type": "code",
   "execution_count": 249,
   "id": "e57467a0",
   "metadata": {},
   "outputs": [
    {
     "data": {
      "text/plain": [
       "'Hello, My name is Bilal and I am 22'"
      ]
     },
     "execution_count": 249,
     "metadata": {},
     "output_type": "execute_result"
    }
   ],
   "source": [
    "\"Hello, My name is {name} and I am {age}\".format(name=\"Bilal\",age=22)"
   ]
  },
  {
   "cell_type": "code",
   "execution_count": 250,
   "id": "7cb3279b",
   "metadata": {},
   "outputs": [
    {
     "data": {
      "text/plain": [
       "'Hello, My name is Bilal and I am Bilal'"
      ]
     },
     "execution_count": 250,
     "metadata": {},
     "output_type": "execute_result"
    }
   ],
   "source": [
    "\"Hello, My name is {0} and I am {0}\".format(\"Bilal\",22)"
   ]
  },
  {
   "cell_type": "code",
   "execution_count": 252,
   "id": "9467d591",
   "metadata": {},
   "outputs": [
    {
     "data": {
      "text/plain": [
       "'Hello, My name is Bilal and I am 60'"
      ]
     },
     "execution_count": 252,
     "metadata": {},
     "output_type": "execute_result"
    }
   ],
   "source": [
    "\"Hello, My name is {name} and I am {weight}\".format(name=\"Bilal\",age=22,weight=60)"
   ]
  },
  {
   "cell_type": "markdown",
   "id": "c2611d53",
   "metadata": {},
   "source": [
    "#### 6. isalnum/isalpha/isdecimal/isdigit/isidentifier"
   ]
  },
  {
   "cell_type": "code",
   "execution_count": 277,
   "id": "c3bc42d5",
   "metadata": {},
   "outputs": [
    {
     "data": {
      "text/plain": [
       "True"
      ]
     },
     "execution_count": 277,
     "metadata": {},
     "output_type": "execute_result"
    }
   ],
   "source": [
    "\"Bilal99\".isalnum()"
   ]
  },
  {
   "cell_type": "code",
   "execution_count": 278,
   "id": "a8489da2",
   "metadata": {},
   "outputs": [
    {
     "data": {
      "text/plain": [
       "False"
      ]
     },
     "execution_count": 278,
     "metadata": {},
     "output_type": "execute_result"
    }
   ],
   "source": [
    "\"Bilal99&\".isalnum()"
   ]
  },
  {
   "cell_type": "code",
   "execution_count": 279,
   "id": "643327b8",
   "metadata": {},
   "outputs": [
    {
     "data": {
      "text/plain": [
       "True"
      ]
     },
     "execution_count": 279,
     "metadata": {},
     "output_type": "execute_result"
    }
   ],
   "source": [
    "\"Bilal\".isalpha()"
   ]
  },
  {
   "cell_type": "code",
   "execution_count": 256,
   "id": "451b121d",
   "metadata": {},
   "outputs": [
    {
     "data": {
      "text/plain": [
       "False"
      ]
     },
     "execution_count": 256,
     "metadata": {},
     "output_type": "execute_result"
    }
   ],
   "source": [
    "\"FLAT2\".isalpha()"
   ]
  },
  {
   "cell_type": "code",
   "execution_count": 257,
   "id": "972cf806",
   "metadata": {},
   "outputs": [
    {
     "data": {
      "text/plain": [
       "True"
      ]
     },
     "execution_count": 257,
     "metadata": {},
     "output_type": "execute_result"
    }
   ],
   "source": [
    "\"20\".isdigit()"
   ]
  },
  {
   "cell_type": "code",
   "execution_count": 258,
   "id": "e3e8e519",
   "metadata": {},
   "outputs": [
    {
     "data": {
      "text/plain": [
       "False"
      ]
     },
     "execution_count": 258,
     "metadata": {},
     "output_type": "execute_result"
    }
   ],
   "source": [
    "\"20A\".isdigit()"
   ]
  },
  {
   "cell_type": "code",
   "execution_count": 260,
   "id": "7b6f6a8c",
   "metadata": {},
   "outputs": [
    {
     "data": {
      "text/plain": [
       "True"
      ]
     },
     "execution_count": 260,
     "metadata": {},
     "output_type": "execute_result"
    }
   ],
   "source": [
    "\"hello_world\".isidentifier()"
   ]
  },
  {
   "cell_type": "code",
   "execution_count": 261,
   "id": "40b77a95",
   "metadata": {},
   "outputs": [
    {
     "data": {
      "text/plain": [
       "False"
      ]
     },
     "execution_count": 261,
     "metadata": {},
     "output_type": "execute_result"
    }
   ],
   "source": [
    "\"hello world\".isidentifier()"
   ]
  },
  {
   "cell_type": "code",
   "execution_count": 262,
   "id": "3837716e",
   "metadata": {},
   "outputs": [
    {
     "data": {
      "text/plain": [
       "False"
      ]
     },
     "execution_count": 262,
     "metadata": {},
     "output_type": "execute_result"
    }
   ],
   "source": [
    "\"hello\".isupper()"
   ]
  },
  {
   "cell_type": "markdown",
   "id": "d6d05957",
   "metadata": {},
   "source": [
    "#### 7. Split"
   ]
  },
  {
   "cell_type": "code",
   "execution_count": 263,
   "id": "9b7cd73f",
   "metadata": {},
   "outputs": [
    {
     "data": {
      "text/plain": [
       "['my', 'name', 'is', 'bilal']"
      ]
     },
     "execution_count": 263,
     "metadata": {},
     "output_type": "execute_result"
    }
   ],
   "source": [
    "\"my name is bilal\".split()"
   ]
  },
  {
   "cell_type": "code",
   "execution_count": 264,
   "id": "132eea03",
   "metadata": {},
   "outputs": [
    {
     "data": {
      "text/plain": [
       "['my name is bi', 'a', '']"
      ]
     },
     "execution_count": 264,
     "metadata": {},
     "output_type": "execute_result"
    }
   ],
   "source": [
    "\"my name is bilal\".split(\"l\")"
   ]
  },
  {
   "cell_type": "markdown",
   "id": "1a8b6d6d",
   "metadata": {},
   "source": [
    "#### 8. join"
   ]
  },
  {
   "cell_type": "code",
   "execution_count": 267,
   "id": "23665d11",
   "metadata": {},
   "outputs": [
    {
     "data": {
      "text/plain": [
       "'my name is bilal'"
      ]
     },
     "execution_count": 267,
     "metadata": {},
     "output_type": "execute_result"
    }
   ],
   "source": [
    "\" \".join(['my', 'name', 'is', 'bilal'])"
   ]
  },
  {
   "cell_type": "code",
   "execution_count": 268,
   "id": "7b0ab41e",
   "metadata": {},
   "outputs": [
    {
     "data": {
      "text/plain": [
       "'my/name/is/bilal'"
      ]
     },
     "execution_count": 268,
     "metadata": {},
     "output_type": "execute_result"
    }
   ],
   "source": [
    "\"/\".join(['my', 'name', 'is', 'bilal'])"
   ]
  },
  {
   "cell_type": "markdown",
   "id": "e2eacfb8",
   "metadata": {},
   "source": [
    "#### 9. Replace"
   ]
  },
  {
   "cell_type": "code",
   "execution_count": 269,
   "id": "ec89e9dc",
   "metadata": {},
   "outputs": [
    {
     "data": {
      "text/plain": [
       "'My name is khan'"
      ]
     },
     "execution_count": 269,
     "metadata": {},
     "output_type": "execute_result"
    }
   ],
   "source": [
    "\"My name is bilal\".replace(\"bilal\",\"khan\")"
   ]
  },
  {
   "cell_type": "markdown",
   "id": "df0cf3d8",
   "metadata": {},
   "source": [
    "#### 10. Strip"
   ]
  },
  {
   "cell_type": "code",
   "execution_count": 275,
   "id": "88776dd6",
   "metadata": {},
   "outputs": [
    {
     "name": "stdout",
     "output_type": "stream",
     "text": [
      "Hi,             Bilal        \n",
      "Hi,Bilal\n"
     ]
    }
   ],
   "source": [
    "name=\"             Bilal        \"\n",
    "print(\"Hi,\"+name)\n",
    "# remove the tailing and leading strips\n",
    "print(\"Hi,\"+ name.strip())"
   ]
  },
  {
   "cell_type": "markdown",
   "id": "68774674",
   "metadata": {},
   "source": [
    "# List"
   ]
  },
  {
   "cell_type": "markdown",
   "id": "bf441cb4",
   "metadata": {},
   "source": [
    "#### Creating list"
   ]
  },
  {
   "cell_type": "code",
   "execution_count": 283,
   "id": "4acec3cb",
   "metadata": {},
   "outputs": [],
   "source": [
    "L=[]"
   ]
  },
  {
   "cell_type": "code",
   "execution_count": 284,
   "id": "58263307",
   "metadata": {},
   "outputs": [
    {
     "data": {
      "text/plain": [
       "[]"
      ]
     },
     "execution_count": 284,
     "metadata": {},
     "output_type": "execute_result"
    }
   ],
   "source": [
    "L"
   ]
  },
  {
   "cell_type": "code",
   "execution_count": 300,
   "id": "af3bab79",
   "metadata": {},
   "outputs": [
    {
     "data": {
      "text/plain": [
       "[]"
      ]
     },
     "execution_count": 300,
     "metadata": {},
     "output_type": "execute_result"
    }
   ],
   "source": [
    "L=list()"
   ]
  },
  {
   "cell_type": "code",
   "execution_count": 301,
   "id": "9f4c6bb4",
   "metadata": {},
   "outputs": [
    {
     "data": {
      "text/plain": [
       "[]"
      ]
     },
     "execution_count": 301,
     "metadata": {},
     "output_type": "execute_result"
    }
   ],
   "source": [
    "L"
   ]
  },
  {
   "cell_type": "code",
   "execution_count": 303,
   "id": "f871fdf1",
   "metadata": {},
   "outputs": [],
   "source": [
    "L=[1,2,3,4,5]"
   ]
  },
  {
   "cell_type": "code",
   "execution_count": 286,
   "id": "bdb7980f",
   "metadata": {},
   "outputs": [
    {
     "data": {
      "text/plain": [
       "[1, 2, 3, 4, 5]"
      ]
     },
     "execution_count": 286,
     "metadata": {},
     "output_type": "execute_result"
    }
   ],
   "source": [
    "L"
   ]
  },
  {
   "cell_type": "code",
   "execution_count": 289,
   "id": "79c86bb7",
   "metadata": {},
   "outputs": [],
   "source": [
    "L2=[\"Karachi\",2,3.4,True,5+6j]"
   ]
  },
  {
   "cell_type": "code",
   "execution_count": 290,
   "id": "f21bd792",
   "metadata": {},
   "outputs": [
    {
     "data": {
      "text/plain": [
       "['Karachi', 2, 3.4, True, (5+6j)]"
      ]
     },
     "execution_count": 290,
     "metadata": {},
     "output_type": "execute_result"
    }
   ],
   "source": [
    "L2"
   ]
  },
  {
   "cell_type": "code",
   "execution_count": 293,
   "id": "7ac09c98",
   "metadata": {},
   "outputs": [],
   "source": [
    "# 2D hetrogenous list\n",
    "L3=[1,2,3,[4,5]]"
   ]
  },
  {
   "cell_type": "code",
   "execution_count": 294,
   "id": "79c054ca",
   "metadata": {},
   "outputs": [
    {
     "data": {
      "text/plain": [
       "[1, 2, 3, [4, 5]]"
      ]
     },
     "execution_count": 294,
     "metadata": {},
     "output_type": "execute_result"
    }
   ],
   "source": [
    "L3"
   ]
  },
  {
   "cell_type": "code",
   "execution_count": 295,
   "id": "122cb87b",
   "metadata": {},
   "outputs": [],
   "source": [
    "# 3D list\n",
    "L4=[[[1,2],[3,4]],[[5,6],[7,8]]]"
   ]
  },
  {
   "cell_type": "code",
   "execution_count": 296,
   "id": "aadfe7d7",
   "metadata": {},
   "outputs": [
    {
     "data": {
      "text/plain": [
       "[[[1, 2], [3, 4]], [[5, 6], [7, 8]]]"
      ]
     },
     "execution_count": 296,
     "metadata": {},
     "output_type": "execute_result"
    }
   ],
   "source": [
    "L4"
   ]
  },
  {
   "cell_type": "code",
   "execution_count": 297,
   "id": "4f26da7e",
   "metadata": {},
   "outputs": [],
   "source": [
    "L5=list(\"Karachi\")"
   ]
  },
  {
   "cell_type": "code",
   "execution_count": 298,
   "id": "091047d6",
   "metadata": {},
   "outputs": [
    {
     "data": {
      "text/plain": [
       "['K', 'a', 'r', 'a', 'c', 'h', 'i']"
      ]
     },
     "execution_count": 298,
     "metadata": {},
     "output_type": "execute_result"
    }
   ],
   "source": [
    "L5"
   ]
  },
  {
   "cell_type": "markdown",
   "id": "3a11b9e0",
   "metadata": {},
   "source": [
    "#### Accessing list"
   ]
  },
  {
   "cell_type": "code",
   "execution_count": 304,
   "id": "b4cfe34d",
   "metadata": {},
   "outputs": [],
   "source": [
    "L=[1,2,3,4,5]"
   ]
  },
  {
   "cell_type": "code",
   "execution_count": 305,
   "id": "f3b1c966",
   "metadata": {},
   "outputs": [
    {
     "data": {
      "text/plain": [
       "1"
      ]
     },
     "execution_count": 305,
     "metadata": {},
     "output_type": "execute_result"
    }
   ],
   "source": [
    "L[0]"
   ]
  },
  {
   "cell_type": "code",
   "execution_count": 306,
   "id": "48769383",
   "metadata": {},
   "outputs": [
    {
     "data": {
      "text/plain": [
       "5"
      ]
     },
     "execution_count": 306,
     "metadata": {},
     "output_type": "execute_result"
    }
   ],
   "source": [
    "L[-1]"
   ]
  },
  {
   "cell_type": "code",
   "execution_count": 307,
   "id": "81cc47da",
   "metadata": {},
   "outputs": [
    {
     "data": {
      "text/plain": [
       "[2, 3]"
      ]
     },
     "execution_count": 307,
     "metadata": {},
     "output_type": "execute_result"
    }
   ],
   "source": [
    "L[1:3]"
   ]
  },
  {
   "cell_type": "code",
   "execution_count": 308,
   "id": "4e39f251",
   "metadata": {},
   "outputs": [
    {
     "data": {
      "text/plain": [
       "[5, 4, 3, 2, 1]"
      ]
     },
     "execution_count": 308,
     "metadata": {},
     "output_type": "execute_result"
    }
   ],
   "source": [
    "L[::-1]"
   ]
  },
  {
   "cell_type": "code",
   "execution_count": 309,
   "id": "5292716f",
   "metadata": {},
   "outputs": [
    {
     "data": {
      "text/plain": [
       "[1, 2, 3, [4, 5]]"
      ]
     },
     "execution_count": 309,
     "metadata": {},
     "output_type": "execute_result"
    }
   ],
   "source": [
    "L3"
   ]
  },
  {
   "cell_type": "code",
   "execution_count": 313,
   "id": "4213147d",
   "metadata": {},
   "outputs": [
    {
     "data": {
      "text/plain": [
       "4"
      ]
     },
     "execution_count": 313,
     "metadata": {},
     "output_type": "execute_result"
    }
   ],
   "source": [
    "#Accessing 4 from 2D-list\n",
    "L3[-1][0]"
   ]
  },
  {
   "cell_type": "code",
   "execution_count": 314,
   "id": "a134ba27",
   "metadata": {},
   "outputs": [
    {
     "data": {
      "text/plain": [
       "[[[1, 2], [3, 4]], [[5, 6], [7, 8]]]"
      ]
     },
     "execution_count": 314,
     "metadata": {},
     "output_type": "execute_result"
    }
   ],
   "source": [
    "L4"
   ]
  },
  {
   "cell_type": "code",
   "execution_count": 315,
   "id": "a626668f",
   "metadata": {},
   "outputs": [
    {
     "data": {
      "text/plain": [
       "7"
      ]
     },
     "execution_count": 315,
     "metadata": {},
     "output_type": "execute_result"
    }
   ],
   "source": [
    "# Accessing 7 from 3D-list\n",
    "L4[1][1][0]"
   ]
  },
  {
   "cell_type": "markdown",
   "id": "b40aa80f",
   "metadata": {},
   "source": [
    "#### Editing items of list"
   ]
  },
  {
   "cell_type": "code",
   "execution_count": 321,
   "id": "c8d1ab16",
   "metadata": {},
   "outputs": [
    {
     "data": {
      "text/plain": [
       "[1, 2, 3, 4, 5]"
      ]
     },
     "execution_count": 321,
     "metadata": {},
     "output_type": "execute_result"
    }
   ],
   "source": [
    "L=[1,2,3,4,5]\n",
    "L"
   ]
  },
  {
   "cell_type": "code",
   "execution_count": 322,
   "id": "f6c3b2a8",
   "metadata": {},
   "outputs": [],
   "source": [
    "# Replacing 1(zero index) with 100 using positive indexing\n",
    "L[0]=100"
   ]
  },
  {
   "cell_type": "code",
   "execution_count": 323,
   "id": "5e5c82cb",
   "metadata": {},
   "outputs": [
    {
     "data": {
      "text/plain": [
       "[100, 2, 3, 4, 5]"
      ]
     },
     "execution_count": 323,
     "metadata": {},
     "output_type": "execute_result"
    }
   ],
   "source": [
    "L"
   ]
  },
  {
   "cell_type": "code",
   "execution_count": 324,
   "id": "addc16ee",
   "metadata": {},
   "outputs": [],
   "source": [
    "# Replacing last index value with 500 using negative indexing\n",
    "L[-1]=500"
   ]
  },
  {
   "cell_type": "code",
   "execution_count": 325,
   "id": "4f63d8af",
   "metadata": {},
   "outputs": [
    {
     "data": {
      "text/plain": [
       "[100, 2, 3, 4, 500]"
      ]
     },
     "execution_count": 325,
     "metadata": {},
     "output_type": "execute_result"
    }
   ],
   "source": [
    "L"
   ]
  },
  {
   "cell_type": "code",
   "execution_count": 328,
   "id": "f7cd711e",
   "metadata": {},
   "outputs": [],
   "source": [
    "# Editing list using slicing\n",
    "L[1:4]=[200,300,400]"
   ]
  },
  {
   "cell_type": "code",
   "execution_count": 329,
   "id": "5148c98d",
   "metadata": {},
   "outputs": [
    {
     "data": {
      "text/plain": [
       "[100, 200, 300, 400, 500]"
      ]
     },
     "execution_count": 329,
     "metadata": {},
     "output_type": "execute_result"
    }
   ],
   "source": [
    "L"
   ]
  },
  {
   "cell_type": "markdown",
   "id": "6aea7fed",
   "metadata": {},
   "source": [
    "#### Adding new items in list\n",
    "- Append\n",
    "- Extend\n",
    "- Inser"
   ]
  },
  {
   "cell_type": "code",
   "execution_count": 360,
   "id": "b670bb4e",
   "metadata": {},
   "outputs": [
    {
     "data": {
      "text/plain": [
       "[100, 200, 300, 400, 500]"
      ]
     },
     "execution_count": 360,
     "metadata": {},
     "output_type": "execute_result"
    }
   ],
   "source": [
    "L=[100,200,300,400,500]\n",
    "L"
   ]
  },
  {
   "cell_type": "code",
   "execution_count": 361,
   "id": "b30643d9",
   "metadata": {},
   "outputs": [],
   "source": [
    "L.append(1000)"
   ]
  },
  {
   "cell_type": "code",
   "execution_count": 362,
   "id": "e4c18bec",
   "metadata": {},
   "outputs": [
    {
     "data": {
      "text/plain": [
       "[100, 200, 300, 400, 500, 1000, 'Hello']"
      ]
     },
     "execution_count": 362,
     "metadata": {},
     "output_type": "execute_result"
    }
   ],
   "source": [
    "L.append(\"Hello\")\n",
    "L"
   ]
  },
  {
   "cell_type": "code",
   "execution_count": 363,
   "id": "c3d38367",
   "metadata": {},
   "outputs": [],
   "source": [
    "L.extend([2000,3000,4000])"
   ]
  },
  {
   "cell_type": "code",
   "execution_count": 364,
   "id": "ca9422cc",
   "metadata": {},
   "outputs": [
    {
     "data": {
      "text/plain": [
       "[100, 200, 300, 400, 500, 1000, 'Hello', 2000, 3000, 4000]"
      ]
     },
     "execution_count": 364,
     "metadata": {},
     "output_type": "execute_result"
    }
   ],
   "source": [
    "L"
   ]
  },
  {
   "cell_type": "code",
   "execution_count": 365,
   "id": "203d8ad9",
   "metadata": {},
   "outputs": [],
   "source": [
    "L.append([5,6])"
   ]
  },
  {
   "cell_type": "code",
   "execution_count": 366,
   "id": "0ebdec7c",
   "metadata": {},
   "outputs": [
    {
     "data": {
      "text/plain": [
       "[100, 200, 300, 400, 500, 1000, 'Hello', 2000, 3000, 4000, [5, 6]]"
      ]
     },
     "execution_count": 366,
     "metadata": {},
     "output_type": "execute_result"
    }
   ],
   "source": [
    "L"
   ]
  },
  {
   "cell_type": "code",
   "execution_count": 367,
   "id": "e6303c8b",
   "metadata": {},
   "outputs": [],
   "source": [
    "L.extend(\"Bilal\")"
   ]
  },
  {
   "cell_type": "code",
   "execution_count": 368,
   "id": "272b1117",
   "metadata": {},
   "outputs": [
    {
     "data": {
      "text/plain": [
       "[100,\n",
       " 200,\n",
       " 300,\n",
       " 400,\n",
       " 500,\n",
       " 1000,\n",
       " 'Hello',\n",
       " 2000,\n",
       " 3000,\n",
       " 4000,\n",
       " [5, 6],\n",
       " 'B',\n",
       " 'i',\n",
       " 'l',\n",
       " 'a',\n",
       " 'l']"
      ]
     },
     "execution_count": 368,
     "metadata": {},
     "output_type": "execute_result"
    }
   ],
   "source": [
    "L"
   ]
  },
  {
   "cell_type": "code",
   "execution_count": 372,
   "id": "8995e714",
   "metadata": {},
   "outputs": [
    {
     "data": {
      "text/plain": [
       "[1, 2, 3, 4, 5]"
      ]
     },
     "execution_count": 372,
     "metadata": {},
     "output_type": "execute_result"
    }
   ],
   "source": [
    "L=[1,2,3,4,5]\n",
    "L"
   ]
  },
  {
   "cell_type": "code",
   "execution_count": 373,
   "id": "4e61eee9",
   "metadata": {},
   "outputs": [],
   "source": [
    "L.insert(1,\"world\")"
   ]
  },
  {
   "cell_type": "code",
   "execution_count": 374,
   "id": "bb81dd31",
   "metadata": {},
   "outputs": [
    {
     "data": {
      "text/plain": [
       "[1, 'world', 2, 3, 4, 5]"
      ]
     },
     "execution_count": 374,
     "metadata": {},
     "output_type": "execute_result"
    }
   ],
   "source": [
    "L"
   ]
  },
  {
   "cell_type": "markdown",
   "id": "c5895974",
   "metadata": {},
   "source": [
    "#### Deleting items from list\n",
    "- del\n",
    "- remove\n",
    "- pop\n",
    "- clear"
   ]
  },
  {
   "cell_type": "code",
   "execution_count": 375,
   "id": "309e701b",
   "metadata": {},
   "outputs": [
    {
     "data": {
      "text/plain": [
       "['Karachi', 2, 3.4, True, (5+6j)]"
      ]
     },
     "execution_count": 375,
     "metadata": {},
     "output_type": "execute_result"
    }
   ],
   "source": [
    "L2"
   ]
  },
  {
   "cell_type": "code",
   "execution_count": 376,
   "id": "561a0510",
   "metadata": {},
   "outputs": [],
   "source": [
    "del L2"
   ]
  },
  {
   "cell_type": "code",
   "execution_count": 377,
   "id": "010acc54",
   "metadata": {},
   "outputs": [
    {
     "ename": "NameError",
     "evalue": "name 'L2' is not defined",
     "output_type": "error",
     "traceback": [
      "\u001b[1;31m---------------------------------------------------------------------------\u001b[0m",
      "\u001b[1;31mNameError\u001b[0m                                 Traceback (most recent call last)",
      "\u001b[1;32m~\\AppData\\Local\\Temp\\ipykernel_16856\\2622209576.py\u001b[0m in \u001b[0;36m<module>\u001b[1;34m\u001b[0m\n\u001b[1;32m----> 1\u001b[1;33m \u001b[0mL2\u001b[0m\u001b[1;33m\u001b[0m\u001b[1;33m\u001b[0m\u001b[0m\n\u001b[0m",
      "\u001b[1;31mNameError\u001b[0m: name 'L2' is not defined"
     ]
    }
   ],
   "source": [
    "L2"
   ]
  },
  {
   "cell_type": "code",
   "execution_count": 378,
   "id": "e3767035",
   "metadata": {},
   "outputs": [
    {
     "data": {
      "text/plain": [
       "[1, 'world', 2, 3, 4, 5]"
      ]
     },
     "execution_count": 378,
     "metadata": {},
     "output_type": "execute_result"
    }
   ],
   "source": [
    "L"
   ]
  },
  {
   "cell_type": "code",
   "execution_count": 379,
   "id": "0cdb30f8",
   "metadata": {},
   "outputs": [],
   "source": [
    "del L[1]"
   ]
  },
  {
   "cell_type": "code",
   "execution_count": 380,
   "id": "5f1ea4e0",
   "metadata": {},
   "outputs": [
    {
     "data": {
      "text/plain": [
       "[1, 2, 3, 4, 5]"
      ]
     },
     "execution_count": 380,
     "metadata": {},
     "output_type": "execute_result"
    }
   ],
   "source": [
    "L"
   ]
  },
  {
   "cell_type": "code",
   "execution_count": 381,
   "id": "7ae6a1e5",
   "metadata": {},
   "outputs": [],
   "source": [
    "del L[-1]"
   ]
  },
  {
   "cell_type": "code",
   "execution_count": 382,
   "id": "b858aa24",
   "metadata": {},
   "outputs": [
    {
     "data": {
      "text/plain": [
       "[1, 2, 3, 4]"
      ]
     },
     "execution_count": 382,
     "metadata": {},
     "output_type": "execute_result"
    }
   ],
   "source": [
    "L"
   ]
  },
  {
   "cell_type": "code",
   "execution_count": 387,
   "id": "569f76a4",
   "metadata": {},
   "outputs": [],
   "source": [
    "del L[-3:]"
   ]
  },
  {
   "cell_type": "code",
   "execution_count": 388,
   "id": "61e7a908",
   "metadata": {},
   "outputs": [
    {
     "data": {
      "text/plain": [
       "[1]"
      ]
     },
     "execution_count": 388,
     "metadata": {},
     "output_type": "execute_result"
    }
   ],
   "source": [
    "L"
   ]
  },
  {
   "cell_type": "code",
   "execution_count": 402,
   "id": "da826380",
   "metadata": {},
   "outputs": [
    {
     "data": {
      "text/plain": [
       "[1, 2, 'hello']"
      ]
     },
     "execution_count": 402,
     "metadata": {},
     "output_type": "execute_result"
    }
   ],
   "source": [
    "L=[1,2,\"hello\"]\n",
    "L"
   ]
  },
  {
   "cell_type": "code",
   "execution_count": 398,
   "id": "121460e1",
   "metadata": {},
   "outputs": [],
   "source": [
    "L.remove(\"hello\")"
   ]
  },
  {
   "cell_type": "code",
   "execution_count": 399,
   "id": "fd84a4b6",
   "metadata": {},
   "outputs": [
    {
     "data": {
      "text/plain": [
       "[1, 2]"
      ]
     },
     "execution_count": 399,
     "metadata": {},
     "output_type": "execute_result"
    }
   ],
   "source": [
    "L"
   ]
  },
  {
   "cell_type": "code",
   "execution_count": 400,
   "id": "1da4c62b",
   "metadata": {},
   "outputs": [
    {
     "data": {
      "text/plain": [
       "2"
      ]
     },
     "execution_count": 400,
     "metadata": {},
     "output_type": "execute_result"
    }
   ],
   "source": [
    "L.pop()"
   ]
  },
  {
   "cell_type": "code",
   "execution_count": 401,
   "id": "c66b69fa",
   "metadata": {},
   "outputs": [
    {
     "data": {
      "text/plain": [
       "[1]"
      ]
     },
     "execution_count": 401,
     "metadata": {},
     "output_type": "execute_result"
    }
   ],
   "source": [
    "L"
   ]
  },
  {
   "cell_type": "code",
   "execution_count": 403,
   "id": "a8e2af31",
   "metadata": {},
   "outputs": [
    {
     "data": {
      "text/plain": [
       "[1, 2, 'hello']"
      ]
     },
     "execution_count": 403,
     "metadata": {},
     "output_type": "execute_result"
    }
   ],
   "source": [
    "L"
   ]
  },
  {
   "cell_type": "code",
   "execution_count": 404,
   "id": "d5d5f83a",
   "metadata": {},
   "outputs": [],
   "source": [
    "L.clear()"
   ]
  },
  {
   "cell_type": "code",
   "execution_count": 405,
   "id": "0d7a4c78",
   "metadata": {},
   "outputs": [
    {
     "data": {
      "text/plain": [
       "[]"
      ]
     },
     "execution_count": 405,
     "metadata": {},
     "output_type": "execute_result"
    }
   ],
   "source": [
    "L"
   ]
  },
  {
   "cell_type": "markdown",
   "id": "4a97c8c9",
   "metadata": {},
   "source": [
    "#### List operations"
   ]
  },
  {
   "cell_type": "code",
   "execution_count": 406,
   "id": "159b0305",
   "metadata": {},
   "outputs": [],
   "source": [
    "L=[1,2,3,4]"
   ]
  },
  {
   "cell_type": "code",
   "execution_count": 407,
   "id": "cbc8be0d",
   "metadata": {},
   "outputs": [],
   "source": [
    "L1=[5,6,7,8]"
   ]
  },
  {
   "cell_type": "code",
   "execution_count": 408,
   "id": "288b6ffd",
   "metadata": {},
   "outputs": [
    {
     "data": {
      "text/plain": [
       "[1, 2, 3, 4, 5, 6, 7, 8]"
      ]
     },
     "execution_count": 408,
     "metadata": {},
     "output_type": "execute_result"
    }
   ],
   "source": [
    "# concatenation (creates a new list)\n",
    "L + L1"
   ]
  },
  {
   "cell_type": "code",
   "execution_count": 409,
   "id": "b6105ba7",
   "metadata": {},
   "outputs": [
    {
     "data": {
      "text/plain": [
       "[1, 2, 3, 4]"
      ]
     },
     "execution_count": 409,
     "metadata": {},
     "output_type": "execute_result"
    }
   ],
   "source": [
    "L"
   ]
  },
  {
   "cell_type": "code",
   "execution_count": 410,
   "id": "6b94c1e5",
   "metadata": {},
   "outputs": [
    {
     "data": {
      "text/plain": [
       "[5, 6, 7, 8]"
      ]
     },
     "execution_count": 410,
     "metadata": {},
     "output_type": "execute_result"
    }
   ],
   "source": [
    "L1"
   ]
  },
  {
   "cell_type": "code",
   "execution_count": 411,
   "id": "943851dc",
   "metadata": {},
   "outputs": [
    {
     "data": {
      "text/plain": [
       "[1, 2, 3, 4, 1, 2, 3, 4, 1, 2, 3, 4]"
      ]
     },
     "execution_count": 411,
     "metadata": {},
     "output_type": "execute_result"
    }
   ],
   "source": [
    "L * 3"
   ]
  },
  {
   "cell_type": "code",
   "execution_count": 412,
   "id": "7aebf891",
   "metadata": {},
   "outputs": [
    {
     "name": "stdout",
     "output_type": "stream",
     "text": [
      "1\n",
      "2\n",
      "3\n",
      "4\n"
     ]
    }
   ],
   "source": [
    "for i in L:\n",
    "    print(i)"
   ]
  },
  {
   "cell_type": "code",
   "execution_count": 413,
   "id": "fdee113e",
   "metadata": {},
   "outputs": [
    {
     "data": {
      "text/plain": [
       "[1, 2, 3, [4, 5]]"
      ]
     },
     "execution_count": 413,
     "metadata": {},
     "output_type": "execute_result"
    }
   ],
   "source": [
    "L3"
   ]
  },
  {
   "cell_type": "code",
   "execution_count": 415,
   "id": "db60fa5b",
   "metadata": {},
   "outputs": [
    {
     "name": "stdout",
     "output_type": "stream",
     "text": [
      "1\n",
      "2\n",
      "3\n",
      "[4, 5]\n"
     ]
    }
   ],
   "source": [
    "for i in L3:\n",
    "    print(i)"
   ]
  },
  {
   "cell_type": "code",
   "execution_count": 416,
   "id": "9f35cb33",
   "metadata": {},
   "outputs": [
    {
     "data": {
      "text/plain": [
       "[1, 2, 3, 4]"
      ]
     },
     "execution_count": 416,
     "metadata": {},
     "output_type": "execute_result"
    }
   ],
   "source": [
    "L"
   ]
  },
  {
   "cell_type": "code",
   "execution_count": 418,
   "id": "c22a994e",
   "metadata": {},
   "outputs": [
    {
     "data": {
      "text/plain": [
       "False"
      ]
     },
     "execution_count": 418,
     "metadata": {},
     "output_type": "execute_result"
    }
   ],
   "source": [
    "4 in L3"
   ]
  },
  {
   "cell_type": "code",
   "execution_count": 419,
   "id": "b0b6efb5",
   "metadata": {},
   "outputs": [
    {
     "data": {
      "text/plain": [
       "True"
      ]
     },
     "execution_count": 419,
     "metadata": {},
     "output_type": "execute_result"
    }
   ],
   "source": [
    "[4,5] in L3"
   ]
  },
  {
   "cell_type": "markdown",
   "id": "5d7401d3",
   "metadata": {},
   "source": [
    "#### Functions in list"
   ]
  },
  {
   "cell_type": "code",
   "execution_count": 526,
   "id": "33ebd4e7",
   "metadata": {},
   "outputs": [
    {
     "data": {
      "text/plain": [
       "[1, 2, 3, 4]"
      ]
     },
     "execution_count": 526,
     "metadata": {},
     "output_type": "execute_result"
    }
   ],
   "source": [
    "L=[1,2,3,4]\n",
    "L"
   ]
  },
  {
   "cell_type": "code",
   "execution_count": 527,
   "id": "fedb3fb2",
   "metadata": {},
   "outputs": [
    {
     "data": {
      "text/plain": [
       "4"
      ]
     },
     "execution_count": 527,
     "metadata": {},
     "output_type": "execute_result"
    }
   ],
   "source": [
    "len(L)"
   ]
  },
  {
   "cell_type": "code",
   "execution_count": 528,
   "id": "c03c7486",
   "metadata": {},
   "outputs": [
    {
     "data": {
      "text/plain": [
       "1"
      ]
     },
     "execution_count": 528,
     "metadata": {},
     "output_type": "execute_result"
    }
   ],
   "source": [
    "min(L)"
   ]
  },
  {
   "cell_type": "code",
   "execution_count": 529,
   "id": "2195e1bc",
   "metadata": {},
   "outputs": [
    {
     "data": {
      "text/plain": [
       "4"
      ]
     },
     "execution_count": 529,
     "metadata": {},
     "output_type": "execute_result"
    }
   ],
   "source": [
    "max(L)"
   ]
  },
  {
   "cell_type": "code",
   "execution_count": 530,
   "id": "c5b57632",
   "metadata": {},
   "outputs": [
    {
     "data": {
      "text/plain": [
       "10"
      ]
     },
     "execution_count": 530,
     "metadata": {},
     "output_type": "execute_result"
    }
   ],
   "source": [
    "sum(L)"
   ]
  },
  {
   "cell_type": "code",
   "execution_count": 426,
   "id": "83ece085",
   "metadata": {},
   "outputs": [
    {
     "data": {
      "text/plain": [
       "[1, 2, 3, 4]"
      ]
     },
     "execution_count": 426,
     "metadata": {},
     "output_type": "execute_result"
    }
   ],
   "source": [
    "sorted(L)"
   ]
  },
  {
   "cell_type": "code",
   "execution_count": 427,
   "id": "485f8fe6",
   "metadata": {},
   "outputs": [
    {
     "data": {
      "text/plain": [
       "[4, 3, 2, 1]"
      ]
     },
     "execution_count": 427,
     "metadata": {},
     "output_type": "execute_result"
    }
   ],
   "source": [
    "sorted(L,reverse=True)"
   ]
  },
  {
   "cell_type": "code",
   "execution_count": 428,
   "id": "b4c4f169",
   "metadata": {},
   "outputs": [
    {
     "data": {
      "text/plain": [
       "[1, 2, 3, 4]"
      ]
     },
     "execution_count": 428,
     "metadata": {},
     "output_type": "execute_result"
    }
   ],
   "source": [
    "L"
   ]
  },
  {
   "cell_type": "code",
   "execution_count": 429,
   "id": "810030d6",
   "metadata": {},
   "outputs": [],
   "source": [
    "L.sort()"
   ]
  },
  {
   "cell_type": "code",
   "execution_count": 430,
   "id": "89130dd3",
   "metadata": {},
   "outputs": [
    {
     "data": {
      "text/plain": [
       "[1, 2, 3, 4]"
      ]
     },
     "execution_count": 430,
     "metadata": {},
     "output_type": "execute_result"
    }
   ],
   "source": [
    "L"
   ]
  },
  {
   "cell_type": "code",
   "execution_count": 431,
   "id": "e450b1a6",
   "metadata": {},
   "outputs": [],
   "source": [
    "L.sort(reverse=True)"
   ]
  },
  {
   "cell_type": "code",
   "execution_count": 432,
   "id": "7865f046",
   "metadata": {},
   "outputs": [
    {
     "data": {
      "text/plain": [
       "[4, 3, 2, 1]"
      ]
     },
     "execution_count": 432,
     "metadata": {},
     "output_type": "execute_result"
    }
   ],
   "source": [
    "L"
   ]
  },
  {
   "cell_type": "code",
   "execution_count": 433,
   "id": "da136f14",
   "metadata": {},
   "outputs": [
    {
     "data": {
      "text/plain": [
       "[4, 3, 2, 1]"
      ]
     },
     "execution_count": 433,
     "metadata": {},
     "output_type": "execute_result"
    }
   ],
   "source": [
    "L"
   ]
  },
  {
   "cell_type": "code",
   "execution_count": 434,
   "id": "edb24324",
   "metadata": {},
   "outputs": [],
   "source": [
    "L.sort()"
   ]
  },
  {
   "cell_type": "code",
   "execution_count": 435,
   "id": "9741e279",
   "metadata": {},
   "outputs": [
    {
     "data": {
      "text/plain": [
       "[1, 2, 3, 4]"
      ]
     },
     "execution_count": 435,
     "metadata": {},
     "output_type": "execute_result"
    }
   ],
   "source": [
    "L"
   ]
  },
  {
   "cell_type": "code",
   "execution_count": 436,
   "id": "bd89712c",
   "metadata": {},
   "outputs": [],
   "source": [
    "# the difference b/w sort and sorted is that sort() perform permanent changes in the list\n",
    "# whereas sorted will create the new list"
   ]
  },
  {
   "cell_type": "code",
   "execution_count": 437,
   "id": "4eef9350",
   "metadata": {},
   "outputs": [
    {
     "data": {
      "text/plain": [
       "2"
      ]
     },
     "execution_count": 437,
     "metadata": {},
     "output_type": "execute_result"
    }
   ],
   "source": [
    "L.index(3)"
   ]
  },
  {
   "cell_type": "markdown",
   "id": "4d491438",
   "metadata": {},
   "source": [
    "### List exercises\n",
    "##### 1. convert the sentence in title case without using title function\n",
    "- sample input : \"how are you?\"\n",
    "- sample ouput : How Are You?"
   ]
  },
  {
   "cell_type": "code",
   "execution_count": 450,
   "id": "81687a45",
   "metadata": {},
   "outputs": [
    {
     "name": "stdout",
     "output_type": "stream",
     "text": [
      "How\n",
      "Are\n",
      "You?\n",
      "['How', 'Are', 'You?']\n",
      "How Are You?\n"
     ]
    }
   ],
   "source": [
    "sample=\"how are you?\"\n",
    "# Creating list and breaking each word using split function\n",
    "sample.split()\n",
    "# Creating empty list to append  capitalize words\n",
    "L=[]\n",
    "# for coverting in title case\n",
    "for i in sample.split():\n",
    "    print(i.capitalize())\n",
    "    L.append(i.capitalize())\n",
    "print(L)\n",
    "# for converting in string again\n",
    "print(\" \".join(L))"
   ]
  },
  {
   "cell_type": "markdown",
   "id": "4374f327",
   "metadata": {},
   "source": [
    "###### 2. Remove the first part of the email address\n",
    "- sample input : abc@gmail.com\n",
    "- sample input : abc"
   ]
  },
  {
   "cell_type": "code",
   "execution_count": 452,
   "id": "5a7ff796",
   "metadata": {},
   "outputs": [
    {
     "name": "stdout",
     "output_type": "stream",
     "text": [
      "abc\n"
     ]
    }
   ],
   "source": [
    "sample=\"abc@gmail.com\"\n",
    "print(sample[:sample.find(\"@\")])"
   ]
  },
  {
   "cell_type": "markdown",
   "id": "3d1e743b",
   "metadata": {},
   "source": [
    "##### 3. Remove duplicate items from list\n",
    "- sample input : [1,1,2,3,4,4,5,6,7,7,8,8,9]\n",
    "- sample output: [1,2,3,4,5,6,7,8,9]"
   ]
  },
  {
   "cell_type": "code",
   "execution_count": 457,
   "id": "59489a36",
   "metadata": {},
   "outputs": [
    {
     "name": "stdout",
     "output_type": "stream",
     "text": [
      "[1, 2, 3, 4, 5, 6, 7, 8, 9]\n"
     ]
    }
   ],
   "source": [
    "L=[1,1,2,3,4,4,5,6,7,7,8,8,9]\n",
    "unique=[]\n",
    "for i in L:\n",
    "    if i not in unique:\n",
    "        unique.append(i)\n",
    "print(unique)"
   ]
  },
  {
   "cell_type": "markdown",
   "id": "1a9f1681",
   "metadata": {},
   "source": [
    "# Tuples"
   ]
  },
  {
   "cell_type": "markdown",
   "id": "5259aaf3",
   "metadata": {},
   "source": [
    "#### Creating Tuples"
   ]
  },
  {
   "cell_type": "code",
   "execution_count": 458,
   "id": "d8614ec3",
   "metadata": {},
   "outputs": [],
   "source": [
    "T1=()"
   ]
  },
  {
   "cell_type": "code",
   "execution_count": 459,
   "id": "5bef8106",
   "metadata": {},
   "outputs": [
    {
     "data": {
      "text/plain": [
       "()"
      ]
     },
     "execution_count": 459,
     "metadata": {},
     "output_type": "execute_result"
    }
   ],
   "source": [
    "T1"
   ]
  },
  {
   "cell_type": "code",
   "execution_count": 460,
   "id": "32cf8d36",
   "metadata": {},
   "outputs": [],
   "source": [
    "T2=(1,2,3,4)"
   ]
  },
  {
   "cell_type": "code",
   "execution_count": 461,
   "id": "17c85fe3",
   "metadata": {},
   "outputs": [
    {
     "data": {
      "text/plain": [
       "(1, 2, 3, 4)"
      ]
     },
     "execution_count": 461,
     "metadata": {},
     "output_type": "execute_result"
    }
   ],
   "source": [
    "T2"
   ]
  },
  {
   "cell_type": "code",
   "execution_count": 464,
   "id": "c8094e1c",
   "metadata": {},
   "outputs": [],
   "source": [
    "T3=(\"Hello\",2,5.4,True)"
   ]
  },
  {
   "cell_type": "code",
   "execution_count": 465,
   "id": "01905743",
   "metadata": {},
   "outputs": [
    {
     "data": {
      "text/plain": [
       "('Hello', 2, 5.4, True)"
      ]
     },
     "execution_count": 465,
     "metadata": {},
     "output_type": "execute_result"
    }
   ],
   "source": [
    "T3"
   ]
  },
  {
   "cell_type": "code",
   "execution_count": 466,
   "id": "c48165de",
   "metadata": {},
   "outputs": [],
   "source": [
    "T4=(1,2,3,(4,5))"
   ]
  },
  {
   "cell_type": "code",
   "execution_count": 467,
   "id": "e08a133b",
   "metadata": {},
   "outputs": [
    {
     "data": {
      "text/plain": [
       "(1, 2, 3, (4, 5))"
      ]
     },
     "execution_count": 467,
     "metadata": {},
     "output_type": "execute_result"
    }
   ],
   "source": [
    "T4"
   ]
  },
  {
   "cell_type": "code",
   "execution_count": 468,
   "id": "f17456e2",
   "metadata": {},
   "outputs": [],
   "source": [
    "# one item can not make tuple without (,)\n",
    "T5=(1)"
   ]
  },
  {
   "cell_type": "code",
   "execution_count": 469,
   "id": "9fc6ad88",
   "metadata": {},
   "outputs": [
    {
     "data": {
      "text/plain": [
       "1"
      ]
     },
     "execution_count": 469,
     "metadata": {},
     "output_type": "execute_result"
    }
   ],
   "source": [
    "T5"
   ]
  },
  {
   "cell_type": "code",
   "execution_count": 470,
   "id": "fe24acbe",
   "metadata": {},
   "outputs": [
    {
     "data": {
      "text/plain": [
       "int"
      ]
     },
     "execution_count": 470,
     "metadata": {},
     "output_type": "execute_result"
    }
   ],
   "source": [
    "type(T5)"
   ]
  },
  {
   "cell_type": "code",
   "execution_count": 471,
   "id": "fde5d29e",
   "metadata": {},
   "outputs": [],
   "source": [
    "T5=(\"Hello\")"
   ]
  },
  {
   "cell_type": "code",
   "execution_count": 472,
   "id": "4e45d536",
   "metadata": {},
   "outputs": [
    {
     "data": {
      "text/plain": [
       "'Hello'"
      ]
     },
     "execution_count": 472,
     "metadata": {},
     "output_type": "execute_result"
    }
   ],
   "source": [
    "T5"
   ]
  },
  {
   "cell_type": "code",
   "execution_count": 473,
   "id": "1f5f49a0",
   "metadata": {},
   "outputs": [
    {
     "data": {
      "text/plain": [
       "str"
      ]
     },
     "execution_count": 473,
     "metadata": {},
     "output_type": "execute_result"
    }
   ],
   "source": [
    "type(T5)"
   ]
  },
  {
   "cell_type": "code",
   "execution_count": 474,
   "id": "e75e7307",
   "metadata": {},
   "outputs": [],
   "source": [
    "T5=(\"Hello\",)"
   ]
  },
  {
   "cell_type": "code",
   "execution_count": 475,
   "id": "9b4283ac",
   "metadata": {},
   "outputs": [
    {
     "data": {
      "text/plain": [
       "('Hello',)"
      ]
     },
     "execution_count": 475,
     "metadata": {},
     "output_type": "execute_result"
    }
   ],
   "source": [
    "T5"
   ]
  },
  {
   "cell_type": "code",
   "execution_count": 476,
   "id": "394ff584",
   "metadata": {},
   "outputs": [
    {
     "data": {
      "text/plain": [
       "tuple"
      ]
     },
     "execution_count": 476,
     "metadata": {},
     "output_type": "execute_result"
    }
   ],
   "source": [
    "type(T5)"
   ]
  },
  {
   "cell_type": "code",
   "execution_count": 477,
   "id": "8191b343",
   "metadata": {},
   "outputs": [],
   "source": [
    "T6=tuple(\"Karachi\")"
   ]
  },
  {
   "cell_type": "code",
   "execution_count": 478,
   "id": "a3cc31e2",
   "metadata": {},
   "outputs": [
    {
     "data": {
      "text/plain": [
       "('K', 'a', 'r', 'a', 'c', 'h', 'i')"
      ]
     },
     "execution_count": 478,
     "metadata": {},
     "output_type": "execute_result"
    }
   ],
   "source": [
    "T6"
   ]
  },
  {
   "cell_type": "code",
   "execution_count": 479,
   "id": "511aa12d",
   "metadata": {},
   "outputs": [],
   "source": [
    "T6=tuple([1,2,3,4,5])"
   ]
  },
  {
   "cell_type": "code",
   "execution_count": 480,
   "id": "a64cac88",
   "metadata": {},
   "outputs": [
    {
     "data": {
      "text/plain": [
       "(1, 2, 3, 4, 5)"
      ]
     },
     "execution_count": 480,
     "metadata": {},
     "output_type": "execute_result"
    }
   ],
   "source": [
    "T6"
   ]
  },
  {
   "cell_type": "markdown",
   "id": "beace934",
   "metadata": {},
   "source": [
    "#### Accessing items from tuple"
   ]
  },
  {
   "cell_type": "code",
   "execution_count": 481,
   "id": "8c7f1180",
   "metadata": {},
   "outputs": [
    {
     "data": {
      "text/plain": [
       "(1, 2, 3, 4)"
      ]
     },
     "execution_count": 481,
     "metadata": {},
     "output_type": "execute_result"
    }
   ],
   "source": [
    "T2"
   ]
  },
  {
   "cell_type": "code",
   "execution_count": 482,
   "id": "6bdadf63",
   "metadata": {},
   "outputs": [
    {
     "data": {
      "text/plain": [
       "1"
      ]
     },
     "execution_count": 482,
     "metadata": {},
     "output_type": "execute_result"
    }
   ],
   "source": [
    "T2[0]"
   ]
  },
  {
   "cell_type": "code",
   "execution_count": 483,
   "id": "262e0b1b",
   "metadata": {},
   "outputs": [
    {
     "data": {
      "text/plain": [
       "4"
      ]
     },
     "execution_count": 483,
     "metadata": {},
     "output_type": "execute_result"
    }
   ],
   "source": [
    "T2[-1]"
   ]
  },
  {
   "cell_type": "code",
   "execution_count": 484,
   "id": "cb35ea7b",
   "metadata": {},
   "outputs": [
    {
     "data": {
      "text/plain": [
       "(1, 2, 3, 4)"
      ]
     },
     "execution_count": 484,
     "metadata": {},
     "output_type": "execute_result"
    }
   ],
   "source": [
    "T2[:4]"
   ]
  },
  {
   "cell_type": "code",
   "execution_count": 485,
   "id": "6254b254",
   "metadata": {},
   "outputs": [
    {
     "data": {
      "text/plain": [
       "(4, 3, 2, 1)"
      ]
     },
     "execution_count": 485,
     "metadata": {},
     "output_type": "execute_result"
    }
   ],
   "source": [
    "T2[::-1]"
   ]
  },
  {
   "cell_type": "code",
   "execution_count": 487,
   "id": "c166f3d1",
   "metadata": {},
   "outputs": [
    {
     "data": {
      "text/plain": [
       "(1, 2, 3, (4, 5))"
      ]
     },
     "execution_count": 487,
     "metadata": {},
     "output_type": "execute_result"
    }
   ],
   "source": [
    "T4"
   ]
  },
  {
   "cell_type": "code",
   "execution_count": 488,
   "id": "74a33901",
   "metadata": {},
   "outputs": [
    {
     "data": {
      "text/plain": [
       "4"
      ]
     },
     "execution_count": 488,
     "metadata": {},
     "output_type": "execute_result"
    }
   ],
   "source": [
    "T4[-1][0]"
   ]
  },
  {
   "cell_type": "markdown",
   "id": "3e4ad469",
   "metadata": {},
   "source": [
    "#### Editing tuples\n",
    "- Tuples are immutable,it can not be edit and can not add new element"
   ]
  },
  {
   "cell_type": "code",
   "execution_count": 491,
   "id": "8f0c80b2",
   "metadata": {},
   "outputs": [
    {
     "data": {
      "text/plain": [
       "(1, 2, 3, 4)"
      ]
     },
     "execution_count": 491,
     "metadata": {},
     "output_type": "execute_result"
    }
   ],
   "source": [
    "T2"
   ]
  },
  {
   "cell_type": "code",
   "execution_count": 492,
   "id": "d44abea5",
   "metadata": {},
   "outputs": [
    {
     "ename": "TypeError",
     "evalue": "'tuple' object does not support item assignment",
     "output_type": "error",
     "traceback": [
      "\u001b[1;31m---------------------------------------------------------------------------\u001b[0m",
      "\u001b[1;31mTypeError\u001b[0m                                 Traceback (most recent call last)",
      "\u001b[1;32m~\\AppData\\Local\\Temp\\ipykernel_16856\\1909625086.py\u001b[0m in \u001b[0;36m<module>\u001b[1;34m\u001b[0m\n\u001b[1;32m----> 1\u001b[1;33m \u001b[0mT2\u001b[0m\u001b[1;33m[\u001b[0m\u001b[1;36m0\u001b[0m\u001b[1;33m]\u001b[0m\u001b[1;33m=\u001b[0m\u001b[1;36m100\u001b[0m\u001b[1;33m\u001b[0m\u001b[1;33m\u001b[0m\u001b[0m\n\u001b[0m",
      "\u001b[1;31mTypeError\u001b[0m: 'tuple' object does not support item assignment"
     ]
    }
   ],
   "source": [
    "T2[0]=100"
   ]
  },
  {
   "cell_type": "markdown",
   "id": "15629e89",
   "metadata": {},
   "source": [
    "#### Deleting tuples\n",
    "- We can not delete items from tuple, but we can delete the whole tuple"
   ]
  },
  {
   "cell_type": "code",
   "execution_count": 502,
   "id": "32e758c3",
   "metadata": {},
   "outputs": [
    {
     "data": {
      "text/plain": [
       "()"
      ]
     },
     "execution_count": 502,
     "metadata": {},
     "output_type": "execute_result"
    }
   ],
   "source": [
    "T1=()\n",
    "T1"
   ]
  },
  {
   "cell_type": "code",
   "execution_count": 503,
   "id": "281b8c23",
   "metadata": {},
   "outputs": [],
   "source": [
    "del T1"
   ]
  },
  {
   "cell_type": "code",
   "execution_count": 504,
   "id": "50e75556",
   "metadata": {},
   "outputs": [
    {
     "ename": "NameError",
     "evalue": "name 'T1' is not defined",
     "output_type": "error",
     "traceback": [
      "\u001b[1;31m---------------------------------------------------------------------------\u001b[0m",
      "\u001b[1;31mNameError\u001b[0m                                 Traceback (most recent call last)",
      "\u001b[1;32m~\\AppData\\Local\\Temp\\ipykernel_16856\\3266153028.py\u001b[0m in \u001b[0;36m<module>\u001b[1;34m\u001b[0m\n\u001b[1;32m----> 1\u001b[1;33m \u001b[0mT1\u001b[0m\u001b[1;33m\u001b[0m\u001b[1;33m\u001b[0m\u001b[0m\n\u001b[0m",
      "\u001b[1;31mNameError\u001b[0m: name 'T1' is not defined"
     ]
    }
   ],
   "source": [
    "T1"
   ]
  },
  {
   "cell_type": "code",
   "execution_count": 505,
   "id": "995f709f",
   "metadata": {},
   "outputs": [
    {
     "data": {
      "text/plain": [
       "(1, 2, 3, 4)"
      ]
     },
     "execution_count": 505,
     "metadata": {},
     "output_type": "execute_result"
    }
   ],
   "source": [
    "T2"
   ]
  },
  {
   "cell_type": "code",
   "execution_count": 506,
   "id": "4da5a2e1",
   "metadata": {},
   "outputs": [
    {
     "ename": "TypeError",
     "evalue": "'tuple' object doesn't support item deletion",
     "output_type": "error",
     "traceback": [
      "\u001b[1;31m---------------------------------------------------------------------------\u001b[0m",
      "\u001b[1;31mTypeError\u001b[0m                                 Traceback (most recent call last)",
      "\u001b[1;32m~\\AppData\\Local\\Temp\\ipykernel_16856\\2912519568.py\u001b[0m in \u001b[0;36m<module>\u001b[1;34m\u001b[0m\n\u001b[1;32m----> 1\u001b[1;33m \u001b[1;32mdel\u001b[0m \u001b[0mT2\u001b[0m\u001b[1;33m[\u001b[0m\u001b[1;33m-\u001b[0m\u001b[1;36m1\u001b[0m\u001b[1;33m]\u001b[0m\u001b[1;33m\u001b[0m\u001b[1;33m\u001b[0m\u001b[0m\n\u001b[0m",
      "\u001b[1;31mTypeError\u001b[0m: 'tuple' object doesn't support item deletion"
     ]
    }
   ],
   "source": [
    "del T2[-1]"
   ]
  },
  {
   "cell_type": "markdown",
   "id": "c63dfccb",
   "metadata": {},
   "source": [
    "#### Operations on tuple"
   ]
  },
  {
   "cell_type": "code",
   "execution_count": 507,
   "id": "be065582",
   "metadata": {},
   "outputs": [
    {
     "data": {
      "text/plain": [
       "(1, 2, 3, 4)"
      ]
     },
     "execution_count": 507,
     "metadata": {},
     "output_type": "execute_result"
    }
   ],
   "source": [
    "T2"
   ]
  },
  {
   "cell_type": "code",
   "execution_count": 508,
   "id": "9853fe42",
   "metadata": {},
   "outputs": [
    {
     "data": {
      "text/plain": [
       "('Hello', 2, 5.4, True)"
      ]
     },
     "execution_count": 508,
     "metadata": {},
     "output_type": "execute_result"
    }
   ],
   "source": [
    "T3"
   ]
  },
  {
   "cell_type": "code",
   "execution_count": 509,
   "id": "8dd06a46",
   "metadata": {},
   "outputs": [
    {
     "data": {
      "text/plain": [
       "(1, 2, 3, 4, 'Hello', 2, 5.4, True)"
      ]
     },
     "execution_count": 509,
     "metadata": {},
     "output_type": "execute_result"
    }
   ],
   "source": [
    "T2+T3"
   ]
  },
  {
   "cell_type": "code",
   "execution_count": 510,
   "id": "e3491a13",
   "metadata": {},
   "outputs": [
    {
     "data": {
      "text/plain": [
       "(1, 2, 3, 4, 1, 2, 3, 4, 1, 2, 3, 4)"
      ]
     },
     "execution_count": 510,
     "metadata": {},
     "output_type": "execute_result"
    }
   ],
   "source": [
    "T2 * 3"
   ]
  },
  {
   "cell_type": "code",
   "execution_count": 512,
   "id": "90cb7553",
   "metadata": {},
   "outputs": [
    {
     "name": "stdout",
     "output_type": "stream",
     "text": [
      "1\n",
      "2\n",
      "3\n",
      "4\n"
     ]
    }
   ],
   "source": [
    "for i in T2:\n",
    "    print(i)"
   ]
  },
  {
   "cell_type": "code",
   "execution_count": 513,
   "id": "6c18c7e5",
   "metadata": {},
   "outputs": [
    {
     "data": {
      "text/plain": [
       "True"
      ]
     },
     "execution_count": 513,
     "metadata": {},
     "output_type": "execute_result"
    }
   ],
   "source": [
    "1 in T2"
   ]
  },
  {
   "cell_type": "code",
   "execution_count": 514,
   "id": "5d68847a",
   "metadata": {},
   "outputs": [
    {
     "data": {
      "text/plain": [
       "False"
      ]
     },
     "execution_count": 514,
     "metadata": {},
     "output_type": "execute_result"
    }
   ],
   "source": [
    "5 in T2"
   ]
  },
  {
   "cell_type": "code",
   "execution_count": 515,
   "id": "1e012a9d",
   "metadata": {},
   "outputs": [
    {
     "data": {
      "text/plain": [
       "True"
      ]
     },
     "execution_count": 515,
     "metadata": {},
     "output_type": "execute_result"
    }
   ],
   "source": [
    "5 not in T2"
   ]
  },
  {
   "cell_type": "code",
   "execution_count": 516,
   "id": "12676e51",
   "metadata": {},
   "outputs": [
    {
     "data": {
      "text/plain": [
       "False"
      ]
     },
     "execution_count": 516,
     "metadata": {},
     "output_type": "execute_result"
    }
   ],
   "source": [
    "2 not in T2"
   ]
  },
  {
   "cell_type": "markdown",
   "id": "36f6fd0b",
   "metadata": {},
   "source": [
    "#### Functions on tuple"
   ]
  },
  {
   "cell_type": "code",
   "execution_count": 517,
   "id": "7a92ed49",
   "metadata": {},
   "outputs": [
    {
     "data": {
      "text/plain": [
       "(1, 2, 3, 4)"
      ]
     },
     "execution_count": 517,
     "metadata": {},
     "output_type": "execute_result"
    }
   ],
   "source": [
    "T2"
   ]
  },
  {
   "cell_type": "code",
   "execution_count": 518,
   "id": "a81d5cda",
   "metadata": {},
   "outputs": [
    {
     "data": {
      "text/plain": [
       "4"
      ]
     },
     "execution_count": 518,
     "metadata": {},
     "output_type": "execute_result"
    }
   ],
   "source": [
    "len(T2)"
   ]
  },
  {
   "cell_type": "code",
   "execution_count": 519,
   "id": "0dc86fe5",
   "metadata": {},
   "outputs": [
    {
     "data": {
      "text/plain": [
       "1"
      ]
     },
     "execution_count": 519,
     "metadata": {},
     "output_type": "execute_result"
    }
   ],
   "source": [
    "min(T2)"
   ]
  },
  {
   "cell_type": "code",
   "execution_count": 520,
   "id": "b5a17409",
   "metadata": {},
   "outputs": [
    {
     "data": {
      "text/plain": [
       "4"
      ]
     },
     "execution_count": 520,
     "metadata": {},
     "output_type": "execute_result"
    }
   ],
   "source": [
    "max(T2)"
   ]
  },
  {
   "cell_type": "code",
   "execution_count": 521,
   "id": "80347034",
   "metadata": {},
   "outputs": [
    {
     "data": {
      "text/plain": [
       "10"
      ]
     },
     "execution_count": 521,
     "metadata": {},
     "output_type": "execute_result"
    }
   ],
   "source": [
    "sum(T2)"
   ]
  },
  {
   "cell_type": "code",
   "execution_count": 522,
   "id": "e38153c4",
   "metadata": {},
   "outputs": [
    {
     "data": {
      "text/plain": [
       "[1, 2, 3, 4]"
      ]
     },
     "execution_count": 522,
     "metadata": {},
     "output_type": "execute_result"
    }
   ],
   "source": [
    "sorted(T2)"
   ]
  },
  {
   "cell_type": "code",
   "execution_count": 523,
   "id": "e692287e",
   "metadata": {},
   "outputs": [
    {
     "data": {
      "text/plain": [
       "[4, 3, 2, 1]"
      ]
     },
     "execution_count": 523,
     "metadata": {},
     "output_type": "execute_result"
    }
   ],
   "source": [
    "sorted(T2,reverse=True)"
   ]
  },
  {
   "cell_type": "markdown",
   "id": "aeff68e4",
   "metadata": {},
   "source": [
    "# Sets\n",
    "- Sets do not allow duplicates\n",
    "- Sets hav no indexing/slicing\n",
    "- Sets do not allow mutable data types\n",
    "- Sets itself is a mutable data type"
   ]
  },
  {
   "cell_type": "code",
   "execution_count": 531,
   "id": "e13e47f5",
   "metadata": {},
   "outputs": [],
   "source": [
    "# creating set"
   ]
  },
  {
   "cell_type": "code",
   "execution_count": 532,
   "id": "615f0d7b",
   "metadata": {},
   "outputs": [],
   "source": [
    "# thi syntax creates empty dict\n",
    "S1={}"
   ]
  },
  {
   "cell_type": "code",
   "execution_count": 533,
   "id": "86f8e0b8",
   "metadata": {},
   "outputs": [
    {
     "data": {
      "text/plain": [
       "{}"
      ]
     },
     "execution_count": 533,
     "metadata": {},
     "output_type": "execute_result"
    }
   ],
   "source": [
    "S1"
   ]
  },
  {
   "cell_type": "code",
   "execution_count": 534,
   "id": "90cd5e95",
   "metadata": {},
   "outputs": [
    {
     "data": {
      "text/plain": [
       "dict"
      ]
     },
     "execution_count": 534,
     "metadata": {},
     "output_type": "execute_result"
    }
   ],
   "source": [
    "type(S1)"
   ]
  },
  {
   "cell_type": "code",
   "execution_count": 536,
   "id": "7e7b9e23",
   "metadata": {},
   "outputs": [],
   "source": [
    "# it creates set\n",
    "S1=set()"
   ]
  },
  {
   "cell_type": "code",
   "execution_count": 537,
   "id": "3d60bfc3",
   "metadata": {},
   "outputs": [
    {
     "data": {
      "text/plain": [
       "set()"
      ]
     },
     "execution_count": 537,
     "metadata": {},
     "output_type": "execute_result"
    }
   ],
   "source": [
    "S1"
   ]
  },
  {
   "cell_type": "code",
   "execution_count": 538,
   "id": "34229a29",
   "metadata": {},
   "outputs": [
    {
     "data": {
      "text/plain": [
       "set"
      ]
     },
     "execution_count": 538,
     "metadata": {},
     "output_type": "execute_result"
    }
   ],
   "source": [
    "type(S1)"
   ]
  },
  {
   "cell_type": "code",
   "execution_count": 539,
   "id": "385a8b24",
   "metadata": {},
   "outputs": [],
   "source": [
    "S1={1,2,3,4,5}"
   ]
  },
  {
   "cell_type": "code",
   "execution_count": 540,
   "id": "8882ffef",
   "metadata": {},
   "outputs": [
    {
     "data": {
      "text/plain": [
       "{1, 2, 3, 4, 5}"
      ]
     },
     "execution_count": 540,
     "metadata": {},
     "output_type": "execute_result"
    }
   ],
   "source": [
    "S1"
   ]
  },
  {
   "cell_type": "code",
   "execution_count": 541,
   "id": "781150ec",
   "metadata": {},
   "outputs": [],
   "source": [
    "S2={\"Hello\",4.5,True}"
   ]
  },
  {
   "cell_type": "code",
   "execution_count": 542,
   "id": "802bfa1e",
   "metadata": {},
   "outputs": [
    {
     "data": {
      "text/plain": [
       "{4.5, 'Hello', True}"
      ]
     },
     "execution_count": 542,
     "metadata": {},
     "output_type": "execute_result"
    }
   ],
   "source": [
    "S2"
   ]
  },
  {
   "cell_type": "code",
   "execution_count": 543,
   "id": "da2fed55",
   "metadata": {},
   "outputs": [],
   "source": [
    "S3={1,1,2,3,1,4,5,3,3}"
   ]
  },
  {
   "cell_type": "code",
   "execution_count": 544,
   "id": "97e0fab2",
   "metadata": {},
   "outputs": [
    {
     "data": {
      "text/plain": [
       "{1, 2, 3, 4, 5}"
      ]
     },
     "execution_count": 544,
     "metadata": {},
     "output_type": "execute_result"
    }
   ],
   "source": [
    "S3"
   ]
  },
  {
   "cell_type": "code",
   "execution_count": 545,
   "id": "e0ac62de",
   "metadata": {},
   "outputs": [
    {
     "ename": "TypeError",
     "evalue": "unhashable type: 'list'",
     "output_type": "error",
     "traceback": [
      "\u001b[1;31m---------------------------------------------------------------------------\u001b[0m",
      "\u001b[1;31mTypeError\u001b[0m                                 Traceback (most recent call last)",
      "\u001b[1;32m~\\AppData\\Local\\Temp\\ipykernel_16856\\2393769885.py\u001b[0m in \u001b[0;36m<module>\u001b[1;34m\u001b[0m\n\u001b[1;32m----> 1\u001b[1;33m \u001b[0mS4\u001b[0m\u001b[1;33m=\u001b[0m\u001b[1;33m{\u001b[0m\u001b[1;33m[\u001b[0m\u001b[1;36m1\u001b[0m\u001b[1;33m,\u001b[0m\u001b[1;36m2\u001b[0m\u001b[1;33m,\u001b[0m\u001b[1;36m3\u001b[0m\u001b[1;33m]\u001b[0m\u001b[1;33m,\u001b[0m\u001b[1;34m\"Hello\"\u001b[0m\u001b[1;33m}\u001b[0m\u001b[1;33m\u001b[0m\u001b[1;33m\u001b[0m\u001b[0m\n\u001b[0m",
      "\u001b[1;31mTypeError\u001b[0m: unhashable type: 'list'"
     ]
    }
   ],
   "source": [
    "S4={[1,2,3],\"Hello\"}"
   ]
  },
  {
   "cell_type": "code",
   "execution_count": 546,
   "id": "25f5780e",
   "metadata": {},
   "outputs": [],
   "source": [
    "S4={(1,2,3),\"Hello\"}"
   ]
  },
  {
   "cell_type": "code",
   "execution_count": 547,
   "id": "51686fb0",
   "metadata": {},
   "outputs": [
    {
     "data": {
      "text/plain": [
       "{(1, 2, 3), 'Hello'}"
      ]
     },
     "execution_count": 547,
     "metadata": {},
     "output_type": "execute_result"
    }
   ],
   "source": [
    "S4"
   ]
  },
  {
   "cell_type": "code",
   "execution_count": 548,
   "id": "bd66e815",
   "metadata": {},
   "outputs": [
    {
     "ename": "TypeError",
     "evalue": "unhashable type: 'set'",
     "output_type": "error",
     "traceback": [
      "\u001b[1;31m---------------------------------------------------------------------------\u001b[0m",
      "\u001b[1;31mTypeError\u001b[0m                                 Traceback (most recent call last)",
      "\u001b[1;32m~\\AppData\\Local\\Temp\\ipykernel_16856\\3219502538.py\u001b[0m in \u001b[0;36m<module>\u001b[1;34m\u001b[0m\n\u001b[1;32m----> 1\u001b[1;33m \u001b[0mS5\u001b[0m\u001b[1;33m=\u001b[0m\u001b[1;33m{\u001b[0m\u001b[1;33m{\u001b[0m\u001b[1;36m1\u001b[0m\u001b[1;33m}\u001b[0m\u001b[1;33m,\u001b[0m\u001b[1;33m{\u001b[0m\u001b[1;36m2\u001b[0m\u001b[1;33m}\u001b[0m\u001b[1;33m}\u001b[0m\u001b[1;33m\u001b[0m\u001b[1;33m\u001b[0m\u001b[0m\n\u001b[0m",
      "\u001b[1;31mTypeError\u001b[0m: unhashable type: 'set'"
     ]
    }
   ],
   "source": [
    "S5={{1},{2}}"
   ]
  },
  {
   "cell_type": "code",
   "execution_count": 549,
   "id": "91e45b31",
   "metadata": {},
   "outputs": [],
   "source": [
    "# Accessing items"
   ]
  },
  {
   "cell_type": "code",
   "execution_count": 550,
   "id": "2a1ce75b",
   "metadata": {},
   "outputs": [
    {
     "data": {
      "text/plain": [
       "{1, 2, 3, 4, 5}"
      ]
     },
     "execution_count": 550,
     "metadata": {},
     "output_type": "execute_result"
    }
   ],
   "source": [
    "S1"
   ]
  },
  {
   "cell_type": "code",
   "execution_count": 551,
   "id": "e4922cd7",
   "metadata": {},
   "outputs": [
    {
     "ename": "TypeError",
     "evalue": "'set' object is not subscriptable",
     "output_type": "error",
     "traceback": [
      "\u001b[1;31m---------------------------------------------------------------------------\u001b[0m",
      "\u001b[1;31mTypeError\u001b[0m                                 Traceback (most recent call last)",
      "\u001b[1;32m~\\AppData\\Local\\Temp\\ipykernel_16856\\1819249319.py\u001b[0m in \u001b[0;36m<module>\u001b[1;34m\u001b[0m\n\u001b[1;32m----> 1\u001b[1;33m \u001b[0mS1\u001b[0m\u001b[1;33m[\u001b[0m\u001b[1;36m0\u001b[0m\u001b[1;33m]\u001b[0m\u001b[1;33m\u001b[0m\u001b[1;33m\u001b[0m\u001b[0m\n\u001b[0m",
      "\u001b[1;31mTypeError\u001b[0m: 'set' object is not subscriptable"
     ]
    }
   ],
   "source": [
    "S1[0]"
   ]
  },
  {
   "cell_type": "code",
   "execution_count": 552,
   "id": "8cf1d3d0",
   "metadata": {},
   "outputs": [
    {
     "ename": "TypeError",
     "evalue": "'set' object is not subscriptable",
     "output_type": "error",
     "traceback": [
      "\u001b[1;31m---------------------------------------------------------------------------\u001b[0m",
      "\u001b[1;31mTypeError\u001b[0m                                 Traceback (most recent call last)",
      "\u001b[1;32m~\\AppData\\Local\\Temp\\ipykernel_16856\\387789777.py\u001b[0m in \u001b[0;36m<module>\u001b[1;34m\u001b[0m\n\u001b[1;32m----> 1\u001b[1;33m \u001b[0mS1\u001b[0m\u001b[1;33m[\u001b[0m\u001b[1;33m-\u001b[0m\u001b[1;36m1\u001b[0m\u001b[1;33m]\u001b[0m\u001b[1;33m\u001b[0m\u001b[1;33m\u001b[0m\u001b[0m\n\u001b[0m",
      "\u001b[1;31mTypeError\u001b[0m: 'set' object is not subscriptable"
     ]
    }
   ],
   "source": [
    "S1[-1]"
   ]
  },
  {
   "cell_type": "code",
   "execution_count": 553,
   "id": "d42a24be",
   "metadata": {},
   "outputs": [
    {
     "ename": "TypeError",
     "evalue": "'set' object is not subscriptable",
     "output_type": "error",
     "traceback": [
      "\u001b[1;31m---------------------------------------------------------------------------\u001b[0m",
      "\u001b[1;31mTypeError\u001b[0m                                 Traceback (most recent call last)",
      "\u001b[1;32m~\\AppData\\Local\\Temp\\ipykernel_16856\\3138535836.py\u001b[0m in \u001b[0;36m<module>\u001b[1;34m\u001b[0m\n\u001b[1;32m----> 1\u001b[1;33m \u001b[0mS1\u001b[0m\u001b[1;33m[\u001b[0m\u001b[1;36m0\u001b[0m\u001b[1;33m:\u001b[0m\u001b[1;36m3\u001b[0m\u001b[1;33m]\u001b[0m\u001b[1;33m\u001b[0m\u001b[1;33m\u001b[0m\u001b[0m\n\u001b[0m",
      "\u001b[1;31mTypeError\u001b[0m: 'set' object is not subscriptable"
     ]
    }
   ],
   "source": [
    "S1[0:3]"
   ]
  },
  {
   "cell_type": "code",
   "execution_count": 554,
   "id": "d9e81772",
   "metadata": {},
   "outputs": [],
   "source": [
    "# Editing items"
   ]
  },
  {
   "cell_type": "code",
   "execution_count": 555,
   "id": "9fed1680",
   "metadata": {},
   "outputs": [
    {
     "data": {
      "text/plain": [
       "{1, 2, 3, 4, 5}"
      ]
     },
     "execution_count": 555,
     "metadata": {},
     "output_type": "execute_result"
    }
   ],
   "source": [
    "S1"
   ]
  },
  {
   "cell_type": "code",
   "execution_count": 556,
   "id": "9115f8cd",
   "metadata": {},
   "outputs": [
    {
     "ename": "TypeError",
     "evalue": "'set' object does not support item assignment",
     "output_type": "error",
     "traceback": [
      "\u001b[1;31m---------------------------------------------------------------------------\u001b[0m",
      "\u001b[1;31mTypeError\u001b[0m                                 Traceback (most recent call last)",
      "\u001b[1;32m~\\AppData\\Local\\Temp\\ipykernel_16856\\3628641656.py\u001b[0m in \u001b[0;36m<module>\u001b[1;34m\u001b[0m\n\u001b[1;32m----> 1\u001b[1;33m \u001b[0mS1\u001b[0m\u001b[1;33m[\u001b[0m\u001b[1;36m2\u001b[0m\u001b[1;33m]\u001b[0m\u001b[1;33m=\u001b[0m\u001b[1;36m100\u001b[0m\u001b[1;33m\u001b[0m\u001b[1;33m\u001b[0m\u001b[0m\n\u001b[0m",
      "\u001b[1;31mTypeError\u001b[0m: 'set' object does not support item assignment"
     ]
    }
   ],
   "source": [
    "S1[2]=100"
   ]
  },
  {
   "cell_type": "code",
   "execution_count": 568,
   "id": "f587ebf9",
   "metadata": {},
   "outputs": [
    {
     "data": {
      "text/plain": [
       "{1, 2, 3, 4, 5}"
      ]
     },
     "execution_count": 568,
     "metadata": {},
     "output_type": "execute_result"
    }
   ],
   "source": [
    "S1"
   ]
  },
  {
   "cell_type": "code",
   "execution_count": 569,
   "id": "37157dcb",
   "metadata": {},
   "outputs": [
    {
     "data": {
      "text/plain": [
       "1757094954592"
      ]
     },
     "execution_count": 569,
     "metadata": {},
     "output_type": "execute_result"
    }
   ],
   "source": [
    "id(S1)"
   ]
  },
  {
   "cell_type": "code",
   "execution_count": 570,
   "id": "86eb0386",
   "metadata": {},
   "outputs": [],
   "source": [
    "L=list(S1)"
   ]
  },
  {
   "cell_type": "code",
   "execution_count": 571,
   "id": "3ea6b863",
   "metadata": {},
   "outputs": [
    {
     "data": {
      "text/plain": [
       "[1, 2, 3, 4, 5]"
      ]
     },
     "execution_count": 571,
     "metadata": {},
     "output_type": "execute_result"
    }
   ],
   "source": [
    "L"
   ]
  },
  {
   "cell_type": "code",
   "execution_count": 572,
   "id": "b423f446",
   "metadata": {},
   "outputs": [],
   "source": [
    "L[0]=100"
   ]
  },
  {
   "cell_type": "code",
   "execution_count": 573,
   "id": "8e165a2f",
   "metadata": {},
   "outputs": [
    {
     "data": {
      "text/plain": [
       "[100, 2, 3, 4, 5]"
      ]
     },
     "execution_count": 573,
     "metadata": {},
     "output_type": "execute_result"
    }
   ],
   "source": [
    "L"
   ]
  },
  {
   "cell_type": "code",
   "execution_count": 574,
   "id": "62fec635",
   "metadata": {},
   "outputs": [],
   "source": [
    "S1=set(L)"
   ]
  },
  {
   "cell_type": "code",
   "execution_count": 575,
   "id": "47545d24",
   "metadata": {},
   "outputs": [
    {
     "data": {
      "text/plain": [
       "{2, 3, 4, 5, 100}"
      ]
     },
     "execution_count": 575,
     "metadata": {},
     "output_type": "execute_result"
    }
   ],
   "source": [
    "S1"
   ]
  },
  {
   "cell_type": "code",
   "execution_count": 576,
   "id": "a72fc03b",
   "metadata": {},
   "outputs": [
    {
     "data": {
      "text/plain": [
       "1756940572480"
      ]
     },
     "execution_count": 576,
     "metadata": {},
     "output_type": "execute_result"
    }
   ],
   "source": [
    "id(S1)"
   ]
  },
  {
   "cell_type": "code",
   "execution_count": 577,
   "id": "8dc72a19",
   "metadata": {},
   "outputs": [],
   "source": [
    "# the items of set not be accessed and edited."
   ]
  },
  {
   "cell_type": "code",
   "execution_count": 578,
   "id": "55dac295",
   "metadata": {},
   "outputs": [],
   "source": [
    "# add items that's why sets are mutable data type."
   ]
  },
  {
   "cell_type": "code",
   "execution_count": 579,
   "id": "42b31bb5",
   "metadata": {},
   "outputs": [
    {
     "data": {
      "text/plain": [
       "{2, 3, 4, 5, 100}"
      ]
     },
     "execution_count": 579,
     "metadata": {},
     "output_type": "execute_result"
    }
   ],
   "source": [
    "S1"
   ]
  },
  {
   "cell_type": "code",
   "execution_count": 582,
   "id": "45ab8516",
   "metadata": {},
   "outputs": [
    {
     "data": {
      "text/plain": [
       "1756940572480"
      ]
     },
     "execution_count": 582,
     "metadata": {},
     "output_type": "execute_result"
    }
   ],
   "source": [
    "id(S1)"
   ]
  },
  {
   "cell_type": "code",
   "execution_count": 583,
   "id": "d87682c4",
   "metadata": {},
   "outputs": [],
   "source": [
    "S1.add(6)"
   ]
  },
  {
   "cell_type": "code",
   "execution_count": 584,
   "id": "902f64ba",
   "metadata": {},
   "outputs": [
    {
     "data": {
      "text/plain": [
       "{2, 3, 4, 5, 6, 100}"
      ]
     },
     "execution_count": 584,
     "metadata": {},
     "output_type": "execute_result"
    }
   ],
   "source": [
    "S1"
   ]
  },
  {
   "cell_type": "code",
   "execution_count": 585,
   "id": "b3285560",
   "metadata": {},
   "outputs": [
    {
     "data": {
      "text/plain": [
       "1756940572480"
      ]
     },
     "execution_count": 585,
     "metadata": {},
     "output_type": "execute_result"
    }
   ],
   "source": [
    "id(S1)"
   ]
  },
  {
   "cell_type": "code",
   "execution_count": 586,
   "id": "c9384492",
   "metadata": {},
   "outputs": [],
   "source": [
    "# deleting is set"
   ]
  },
  {
   "cell_type": "code",
   "execution_count": 587,
   "id": "69974bd7",
   "metadata": {},
   "outputs": [
    {
     "data": {
      "text/plain": [
       "{4.5, 'Hello', True}"
      ]
     },
     "execution_count": 587,
     "metadata": {},
     "output_type": "execute_result"
    }
   ],
   "source": [
    "S2"
   ]
  },
  {
   "cell_type": "code",
   "execution_count": 588,
   "id": "99b95b39",
   "metadata": {},
   "outputs": [],
   "source": [
    "del S2"
   ]
  },
  {
   "cell_type": "code",
   "execution_count": 589,
   "id": "99a1919b",
   "metadata": {},
   "outputs": [
    {
     "data": {
      "text/plain": [
       "{2, 3, 4, 5, 6, 100}"
      ]
     },
     "execution_count": 589,
     "metadata": {},
     "output_type": "execute_result"
    }
   ],
   "source": [
    "S1"
   ]
  },
  {
   "cell_type": "code",
   "execution_count": 590,
   "id": "e0fe2735",
   "metadata": {},
   "outputs": [
    {
     "ename": "TypeError",
     "evalue": "'set' object doesn't support item deletion",
     "output_type": "error",
     "traceback": [
      "\u001b[1;31m---------------------------------------------------------------------------\u001b[0m",
      "\u001b[1;31mTypeError\u001b[0m                                 Traceback (most recent call last)",
      "\u001b[1;32m~\\AppData\\Local\\Temp\\ipykernel_16856\\2134711622.py\u001b[0m in \u001b[0;36m<module>\u001b[1;34m\u001b[0m\n\u001b[1;32m----> 1\u001b[1;33m \u001b[1;32mdel\u001b[0m \u001b[0mS1\u001b[0m\u001b[1;33m[\u001b[0m\u001b[1;36m0\u001b[0m\u001b[1;33m]\u001b[0m\u001b[1;33m\u001b[0m\u001b[1;33m\u001b[0m\u001b[0m\n\u001b[0m",
      "\u001b[1;31mTypeError\u001b[0m: 'set' object doesn't support item deletion"
     ]
    }
   ],
   "source": [
    "del S1[0]"
   ]
  },
  {
   "cell_type": "code",
   "execution_count": 591,
   "id": "24a30d73",
   "metadata": {},
   "outputs": [],
   "source": [
    "S1.remove(100)"
   ]
  },
  {
   "cell_type": "code",
   "execution_count": 592,
   "id": "087fb7f5",
   "metadata": {},
   "outputs": [
    {
     "data": {
      "text/plain": [
       "{2, 3, 4, 5, 6}"
      ]
     },
     "execution_count": 592,
     "metadata": {},
     "output_type": "execute_result"
    }
   ],
   "source": [
    "S1"
   ]
  },
  {
   "cell_type": "code",
   "execution_count": 593,
   "id": "2a062f65",
   "metadata": {},
   "outputs": [
    {
     "data": {
      "text/plain": [
       "2"
      ]
     },
     "execution_count": 593,
     "metadata": {},
     "output_type": "execute_result"
    }
   ],
   "source": [
    "# beacuse of hashing\n",
    "S1.pop()"
   ]
  },
  {
   "cell_type": "code",
   "execution_count": 594,
   "id": "cc74299d",
   "metadata": {},
   "outputs": [
    {
     "data": {
      "text/plain": [
       "3"
      ]
     },
     "execution_count": 594,
     "metadata": {},
     "output_type": "execute_result"
    }
   ],
   "source": [
    "S1.pop()"
   ]
  },
  {
   "cell_type": "code",
   "execution_count": 595,
   "id": "719badc1",
   "metadata": {},
   "outputs": [],
   "source": [
    "# Set Operations"
   ]
  },
  {
   "cell_type": "code",
   "execution_count": 596,
   "id": "0bf5d8e9",
   "metadata": {},
   "outputs": [],
   "source": [
    "S1={1,2,3,4,5}\n",
    "S2={3,4,5,6,7}"
   ]
  },
  {
   "cell_type": "code",
   "execution_count": 597,
   "id": "3f7bbe2c",
   "metadata": {},
   "outputs": [
    {
     "ename": "TypeError",
     "evalue": "unsupported operand type(s) for +: 'set' and 'set'",
     "output_type": "error",
     "traceback": [
      "\u001b[1;31m---------------------------------------------------------------------------\u001b[0m",
      "\u001b[1;31mTypeError\u001b[0m                                 Traceback (most recent call last)",
      "\u001b[1;32m~\\AppData\\Local\\Temp\\ipykernel_16856\\33790108.py\u001b[0m in \u001b[0;36m<module>\u001b[1;34m\u001b[0m\n\u001b[0;32m      1\u001b[0m \u001b[1;31m# sets does not support concatenation\u001b[0m\u001b[1;33m\u001b[0m\u001b[1;33m\u001b[0m\u001b[0m\n\u001b[1;32m----> 2\u001b[1;33m \u001b[0mS1\u001b[0m\u001b[1;33m+\u001b[0m\u001b[0mS2\u001b[0m\u001b[1;33m\u001b[0m\u001b[1;33m\u001b[0m\u001b[0m\n\u001b[0m",
      "\u001b[1;31mTypeError\u001b[0m: unsupported operand type(s) for +: 'set' and 'set'"
     ]
    }
   ],
   "source": [
    "# sets does not support concatenation\n",
    "S1+S2"
   ]
  },
  {
   "cell_type": "code",
   "execution_count": 598,
   "id": "d028f209",
   "metadata": {},
   "outputs": [
    {
     "ename": "TypeError",
     "evalue": "unsupported operand type(s) for *: 'set' and 'int'",
     "output_type": "error",
     "traceback": [
      "\u001b[1;31m---------------------------------------------------------------------------\u001b[0m",
      "\u001b[1;31mTypeError\u001b[0m                                 Traceback (most recent call last)",
      "\u001b[1;32m~\\AppData\\Local\\Temp\\ipykernel_16856\\1009700113.py\u001b[0m in \u001b[0;36m<module>\u001b[1;34m\u001b[0m\n\u001b[1;32m----> 1\u001b[1;33m \u001b[0mS1\u001b[0m \u001b[1;33m*\u001b[0m \u001b[1;36m3\u001b[0m\u001b[1;33m\u001b[0m\u001b[1;33m\u001b[0m\u001b[0m\n\u001b[0m",
      "\u001b[1;31mTypeError\u001b[0m: unsupported operand type(s) for *: 'set' and 'int'"
     ]
    }
   ],
   "source": [
    "S1 * 3"
   ]
  },
  {
   "cell_type": "code",
   "execution_count": 599,
   "id": "828a101e",
   "metadata": {},
   "outputs": [
    {
     "name": "stdout",
     "output_type": "stream",
     "text": [
      "1\n",
      "2\n",
      "3\n",
      "4\n",
      "5\n"
     ]
    }
   ],
   "source": [
    "for i in S1:\n",
    "    print(i)"
   ]
  },
  {
   "cell_type": "code",
   "execution_count": 600,
   "id": "182f7abd",
   "metadata": {},
   "outputs": [
    {
     "data": {
      "text/plain": [
       "True"
      ]
     },
     "execution_count": 600,
     "metadata": {},
     "output_type": "execute_result"
    }
   ],
   "source": [
    "1 in S1"
   ]
  },
  {
   "cell_type": "code",
   "execution_count": 601,
   "id": "14d18b4f",
   "metadata": {},
   "outputs": [],
   "source": [
    "# Functions on sets"
   ]
  },
  {
   "cell_type": "code",
   "execution_count": 602,
   "id": "5c8daee7",
   "metadata": {},
   "outputs": [
    {
     "data": {
      "text/plain": [
       "5"
      ]
     },
     "execution_count": 602,
     "metadata": {},
     "output_type": "execute_result"
    }
   ],
   "source": [
    "len(S1)"
   ]
  },
  {
   "cell_type": "code",
   "execution_count": 603,
   "id": "d5e2bb0a",
   "metadata": {},
   "outputs": [
    {
     "data": {
      "text/plain": [
       "1"
      ]
     },
     "execution_count": 603,
     "metadata": {},
     "output_type": "execute_result"
    }
   ],
   "source": [
    "min(S1)"
   ]
  },
  {
   "cell_type": "code",
   "execution_count": 604,
   "id": "39fc6cb9",
   "metadata": {},
   "outputs": [
    {
     "data": {
      "text/plain": [
       "5"
      ]
     },
     "execution_count": 604,
     "metadata": {},
     "output_type": "execute_result"
    }
   ],
   "source": [
    "max(S1)"
   ]
  },
  {
   "cell_type": "code",
   "execution_count": 605,
   "id": "246104f2",
   "metadata": {},
   "outputs": [
    {
     "data": {
      "text/plain": [
       "15"
      ]
     },
     "execution_count": 605,
     "metadata": {},
     "output_type": "execute_result"
    }
   ],
   "source": [
    "sum(S1)"
   ]
  },
  {
   "cell_type": "code",
   "execution_count": 606,
   "id": "0cb028c7",
   "metadata": {},
   "outputs": [
    {
     "data": {
      "text/plain": [
       "[1, 2, 3, 4, 5]"
      ]
     },
     "execution_count": 606,
     "metadata": {},
     "output_type": "execute_result"
    }
   ],
   "source": [
    "sorted(S1)"
   ]
  },
  {
   "cell_type": "code",
   "execution_count": 607,
   "id": "14f143ea",
   "metadata": {},
   "outputs": [
    {
     "data": {
      "text/plain": [
       "[5, 4, 3, 2, 1]"
      ]
     },
     "execution_count": 607,
     "metadata": {},
     "output_type": "execute_result"
    }
   ],
   "source": [
    "sorted(S1,reverse=True)"
   ]
  },
  {
   "cell_type": "code",
   "execution_count": 608,
   "id": "60501a82",
   "metadata": {},
   "outputs": [
    {
     "data": {
      "text/plain": [
       "{1, 2, 3, 4, 5, 6, 7}"
      ]
     },
     "execution_count": 608,
     "metadata": {},
     "output_type": "execute_result"
    }
   ],
   "source": [
    "S1.union(S2)"
   ]
  },
  {
   "cell_type": "code",
   "execution_count": 609,
   "id": "ef47ca72",
   "metadata": {},
   "outputs": [
    {
     "data": {
      "text/plain": [
       "{3, 4, 5}"
      ]
     },
     "execution_count": 609,
     "metadata": {},
     "output_type": "execute_result"
    }
   ],
   "source": [
    "S1.intersection(S2)"
   ]
  },
  {
   "cell_type": "code",
   "execution_count": 610,
   "id": "5de65a54",
   "metadata": {},
   "outputs": [
    {
     "data": {
      "text/plain": [
       "{1, 2}"
      ]
     },
     "execution_count": 610,
     "metadata": {},
     "output_type": "execute_result"
    }
   ],
   "source": [
    "S1.difference(S2)"
   ]
  },
  {
   "cell_type": "code",
   "execution_count": 611,
   "id": "afcdad17",
   "metadata": {},
   "outputs": [
    {
     "data": {
      "text/plain": [
       "{6, 7}"
      ]
     },
     "execution_count": 611,
     "metadata": {},
     "output_type": "execute_result"
    }
   ],
   "source": [
    "S2.difference(S1)"
   ]
  },
  {
   "cell_type": "code",
   "execution_count": 612,
   "id": "6a885742",
   "metadata": {},
   "outputs": [
    {
     "data": {
      "text/plain": [
       "{1, 2, 6, 7}"
      ]
     },
     "execution_count": 612,
     "metadata": {},
     "output_type": "execute_result"
    }
   ],
   "source": [
    "S1.symmetric_difference(S2)"
   ]
  },
  {
   "cell_type": "code",
   "execution_count": 616,
   "id": "8e06b1dc",
   "metadata": {},
   "outputs": [
    {
     "data": {
      "text/plain": [
       "False"
      ]
     },
     "execution_count": 616,
     "metadata": {},
     "output_type": "execute_result"
    }
   ],
   "source": [
    "# disjoint -> no similar items in S1 and S2\n",
    "S1.isdisjoint(S2)"
   ]
  },
  {
   "cell_type": "code",
   "execution_count": 617,
   "id": "ab690460",
   "metadata": {},
   "outputs": [
    {
     "data": {
      "text/plain": [
       "False"
      ]
     },
     "execution_count": 617,
     "metadata": {},
     "output_type": "execute_result"
    }
   ],
   "source": [
    "S1.issubset(S2)"
   ]
  },
  {
   "cell_type": "code",
   "execution_count": 618,
   "id": "2ce5562a",
   "metadata": {},
   "outputs": [
    {
     "data": {
      "text/plain": [
       "False"
      ]
     },
     "execution_count": 618,
     "metadata": {},
     "output_type": "execute_result"
    }
   ],
   "source": [
    "S1.issuperset(S2)"
   ]
  },
  {
   "cell_type": "code",
   "execution_count": 620,
   "id": "301267ee",
   "metadata": {},
   "outputs": [],
   "source": [
    "S1.clear()"
   ]
  },
  {
   "cell_type": "code",
   "execution_count": 621,
   "id": "e052b592",
   "metadata": {},
   "outputs": [
    {
     "data": {
      "text/plain": [
       "set()"
      ]
     },
     "execution_count": 621,
     "metadata": {},
     "output_type": "execute_result"
    }
   ],
   "source": [
    "S1"
   ]
  },
  {
   "cell_type": "markdown",
   "id": "2a1bd4a0",
   "metadata": {},
   "source": [
    "# Dictionary\n",
    "- Dictionary has no indexing\n",
    "- Dictionary is a mutable data type\n",
    "- Keys are immutable, Values can be mutable\n",
    "- Keys should be unique"
   ]
  },
  {
   "cell_type": "code",
   "execution_count": 658,
   "id": "fde1cdfb",
   "metadata": {},
   "outputs": [],
   "source": [
    "# Creating Dictionary\n",
    "D={}"
   ]
  },
  {
   "cell_type": "code",
   "execution_count": 659,
   "id": "1a84dd3e",
   "metadata": {},
   "outputs": [
    {
     "data": {
      "text/plain": [
       "{}"
      ]
     },
     "execution_count": 659,
     "metadata": {},
     "output_type": "execute_result"
    }
   ],
   "source": [
    "D"
   ]
  },
  {
   "cell_type": "code",
   "execution_count": 677,
   "id": "9a348d54",
   "metadata": {},
   "outputs": [],
   "source": [
    "D={\"Name\":\"Bilal\",\"Gender\":\"Male\",\"Age\":\"19\"}"
   ]
  },
  {
   "cell_type": "code",
   "execution_count": 661,
   "id": "b2463710",
   "metadata": {},
   "outputs": [
    {
     "data": {
      "text/plain": [
       "{'name': 'Bilal', 'Gender': 'Male', 'Age': '19'}"
      ]
     },
     "execution_count": 661,
     "metadata": {},
     "output_type": "execute_result"
    }
   ],
   "source": [
    "D"
   ]
  },
  {
   "cell_type": "code",
   "execution_count": 662,
   "id": "59c687ca",
   "metadata": {},
   "outputs": [
    {
     "data": {
      "text/plain": [
       "dict"
      ]
     },
     "execution_count": 662,
     "metadata": {},
     "output_type": "execute_result"
    }
   ],
   "source": [
    "type(D)"
   ]
  },
  {
   "cell_type": "code",
   "execution_count": 663,
   "id": "7788cf06",
   "metadata": {},
   "outputs": [
    {
     "ename": "TypeError",
     "evalue": "unhashable type: 'list'",
     "output_type": "error",
     "traceback": [
      "\u001b[1;31m---------------------------------------------------------------------------\u001b[0m",
      "\u001b[1;31mTypeError\u001b[0m                                 Traceback (most recent call last)",
      "\u001b[1;32m~\\AppData\\Local\\Temp\\ipykernel_16856\\578654524.py\u001b[0m in \u001b[0;36m<module>\u001b[1;34m\u001b[0m\n\u001b[1;32m----> 1\u001b[1;33m \u001b[0mD1\u001b[0m\u001b[1;33m=\u001b[0m\u001b[1;33m{\u001b[0m\u001b[1;33m[\u001b[0m\u001b[1;36m1\u001b[0m\u001b[1;33m,\u001b[0m\u001b[1;36m2\u001b[0m\u001b[1;33m,\u001b[0m\u001b[1;36m3\u001b[0m\u001b[1;33m]\u001b[0m\u001b[1;33m:\u001b[0m\u001b[1;34m\"Bilal\"\u001b[0m\u001b[1;33m}\u001b[0m\u001b[1;33m\u001b[0m\u001b[1;33m\u001b[0m\u001b[0m\n\u001b[0m\u001b[0;32m      2\u001b[0m \u001b[0mD1\u001b[0m\u001b[1;33m\u001b[0m\u001b[1;33m\u001b[0m\u001b[0m\n",
      "\u001b[1;31mTypeError\u001b[0m: unhashable type: 'list'"
     ]
    }
   ],
   "source": [
    "D1={[1,2,3]:\"Bilal\"}\n",
    "D1"
   ]
  },
  {
   "cell_type": "code",
   "execution_count": 665,
   "id": "45f8e8e9",
   "metadata": {},
   "outputs": [
    {
     "data": {
      "text/plain": [
       "{(1, 2, 3): 'Bilal'}"
      ]
     },
     "execution_count": 665,
     "metadata": {},
     "output_type": "execute_result"
    }
   ],
   "source": [
    "D1={(1,2,3):\"Bilal\"}\n",
    "D1"
   ]
  },
  {
   "cell_type": "code",
   "execution_count": 666,
   "id": "9ae67b6d",
   "metadata": {},
   "outputs": [],
   "source": [
    "# this proves k keys hmesha immutable data type k honge"
   ]
  },
  {
   "cell_type": "code",
   "execution_count": 667,
   "id": "ab243f88",
   "metadata": {},
   "outputs": [],
   "source": [
    "D2={\"Name\":\"Bilal\",\"Name\":\"Khan\"}"
   ]
  },
  {
   "cell_type": "code",
   "execution_count": 668,
   "id": "7900fa74",
   "metadata": {},
   "outputs": [
    {
     "data": {
      "text/plain": [
       "{'Name': 'Khan'}"
      ]
     },
     "execution_count": 668,
     "metadata": {},
     "output_type": "execute_result"
    }
   ],
   "source": [
    "D2"
   ]
  },
  {
   "cell_type": "code",
   "execution_count": 669,
   "id": "80e6f6c9",
   "metadata": {},
   "outputs": [],
   "source": [
    "# it updates the value of \"name\" key"
   ]
  },
  {
   "cell_type": "code",
   "execution_count": 670,
   "id": "5cfff26b",
   "metadata": {},
   "outputs": [],
   "source": [
    "D3={\"Name\":\"Bilal\",\"University\":\"UIT\",\"Marks\":{\"M1\":50,\"M2\":89,\"M3\":23}}"
   ]
  },
  {
   "cell_type": "code",
   "execution_count": 671,
   "id": "c0f7d333",
   "metadata": {},
   "outputs": [
    {
     "data": {
      "text/plain": [
       "{'Name': 'Bilal', 'University': 'UIT', 'Marks': {'M1': 50, 'M2': 89, 'M3': 23}}"
      ]
     },
     "execution_count": 671,
     "metadata": {},
     "output_type": "execute_result"
    }
   ],
   "source": [
    "D3"
   ]
  },
  {
   "cell_type": "code",
   "execution_count": 672,
   "id": "47ab6731",
   "metadata": {},
   "outputs": [],
   "source": [
    "#Accessing items from dictionary"
   ]
  },
  {
   "cell_type": "code",
   "execution_count": 673,
   "id": "a709594a",
   "metadata": {},
   "outputs": [
    {
     "data": {
      "text/plain": [
       "{'name': 'Bilal', 'Gender': 'Male', 'Age': '19'}"
      ]
     },
     "execution_count": 673,
     "metadata": {},
     "output_type": "execute_result"
    }
   ],
   "source": [
    "D"
   ]
  },
  {
   "cell_type": "code",
   "execution_count": 674,
   "id": "959c37c0",
   "metadata": {},
   "outputs": [
    {
     "ename": "KeyError",
     "evalue": "0",
     "output_type": "error",
     "traceback": [
      "\u001b[1;31m---------------------------------------------------------------------------\u001b[0m",
      "\u001b[1;31mKeyError\u001b[0m                                  Traceback (most recent call last)",
      "\u001b[1;32m~\\AppData\\Local\\Temp\\ipykernel_16856\\3858647015.py\u001b[0m in \u001b[0;36m<module>\u001b[1;34m\u001b[0m\n\u001b[1;32m----> 1\u001b[1;33m \u001b[0mD\u001b[0m\u001b[1;33m[\u001b[0m\u001b[1;36m0\u001b[0m\u001b[1;33m]\u001b[0m\u001b[1;33m\u001b[0m\u001b[1;33m\u001b[0m\u001b[0m\n\u001b[0m",
      "\u001b[1;31mKeyError\u001b[0m: 0"
     ]
    }
   ],
   "source": [
    "D[0]"
   ]
  },
  {
   "cell_type": "code",
   "execution_count": 678,
   "id": "2c6e3ba7",
   "metadata": {},
   "outputs": [
    {
     "data": {
      "text/plain": [
       "'Bilal'"
      ]
     },
     "execution_count": 678,
     "metadata": {},
     "output_type": "execute_result"
    }
   ],
   "source": [
    "D[\"Name\"]"
   ]
  },
  {
   "cell_type": "code",
   "execution_count": 679,
   "id": "64e8f056",
   "metadata": {},
   "outputs": [
    {
     "data": {
      "text/plain": [
       "'Male'"
      ]
     },
     "execution_count": 679,
     "metadata": {},
     "output_type": "execute_result"
    }
   ],
   "source": [
    "D[\"Gender\"]"
   ]
  },
  {
   "cell_type": "code",
   "execution_count": 680,
   "id": "4ca9f9b1",
   "metadata": {},
   "outputs": [
    {
     "data": {
      "text/plain": [
       "'19'"
      ]
     },
     "execution_count": 680,
     "metadata": {},
     "output_type": "execute_result"
    }
   ],
   "source": [
    "D[\"Age\"]"
   ]
  },
  {
   "cell_type": "code",
   "execution_count": 681,
   "id": "7fd23a9e",
   "metadata": {},
   "outputs": [
    {
     "data": {
      "text/plain": [
       "{'Name': 'Bilal', 'University': 'UIT', 'Marks': {'M1': 50, 'M2': 89, 'M3': 23}}"
      ]
     },
     "execution_count": 681,
     "metadata": {},
     "output_type": "execute_result"
    }
   ],
   "source": [
    "# Accessing 2-D dictionary\n",
    "D3"
   ]
  },
  {
   "cell_type": "code",
   "execution_count": 682,
   "id": "af5109a2",
   "metadata": {},
   "outputs": [
    {
     "data": {
      "text/plain": [
       "{'M1': 50, 'M2': 89, 'M3': 23}"
      ]
     },
     "execution_count": 682,
     "metadata": {},
     "output_type": "execute_result"
    }
   ],
   "source": [
    "D3[\"Marks\"]"
   ]
  },
  {
   "cell_type": "code",
   "execution_count": 683,
   "id": "10f601f0",
   "metadata": {},
   "outputs": [
    {
     "data": {
      "text/plain": [
       "89"
      ]
     },
     "execution_count": 683,
     "metadata": {},
     "output_type": "execute_result"
    }
   ],
   "source": [
    "D3[\"Marks\"][\"M2\"]"
   ]
  },
  {
   "cell_type": "code",
   "execution_count": 691,
   "id": "f154841e",
   "metadata": {},
   "outputs": [
    {
     "data": {
      "text/plain": [
       "'bk'"
      ]
     },
     "execution_count": 691,
     "metadata": {},
     "output_type": "execute_result"
    }
   ],
   "source": [
    "D.get(\"Name\")"
   ]
  },
  {
   "cell_type": "code",
   "execution_count": 684,
   "id": "05339bb4",
   "metadata": {},
   "outputs": [],
   "source": [
    "# Editing dictionary"
   ]
  },
  {
   "cell_type": "code",
   "execution_count": 685,
   "id": "3e09e293",
   "metadata": {},
   "outputs": [
    {
     "data": {
      "text/plain": [
       "{'Name': 'Bilal', 'Gender': 'Male', 'Age': '19'}"
      ]
     },
     "execution_count": 685,
     "metadata": {},
     "output_type": "execute_result"
    }
   ],
   "source": [
    "D"
   ]
  },
  {
   "cell_type": "code",
   "execution_count": 686,
   "id": "ad6373fe",
   "metadata": {},
   "outputs": [],
   "source": [
    "D[\"Name\"]=\"bk\""
   ]
  },
  {
   "cell_type": "code",
   "execution_count": 687,
   "id": "5c6e9548",
   "metadata": {},
   "outputs": [
    {
     "data": {
      "text/plain": [
       "{'Name': 'bk', 'Gender': 'Male', 'Age': '19'}"
      ]
     },
     "execution_count": 687,
     "metadata": {},
     "output_type": "execute_result"
    }
   ],
   "source": [
    "D"
   ]
  },
  {
   "cell_type": "code",
   "execution_count": 688,
   "id": "c66e4d5b",
   "metadata": {},
   "outputs": [
    {
     "data": {
      "text/plain": [
       "{'Name': 'Bilal', 'University': 'UIT', 'Marks': {'M1': 50, 'M2': 89, 'M3': 23}}"
      ]
     },
     "execution_count": 688,
     "metadata": {},
     "output_type": "execute_result"
    }
   ],
   "source": [
    "D3"
   ]
  },
  {
   "cell_type": "code",
   "execution_count": 689,
   "id": "143cd7d1",
   "metadata": {},
   "outputs": [],
   "source": [
    "D3[\"Marks\"][\"M2\"]=100"
   ]
  },
  {
   "cell_type": "code",
   "execution_count": 690,
   "id": "238d7fbf",
   "metadata": {},
   "outputs": [
    {
     "data": {
      "text/plain": [
       "{'Name': 'Bilal',\n",
       " 'University': 'UIT',\n",
       " 'Marks': {'M1': 50, 'M2': 100, 'M3': 23}}"
      ]
     },
     "execution_count": 690,
     "metadata": {},
     "output_type": "execute_result"
    }
   ],
   "source": [
    "D3"
   ]
  },
  {
   "cell_type": "code",
   "execution_count": 692,
   "id": "9152cc51",
   "metadata": {},
   "outputs": [],
   "source": [
    "# Adding key_value pairs in dictionary"
   ]
  },
  {
   "cell_type": "code",
   "execution_count": 693,
   "id": "567f42c6",
   "metadata": {},
   "outputs": [
    {
     "data": {
      "text/plain": [
       "{'Name': 'bk', 'Gender': 'Male', 'Age': '19'}"
      ]
     },
     "execution_count": 693,
     "metadata": {},
     "output_type": "execute_result"
    }
   ],
   "source": [
    "D"
   ]
  },
  {
   "cell_type": "code",
   "execution_count": 694,
   "id": "4dd3abda",
   "metadata": {},
   "outputs": [],
   "source": [
    "D[\"City\"]=\"Karachi\""
   ]
  },
  {
   "cell_type": "code",
   "execution_count": 695,
   "id": "55183292",
   "metadata": {},
   "outputs": [
    {
     "data": {
      "text/plain": [
       "{'Name': 'bk', 'Gender': 'Male', 'Age': '19', 'City': 'Karachi'}"
      ]
     },
     "execution_count": 695,
     "metadata": {},
     "output_type": "execute_result"
    }
   ],
   "source": [
    "D"
   ]
  },
  {
   "cell_type": "code",
   "execution_count": 696,
   "id": "99cfc936",
   "metadata": {},
   "outputs": [
    {
     "data": {
      "text/plain": [
       "{'Name': 'Bilal',\n",
       " 'University': 'UIT',\n",
       " 'Marks': {'M1': 50, 'M2': 100, 'M3': 23}}"
      ]
     },
     "execution_count": 696,
     "metadata": {},
     "output_type": "execute_result"
    }
   ],
   "source": [
    "D3"
   ]
  },
  {
   "cell_type": "code",
   "execution_count": 697,
   "id": "e9127d28",
   "metadata": {},
   "outputs": [],
   "source": [
    "D3[\"Marks\"][\"M4\"]=69"
   ]
  },
  {
   "cell_type": "code",
   "execution_count": 698,
   "id": "4a778d13",
   "metadata": {},
   "outputs": [
    {
     "data": {
      "text/plain": [
       "{'Name': 'Bilal',\n",
       " 'University': 'UIT',\n",
       " 'Marks': {'M1': 50, 'M2': 100, 'M3': 23, 'M4': 69}}"
      ]
     },
     "execution_count": 698,
     "metadata": {},
     "output_type": "execute_result"
    }
   ],
   "source": [
    "D3"
   ]
  },
  {
   "cell_type": "code",
   "execution_count": 699,
   "id": "ca5e8986",
   "metadata": {},
   "outputs": [],
   "source": [
    "# Deleting"
   ]
  },
  {
   "cell_type": "code",
   "execution_count": 700,
   "id": "8342b8b1",
   "metadata": {},
   "outputs": [],
   "source": [
    "D5={}"
   ]
  },
  {
   "cell_type": "code",
   "execution_count": 701,
   "id": "c910fa71",
   "metadata": {},
   "outputs": [],
   "source": [
    "del D5"
   ]
  },
  {
   "cell_type": "code",
   "execution_count": 702,
   "id": "dc717e50",
   "metadata": {},
   "outputs": [
    {
     "ename": "NameError",
     "evalue": "name 'D5' is not defined",
     "output_type": "error",
     "traceback": [
      "\u001b[1;31m---------------------------------------------------------------------------\u001b[0m",
      "\u001b[1;31mNameError\u001b[0m                                 Traceback (most recent call last)",
      "\u001b[1;32m~\\AppData\\Local\\Temp\\ipykernel_16856\\1847753546.py\u001b[0m in \u001b[0;36m<module>\u001b[1;34m\u001b[0m\n\u001b[1;32m----> 1\u001b[1;33m \u001b[0mD5\u001b[0m\u001b[1;33m\u001b[0m\u001b[1;33m\u001b[0m\u001b[0m\n\u001b[0m",
      "\u001b[1;31mNameError\u001b[0m: name 'D5' is not defined"
     ]
    }
   ],
   "source": [
    "D5"
   ]
  },
  {
   "cell_type": "code",
   "execution_count": 703,
   "id": "cb2b4221",
   "metadata": {},
   "outputs": [
    {
     "data": {
      "text/plain": [
       "{'Name': 'bk', 'Gender': 'Male', 'Age': '19', 'City': 'Karachi'}"
      ]
     },
     "execution_count": 703,
     "metadata": {},
     "output_type": "execute_result"
    }
   ],
   "source": [
    "D"
   ]
  },
  {
   "cell_type": "code",
   "execution_count": 704,
   "id": "d1486bdc",
   "metadata": {},
   "outputs": [],
   "source": [
    "del D[\"Gender\"]"
   ]
  },
  {
   "cell_type": "code",
   "execution_count": 705,
   "id": "2ca04478",
   "metadata": {},
   "outputs": [
    {
     "data": {
      "text/plain": [
       "{'Name': 'bk', 'Age': '19', 'City': 'Karachi'}"
      ]
     },
     "execution_count": 705,
     "metadata": {},
     "output_type": "execute_result"
    }
   ],
   "source": [
    "D"
   ]
  },
  {
   "cell_type": "code",
   "execution_count": 707,
   "id": "7f691761",
   "metadata": {},
   "outputs": [],
   "source": [
    "D.clear()"
   ]
  },
  {
   "cell_type": "code",
   "execution_count": 708,
   "id": "cbda3441",
   "metadata": {},
   "outputs": [
    {
     "data": {
      "text/plain": [
       "{}"
      ]
     },
     "execution_count": 708,
     "metadata": {},
     "output_type": "execute_result"
    }
   ],
   "source": [
    "D"
   ]
  },
  {
   "cell_type": "code",
   "execution_count": 709,
   "id": "cd8a204f",
   "metadata": {},
   "outputs": [],
   "source": [
    "# Operation in dictionary"
   ]
  },
  {
   "cell_type": "code",
   "execution_count": 710,
   "id": "223c0e7a",
   "metadata": {},
   "outputs": [
    {
     "data": {
      "text/plain": [
       "{(1, 2, 3): 'Bilal'}"
      ]
     },
     "execution_count": 710,
     "metadata": {},
     "output_type": "execute_result"
    }
   ],
   "source": [
    "D1"
   ]
  },
  {
   "cell_type": "code",
   "execution_count": 711,
   "id": "ce4e6d34",
   "metadata": {},
   "outputs": [
    {
     "data": {
      "text/plain": [
       "{'Name': 'Khan'}"
      ]
     },
     "execution_count": 711,
     "metadata": {},
     "output_type": "execute_result"
    }
   ],
   "source": [
    "D2"
   ]
  },
  {
   "cell_type": "code",
   "execution_count": 712,
   "id": "a31929cf",
   "metadata": {},
   "outputs": [
    {
     "data": {
      "text/plain": [
       "{'Name': 'Bilal',\n",
       " 'University': 'UIT',\n",
       " 'Marks': {'M1': 50, 'M2': 100, 'M3': 23, 'M4': 69}}"
      ]
     },
     "execution_count": 712,
     "metadata": {},
     "output_type": "execute_result"
    }
   ],
   "source": [
    "D3"
   ]
  },
  {
   "cell_type": "code",
   "execution_count": 713,
   "id": "03f72e20",
   "metadata": {},
   "outputs": [
    {
     "ename": "TypeError",
     "evalue": "unsupported operand type(s) for +: 'dict' and 'dict'",
     "output_type": "error",
     "traceback": [
      "\u001b[1;31m---------------------------------------------------------------------------\u001b[0m",
      "\u001b[1;31mTypeError\u001b[0m                                 Traceback (most recent call last)",
      "\u001b[1;32m~\\AppData\\Local\\Temp\\ipykernel_16856\\433790223.py\u001b[0m in \u001b[0;36m<module>\u001b[1;34m\u001b[0m\n\u001b[0;32m      1\u001b[0m \u001b[1;31m#can not concatenate dictionaries\u001b[0m\u001b[1;33m\u001b[0m\u001b[1;33m\u001b[0m\u001b[0m\n\u001b[1;32m----> 2\u001b[1;33m \u001b[0mD1\u001b[0m\u001b[1;33m+\u001b[0m\u001b[0mD2\u001b[0m\u001b[1;33m\u001b[0m\u001b[1;33m\u001b[0m\u001b[0m\n\u001b[0m",
      "\u001b[1;31mTypeError\u001b[0m: unsupported operand type(s) for +: 'dict' and 'dict'"
     ]
    }
   ],
   "source": [
    "#can not concatenate dictionaries\n",
    "D1+D2"
   ]
  },
  {
   "cell_type": "code",
   "execution_count": 714,
   "id": "4c7d422b",
   "metadata": {},
   "outputs": [
    {
     "ename": "TypeError",
     "evalue": "unsupported operand type(s) for *: 'dict' and 'int'",
     "output_type": "error",
     "traceback": [
      "\u001b[1;31m---------------------------------------------------------------------------\u001b[0m",
      "\u001b[1;31mTypeError\u001b[0m                                 Traceback (most recent call last)",
      "\u001b[1;32m~\\AppData\\Local\\Temp\\ipykernel_16856\\4203859800.py\u001b[0m in \u001b[0;36m<module>\u001b[1;34m\u001b[0m\n\u001b[1;32m----> 1\u001b[1;33m \u001b[0mD1\u001b[0m \u001b[1;33m*\u001b[0m \u001b[1;36m3\u001b[0m\u001b[1;33m\u001b[0m\u001b[1;33m\u001b[0m\u001b[0m\n\u001b[0m",
      "\u001b[1;31mTypeError\u001b[0m: unsupported operand type(s) for *: 'dict' and 'int'"
     ]
    }
   ],
   "source": [
    "D1 * 3"
   ]
  },
  {
   "cell_type": "code",
   "execution_count": 715,
   "id": "23b415ed",
   "metadata": {},
   "outputs": [
    {
     "name": "stdout",
     "output_type": "stream",
     "text": [
      "Name\n",
      "University\n",
      "Marks\n"
     ]
    }
   ],
   "source": [
    "for i in D3:\n",
    "    print(i)"
   ]
  },
  {
   "cell_type": "code",
   "execution_count": 716,
   "id": "19e4a9bf",
   "metadata": {},
   "outputs": [
    {
     "name": "stdout",
     "output_type": "stream",
     "text": [
      "Name Bilal\n",
      "University UIT\n",
      "Marks {'M1': 50, 'M2': 100, 'M3': 23, 'M4': 69}\n"
     ]
    }
   ],
   "source": [
    "# to access keys and values both\n",
    "for i in D3:\n",
    "    print(i,D3[i])"
   ]
  },
  {
   "cell_type": "code",
   "execution_count": 717,
   "id": "3366daac",
   "metadata": {},
   "outputs": [
    {
     "data": {
      "text/plain": [
       "{'Name': 'Bilal',\n",
       " 'University': 'UIT',\n",
       " 'Marks': {'M1': 50, 'M2': 100, 'M3': 23, 'M4': 69}}"
      ]
     },
     "execution_count": 717,
     "metadata": {},
     "output_type": "execute_result"
    }
   ],
   "source": [
    "D3"
   ]
  },
  {
   "cell_type": "code",
   "execution_count": 718,
   "id": "af1c106c",
   "metadata": {},
   "outputs": [
    {
     "data": {
      "text/plain": [
       "False"
      ]
     },
     "execution_count": 718,
     "metadata": {},
     "output_type": "execute_result"
    }
   ],
   "source": [
    "\"Bilal\" in D3"
   ]
  },
  {
   "cell_type": "code",
   "execution_count": 719,
   "id": "c6856269",
   "metadata": {},
   "outputs": [
    {
     "data": {
      "text/plain": [
       "True"
      ]
     },
     "execution_count": 719,
     "metadata": {},
     "output_type": "execute_result"
    }
   ],
   "source": [
    "\"Name\" in D3"
   ]
  },
  {
   "cell_type": "code",
   "execution_count": 720,
   "id": "246afac4",
   "metadata": {},
   "outputs": [],
   "source": [
    "# Functions in dictionary"
   ]
  },
  {
   "cell_type": "code",
   "execution_count": 721,
   "id": "d3b40a9a",
   "metadata": {},
   "outputs": [
    {
     "data": {
      "text/plain": [
       "{'Name': 'Bilal',\n",
       " 'University': 'UIT',\n",
       " 'Marks': {'M1': 50, 'M2': 100, 'M3': 23, 'M4': 69}}"
      ]
     },
     "execution_count": 721,
     "metadata": {},
     "output_type": "execute_result"
    }
   ],
   "source": [
    "D3"
   ]
  },
  {
   "cell_type": "code",
   "execution_count": 723,
   "id": "c8189646",
   "metadata": {},
   "outputs": [
    {
     "data": {
      "text/plain": [
       "3"
      ]
     },
     "execution_count": 723,
     "metadata": {},
     "output_type": "execute_result"
    }
   ],
   "source": [
    "len(D3)"
   ]
  },
  {
   "cell_type": "code",
   "execution_count": 724,
   "id": "69d2ca37",
   "metadata": {},
   "outputs": [
    {
     "data": {
      "text/plain": [
       "'Marks'"
      ]
     },
     "execution_count": 724,
     "metadata": {},
     "output_type": "execute_result"
    }
   ],
   "source": [
    "min(D3)"
   ]
  },
  {
   "cell_type": "code",
   "execution_count": 725,
   "id": "a7eaa042",
   "metadata": {},
   "outputs": [
    {
     "data": {
      "text/plain": [
       "'University'"
      ]
     },
     "execution_count": 725,
     "metadata": {},
     "output_type": "execute_result"
    }
   ],
   "source": [
    "max(D3)"
   ]
  },
  {
   "cell_type": "code",
   "execution_count": 726,
   "id": "6ffb4c38",
   "metadata": {},
   "outputs": [
    {
     "data": {
      "text/plain": [
       "['Marks', 'Name', 'University']"
      ]
     },
     "execution_count": 726,
     "metadata": {},
     "output_type": "execute_result"
    }
   ],
   "source": [
    "sorted(D3)"
   ]
  },
  {
   "cell_type": "code",
   "execution_count": 727,
   "id": "ebe93ef8",
   "metadata": {},
   "outputs": [
    {
     "data": {
      "text/plain": [
       "['University', 'Name', 'Marks']"
      ]
     },
     "execution_count": 727,
     "metadata": {},
     "output_type": "execute_result"
    }
   ],
   "source": [
    "sorted(D3,reverse=True)"
   ]
  },
  {
   "cell_type": "code",
   "execution_count": 728,
   "id": "dafa1b7a",
   "metadata": {},
   "outputs": [
    {
     "data": {
      "text/plain": [
       "{'Name': 'Bilal',\n",
       " 'University': 'UIT',\n",
       " 'Marks': {'M1': 50, 'M2': 100, 'M3': 23, 'M4': 69}}"
      ]
     },
     "execution_count": 728,
     "metadata": {},
     "output_type": "execute_result"
    }
   ],
   "source": [
    "D3"
   ]
  },
  {
   "cell_type": "code",
   "execution_count": 729,
   "id": "9a5df71d",
   "metadata": {},
   "outputs": [
    {
     "data": {
      "text/plain": [
       "dict_keys(['Name', 'University', 'Marks'])"
      ]
     },
     "execution_count": 729,
     "metadata": {},
     "output_type": "execute_result"
    }
   ],
   "source": [
    "D3.keys()"
   ]
  },
  {
   "cell_type": "code",
   "execution_count": 730,
   "id": "6d6a1e82",
   "metadata": {},
   "outputs": [
    {
     "data": {
      "text/plain": [
       "dict_values(['Bilal', 'UIT', {'M1': 50, 'M2': 100, 'M3': 23, 'M4': 69}])"
      ]
     },
     "execution_count": 730,
     "metadata": {},
     "output_type": "execute_result"
    }
   ],
   "source": [
    "D3.values()"
   ]
  },
  {
   "cell_type": "markdown",
   "id": "3cc0a913",
   "metadata": {},
   "source": [
    "# Variable and Memory References"
   ]
  },
  {
   "cell_type": "code",
   "execution_count": 733,
   "id": "11ed8e38",
   "metadata": {},
   "outputs": [],
   "source": [
    "a=4"
   ]
  },
  {
   "cell_type": "code",
   "execution_count": 734,
   "id": "c82db9ad",
   "metadata": {},
   "outputs": [
    {
     "data": {
      "text/plain": [
       "1757899155856"
      ]
     },
     "execution_count": 734,
     "metadata": {},
     "output_type": "execute_result"
    }
   ],
   "source": [
    "id(a)"
   ]
  },
  {
   "cell_type": "code",
   "execution_count": 736,
   "id": "fe4cb9ab",
   "metadata": {},
   "outputs": [
    {
     "data": {
      "text/plain": [
       "1757899155856"
      ]
     },
     "execution_count": 736,
     "metadata": {},
     "output_type": "execute_result"
    }
   ],
   "source": [
    "id(4)"
   ]
  },
  {
   "cell_type": "code",
   "execution_count": 737,
   "id": "03b5ef1f",
   "metadata": {},
   "outputs": [
    {
     "data": {
      "text/plain": [
       "'0x1994af46990'"
      ]
     },
     "execution_count": 737,
     "metadata": {},
     "output_type": "execute_result"
    }
   ],
   "source": [
    "hex(1757899155856)"
   ]
  },
  {
   "cell_type": "code",
   "execution_count": 738,
   "id": "a7bfb239",
   "metadata": {},
   "outputs": [],
   "source": [
    "# Aliasing"
   ]
  },
  {
   "cell_type": "code",
   "execution_count": 739,
   "id": "4806a430",
   "metadata": {},
   "outputs": [],
   "source": [
    "a=5"
   ]
  },
  {
   "cell_type": "code",
   "execution_count": 740,
   "id": "22903be9",
   "metadata": {},
   "outputs": [],
   "source": [
    "b=a"
   ]
  },
  {
   "cell_type": "code",
   "execution_count": 741,
   "id": "b8dfeaf1",
   "metadata": {},
   "outputs": [
    {
     "data": {
      "text/plain": [
       "1757899155888"
      ]
     },
     "execution_count": 741,
     "metadata": {},
     "output_type": "execute_result"
    }
   ],
   "source": [
    "id(a)"
   ]
  },
  {
   "cell_type": "code",
   "execution_count": 742,
   "id": "ffd2599d",
   "metadata": {},
   "outputs": [
    {
     "data": {
      "text/plain": [
       "1757899155888"
      ]
     },
     "execution_count": 742,
     "metadata": {},
     "output_type": "execute_result"
    }
   ],
   "source": [
    "id(b)"
   ]
  },
  {
   "cell_type": "code",
   "execution_count": 743,
   "id": "8b64efe8",
   "metadata": {},
   "outputs": [],
   "source": [
    "c=b"
   ]
  },
  {
   "cell_type": "code",
   "execution_count": 744,
   "id": "bdc62864",
   "metadata": {},
   "outputs": [
    {
     "data": {
      "text/plain": [
       "1757899155888"
      ]
     },
     "execution_count": 744,
     "metadata": {},
     "output_type": "execute_result"
    }
   ],
   "source": [
    "id(c)"
   ]
  },
  {
   "cell_type": "code",
   "execution_count": 745,
   "id": "bf72f481",
   "metadata": {},
   "outputs": [],
   "source": [
    "del a"
   ]
  },
  {
   "cell_type": "code",
   "execution_count": 746,
   "id": "123ab03c",
   "metadata": {},
   "outputs": [
    {
     "ename": "NameError",
     "evalue": "name 'a' is not defined",
     "output_type": "error",
     "traceback": [
      "\u001b[1;31m---------------------------------------------------------------------------\u001b[0m",
      "\u001b[1;31mNameError\u001b[0m                                 Traceback (most recent call last)",
      "\u001b[1;32m~\\AppData\\Local\\Temp\\ipykernel_16856\\2167009006.py\u001b[0m in \u001b[0;36m<module>\u001b[1;34m\u001b[0m\n\u001b[1;32m----> 1\u001b[1;33m \u001b[0ma\u001b[0m\u001b[1;33m\u001b[0m\u001b[1;33m\u001b[0m\u001b[0m\n\u001b[0m",
      "\u001b[1;31mNameError\u001b[0m: name 'a' is not defined"
     ]
    }
   ],
   "source": [
    "a"
   ]
  },
  {
   "cell_type": "code",
   "execution_count": 747,
   "id": "a37bdd26",
   "metadata": {},
   "outputs": [
    {
     "data": {
      "text/plain": [
       "5"
      ]
     },
     "execution_count": 747,
     "metadata": {},
     "output_type": "execute_result"
    }
   ],
   "source": [
    "b"
   ]
  },
  {
   "cell_type": "code",
   "execution_count": 748,
   "id": "d3cbc383",
   "metadata": {},
   "outputs": [],
   "source": [
    "del b"
   ]
  },
  {
   "cell_type": "code",
   "execution_count": 749,
   "id": "6d3eea10",
   "metadata": {},
   "outputs": [
    {
     "ename": "NameError",
     "evalue": "name 'b' is not defined",
     "output_type": "error",
     "traceback": [
      "\u001b[1;31m---------------------------------------------------------------------------\u001b[0m",
      "\u001b[1;31mNameError\u001b[0m                                 Traceback (most recent call last)",
      "\u001b[1;32m~\\AppData\\Local\\Temp\\ipykernel_16856\\1685013873.py\u001b[0m in \u001b[0;36m<module>\u001b[1;34m\u001b[0m\n\u001b[1;32m----> 1\u001b[1;33m \u001b[0mb\u001b[0m\u001b[1;33m\u001b[0m\u001b[1;33m\u001b[0m\u001b[0m\n\u001b[0m",
      "\u001b[1;31mNameError\u001b[0m: name 'b' is not defined"
     ]
    }
   ],
   "source": [
    "b"
   ]
  },
  {
   "cell_type": "code",
   "execution_count": 750,
   "id": "bb9dc5c6",
   "metadata": {},
   "outputs": [
    {
     "data": {
      "text/plain": [
       "5"
      ]
     },
     "execution_count": 750,
     "metadata": {},
     "output_type": "execute_result"
    }
   ],
   "source": [
    "c"
   ]
  },
  {
   "cell_type": "code",
   "execution_count": 751,
   "id": "8b737659",
   "metadata": {},
   "outputs": [],
   "source": [
    "a=5"
   ]
  },
  {
   "cell_type": "code",
   "execution_count": 752,
   "id": "a8a1feb6",
   "metadata": {},
   "outputs": [],
   "source": [
    "b=a"
   ]
  },
  {
   "cell_type": "code",
   "execution_count": 753,
   "id": "63e6dc95",
   "metadata": {},
   "outputs": [],
   "source": [
    "a=6"
   ]
  },
  {
   "cell_type": "code",
   "execution_count": 754,
   "id": "941c406f",
   "metadata": {},
   "outputs": [
    {
     "data": {
      "text/plain": [
       "6"
      ]
     },
     "execution_count": 754,
     "metadata": {},
     "output_type": "execute_result"
    }
   ],
   "source": [
    "a"
   ]
  },
  {
   "cell_type": "code",
   "execution_count": 755,
   "id": "b0dc4d50",
   "metadata": {},
   "outputs": [
    {
     "data": {
      "text/plain": [
       "5"
      ]
     },
     "execution_count": 755,
     "metadata": {},
     "output_type": "execute_result"
    }
   ],
   "source": [
    "b"
   ]
  },
  {
   "cell_type": "markdown",
   "id": "b45bb4d2",
   "metadata": {},
   "source": [
    "# Reference Counting"
   ]
  },
  {
   "cell_type": "code",
   "execution_count": 777,
   "id": "90411c2d",
   "metadata": {},
   "outputs": [],
   "source": [
    "import sys"
   ]
  },
  {
   "cell_type": "code",
   "execution_count": 778,
   "id": "b4475ae8",
   "metadata": {},
   "outputs": [],
   "source": [
    "a=\"jdgsahdasdj\""
   ]
  },
  {
   "cell_type": "code",
   "execution_count": 779,
   "id": "ae8ef449",
   "metadata": {},
   "outputs": [],
   "source": [
    "b=a"
   ]
  },
  {
   "cell_type": "code",
   "execution_count": 780,
   "id": "a762020b",
   "metadata": {},
   "outputs": [],
   "source": [
    "c=b"
   ]
  },
  {
   "cell_type": "code",
   "execution_count": 781,
   "id": "4ec9dac8",
   "metadata": {},
   "outputs": [
    {
     "data": {
      "text/plain": [
       "1757095201648"
      ]
     },
     "execution_count": 781,
     "metadata": {},
     "output_type": "execute_result"
    }
   ],
   "source": [
    "id(a)"
   ]
  },
  {
   "cell_type": "code",
   "execution_count": 782,
   "id": "5502e3a8",
   "metadata": {},
   "outputs": [
    {
     "data": {
      "text/plain": [
       "1757095201648"
      ]
     },
     "execution_count": 782,
     "metadata": {},
     "output_type": "execute_result"
    }
   ],
   "source": [
    "id(b)"
   ]
  },
  {
   "cell_type": "code",
   "execution_count": 783,
   "id": "295ceac5",
   "metadata": {},
   "outputs": [
    {
     "data": {
      "text/plain": [
       "1757095201648"
      ]
     },
     "execution_count": 783,
     "metadata": {},
     "output_type": "execute_result"
    }
   ],
   "source": [
    "id(c)"
   ]
  },
  {
   "cell_type": "code",
   "execution_count": 784,
   "id": "3bffcca0",
   "metadata": {},
   "outputs": [
    {
     "data": {
      "text/plain": [
       "'jdgsahdasdj'"
      ]
     },
     "execution_count": 784,
     "metadata": {},
     "output_type": "execute_result"
    }
   ],
   "source": [
    "a"
   ]
  },
  {
   "cell_type": "code",
   "execution_count": 785,
   "id": "e0795fdf",
   "metadata": {},
   "outputs": [
    {
     "data": {
      "text/plain": [
       "'jdgsahdasdj'"
      ]
     },
     "execution_count": 785,
     "metadata": {},
     "output_type": "execute_result"
    }
   ],
   "source": [
    "b"
   ]
  },
  {
   "cell_type": "code",
   "execution_count": 786,
   "id": "9c7fd0d2",
   "metadata": {},
   "outputs": [
    {
     "data": {
      "text/plain": [
       "'jdgsahdasdj'"
      ]
     },
     "execution_count": 786,
     "metadata": {},
     "output_type": "execute_result"
    }
   ],
   "source": [
    "c"
   ]
  },
  {
   "cell_type": "code",
   "execution_count": 787,
   "id": "7d90a137",
   "metadata": {},
   "outputs": [
    {
     "data": {
      "text/plain": [
       "23"
      ]
     },
     "execution_count": 787,
     "metadata": {},
     "output_type": "execute_result"
    }
   ],
   "source": [
    "# if I want to find to find that how many variables are pointing to \"ftfc\" in memory\n",
    "sys.getrefcount(a)"
   ]
  },
  {
   "cell_type": "markdown",
   "id": "62017d80",
   "metadata": {},
   "source": [
    "# Python's Weird Behaviour\n",
    "1. getrefcount anamoly\n",
    "2. -5 to 256 eg:(a=257;b=257;id(a)!=id(b))\n",
    "3. string eg:(hello_world)(hello world)"
   ]
  },
  {
   "cell_type": "markdown",
   "id": "5bd67543",
   "metadata": {},
   "source": [
    "# Mutability"
   ]
  },
  {
   "cell_type": "code",
   "execution_count": 810,
   "id": "6caecffa",
   "metadata": {},
   "outputs": [],
   "source": [
    "# proof that list are mutable"
   ]
  },
  {
   "cell_type": "code",
   "execution_count": 788,
   "id": "1b86e6ce",
   "metadata": {},
   "outputs": [],
   "source": [
    "L=[1,2,3]"
   ]
  },
  {
   "cell_type": "code",
   "execution_count": 789,
   "id": "97a32521",
   "metadata": {},
   "outputs": [
    {
     "data": {
      "text/plain": [
       "1756973209088"
      ]
     },
     "execution_count": 789,
     "metadata": {},
     "output_type": "execute_result"
    }
   ],
   "source": [
    "id(L)"
   ]
  },
  {
   "cell_type": "code",
   "execution_count": 791,
   "id": "3fdb264c",
   "metadata": {},
   "outputs": [
    {
     "data": {
      "text/plain": [
       "1757899155760"
      ]
     },
     "execution_count": 791,
     "metadata": {},
     "output_type": "execute_result"
    }
   ],
   "source": [
    "id(1)"
   ]
  },
  {
   "cell_type": "code",
   "execution_count": 790,
   "id": "16c515de",
   "metadata": {},
   "outputs": [
    {
     "data": {
      "text/plain": [
       "1757899155760"
      ]
     },
     "execution_count": 790,
     "metadata": {},
     "output_type": "execute_result"
    }
   ],
   "source": [
    "id(L[0])"
   ]
  },
  {
   "cell_type": "code",
   "execution_count": 792,
   "id": "127c05a0",
   "metadata": {},
   "outputs": [
    {
     "data": {
      "text/plain": [
       "1757899155792"
      ]
     },
     "execution_count": 792,
     "metadata": {},
     "output_type": "execute_result"
    }
   ],
   "source": [
    "id(2)"
   ]
  },
  {
   "cell_type": "code",
   "execution_count": 793,
   "id": "90b8ee4c",
   "metadata": {},
   "outputs": [
    {
     "data": {
      "text/plain": [
       "1757899155824"
      ]
     },
     "execution_count": 793,
     "metadata": {},
     "output_type": "execute_result"
    }
   ],
   "source": [
    "id(3)"
   ]
  },
  {
   "cell_type": "code",
   "execution_count": 794,
   "id": "a95102bb",
   "metadata": {},
   "outputs": [],
   "source": [
    "L[2]=1"
   ]
  },
  {
   "cell_type": "code",
   "execution_count": 795,
   "id": "a79f7b45",
   "metadata": {},
   "outputs": [
    {
     "data": {
      "text/plain": [
       "[1, 2, 1]"
      ]
     },
     "execution_count": 795,
     "metadata": {},
     "output_type": "execute_result"
    }
   ],
   "source": [
    "L"
   ]
  },
  {
   "cell_type": "code",
   "execution_count": 796,
   "id": "77c48619",
   "metadata": {},
   "outputs": [
    {
     "data": {
      "text/plain": [
       "1756973209088"
      ]
     },
     "execution_count": 796,
     "metadata": {},
     "output_type": "execute_result"
    }
   ],
   "source": [
    "id(L)"
   ]
  },
  {
   "cell_type": "code",
   "execution_count": 797,
   "id": "724627c3",
   "metadata": {},
   "outputs": [
    {
     "data": {
      "text/plain": [
       "1757899155760"
      ]
     },
     "execution_count": 797,
     "metadata": {},
     "output_type": "execute_result"
    }
   ],
   "source": [
    "id(L[2])"
   ]
  },
  {
   "cell_type": "code",
   "execution_count": 798,
   "id": "3b0c2354",
   "metadata": {},
   "outputs": [],
   "source": [
    "L=[1,2,3,[4,5]]"
   ]
  },
  {
   "cell_type": "code",
   "execution_count": 799,
   "id": "428efd6d",
   "metadata": {},
   "outputs": [
    {
     "data": {
      "text/plain": [
       "[1, 2, 3, [4, 5]]"
      ]
     },
     "execution_count": 799,
     "metadata": {},
     "output_type": "execute_result"
    }
   ],
   "source": [
    "L"
   ]
  },
  {
   "cell_type": "code",
   "execution_count": 800,
   "id": "0aedd343",
   "metadata": {},
   "outputs": [],
   "source": [
    "# proof that strings are immutable\n",
    "a=\"hello\""
   ]
  },
  {
   "cell_type": "code",
   "execution_count": 801,
   "id": "f449e0bf",
   "metadata": {},
   "outputs": [
    {
     "data": {
      "text/plain": [
       "1757975803056"
      ]
     },
     "execution_count": 801,
     "metadata": {},
     "output_type": "execute_result"
    }
   ],
   "source": [
    "id(a)"
   ]
  },
  {
   "cell_type": "code",
   "execution_count": 802,
   "id": "807078f9",
   "metadata": {},
   "outputs": [],
   "source": [
    "a=a+\"world\""
   ]
  },
  {
   "cell_type": "code",
   "execution_count": 803,
   "id": "debcb5b5",
   "metadata": {},
   "outputs": [
    {
     "data": {
      "text/plain": [
       "'helloworld'"
      ]
     },
     "execution_count": 803,
     "metadata": {},
     "output_type": "execute_result"
    }
   ],
   "source": [
    "a"
   ]
  },
  {
   "cell_type": "code",
   "execution_count": 804,
   "id": "8bebde67",
   "metadata": {},
   "outputs": [
    {
     "data": {
      "text/plain": [
       "1756951328176"
      ]
     },
     "execution_count": 804,
     "metadata": {},
     "output_type": "execute_result"
    }
   ],
   "source": [
    "id(a)"
   ]
  },
  {
   "cell_type": "code",
   "execution_count": 805,
   "id": "19e7ac5d",
   "metadata": {},
   "outputs": [],
   "source": [
    "# proof that tuples are immutable\n",
    "T=(1,2,3)"
   ]
  },
  {
   "cell_type": "code",
   "execution_count": 806,
   "id": "7702a866",
   "metadata": {},
   "outputs": [
    {
     "data": {
      "text/plain": [
       "1757197756736"
      ]
     },
     "execution_count": 806,
     "metadata": {},
     "output_type": "execute_result"
    }
   ],
   "source": [
    "id(T)"
   ]
  },
  {
   "cell_type": "code",
   "execution_count": 807,
   "id": "d4b63f5a",
   "metadata": {},
   "outputs": [],
   "source": [
    "T=T+(5,6)"
   ]
  },
  {
   "cell_type": "code",
   "execution_count": 808,
   "id": "52a5a394",
   "metadata": {},
   "outputs": [
    {
     "data": {
      "text/plain": [
       "(1, 2, 3, 5, 6)"
      ]
     },
     "execution_count": 808,
     "metadata": {},
     "output_type": "execute_result"
    }
   ],
   "source": [
    "T"
   ]
  },
  {
   "cell_type": "code",
   "execution_count": 809,
   "id": "7227de2e",
   "metadata": {},
   "outputs": [
    {
     "data": {
      "text/plain": [
       "1756960872544"
      ]
     },
     "execution_count": 809,
     "metadata": {},
     "output_type": "execute_result"
    }
   ],
   "source": [
    "id(T)"
   ]
  },
  {
   "cell_type": "code",
   "execution_count": 811,
   "id": "1c3e3f86",
   "metadata": {},
   "outputs": [],
   "source": [
    "# proof that list are mutable,we don't have to remove current reference.\n",
    "L=[1,2,3]"
   ]
  },
  {
   "cell_type": "code",
   "execution_count": 812,
   "id": "9fa6992f",
   "metadata": {},
   "outputs": [
    {
     "data": {
      "text/plain": [
       "[1, 2, 3]"
      ]
     },
     "execution_count": 812,
     "metadata": {},
     "output_type": "execute_result"
    }
   ],
   "source": [
    "L"
   ]
  },
  {
   "cell_type": "code",
   "execution_count": 813,
   "id": "5696e9c4",
   "metadata": {},
   "outputs": [
    {
     "data": {
      "text/plain": [
       "1756970137856"
      ]
     },
     "execution_count": 813,
     "metadata": {},
     "output_type": "execute_result"
    }
   ],
   "source": [
    "id(L)"
   ]
  },
  {
   "cell_type": "code",
   "execution_count": 814,
   "id": "0c324173",
   "metadata": {},
   "outputs": [],
   "source": [
    "L.append(4)"
   ]
  },
  {
   "cell_type": "code",
   "execution_count": 815,
   "id": "c615c586",
   "metadata": {},
   "outputs": [
    {
     "data": {
      "text/plain": [
       "1756970137856"
      ]
     },
     "execution_count": 815,
     "metadata": {},
     "output_type": "execute_result"
    }
   ],
   "source": [
    "id(L)"
   ]
  },
  {
   "cell_type": "code",
   "execution_count": 816,
   "id": "dfbd0419",
   "metadata": {},
   "outputs": [],
   "source": [
    "# Side effects of mutation"
   ]
  },
  {
   "cell_type": "code",
   "execution_count": 817,
   "id": "ba03e643",
   "metadata": {},
   "outputs": [],
   "source": [
    "L=[1,2,3]"
   ]
  },
  {
   "cell_type": "code",
   "execution_count": 818,
   "id": "463c06ce",
   "metadata": {},
   "outputs": [],
   "source": [
    "L1=L"
   ]
  },
  {
   "cell_type": "code",
   "execution_count": 819,
   "id": "b984bd32",
   "metadata": {},
   "outputs": [
    {
     "data": {
      "text/plain": [
       "[1, 2, 3]"
      ]
     },
     "execution_count": 819,
     "metadata": {},
     "output_type": "execute_result"
    }
   ],
   "source": [
    "L"
   ]
  },
  {
   "cell_type": "code",
   "execution_count": 820,
   "id": "f0bf5f24",
   "metadata": {},
   "outputs": [
    {
     "data": {
      "text/plain": [
       "[1, 2, 3]"
      ]
     },
     "execution_count": 820,
     "metadata": {},
     "output_type": "execute_result"
    }
   ],
   "source": [
    "L1"
   ]
  },
  {
   "cell_type": "code",
   "execution_count": 821,
   "id": "3c585951",
   "metadata": {},
   "outputs": [
    {
     "data": {
      "text/plain": [
       "1757072317696"
      ]
     },
     "execution_count": 821,
     "metadata": {},
     "output_type": "execute_result"
    }
   ],
   "source": [
    "id(L)"
   ]
  },
  {
   "cell_type": "code",
   "execution_count": 822,
   "id": "9b69d03e",
   "metadata": {},
   "outputs": [
    {
     "data": {
      "text/plain": [
       "1757072317696"
      ]
     },
     "execution_count": 822,
     "metadata": {},
     "output_type": "execute_result"
    }
   ],
   "source": [
    "id(L1)"
   ]
  },
  {
   "cell_type": "code",
   "execution_count": 823,
   "id": "ea6e56d0",
   "metadata": {},
   "outputs": [],
   "source": [
    "L1.append(4)"
   ]
  },
  {
   "cell_type": "code",
   "execution_count": 824,
   "id": "06eda87d",
   "metadata": {},
   "outputs": [
    {
     "data": {
      "text/plain": [
       "[1, 2, 3, 4]"
      ]
     },
     "execution_count": 824,
     "metadata": {},
     "output_type": "execute_result"
    }
   ],
   "source": [
    "L1"
   ]
  },
  {
   "cell_type": "code",
   "execution_count": 825,
   "id": "3e7e403e",
   "metadata": {},
   "outputs": [
    {
     "data": {
      "text/plain": [
       "1757072317696"
      ]
     },
     "execution_count": 825,
     "metadata": {},
     "output_type": "execute_result"
    }
   ],
   "source": [
    "id(L1)"
   ]
  },
  {
   "cell_type": "code",
   "execution_count": 826,
   "id": "45c48277",
   "metadata": {},
   "outputs": [
    {
     "data": {
      "text/plain": [
       "[1, 2, 3, 4]"
      ]
     },
     "execution_count": 826,
     "metadata": {},
     "output_type": "execute_result"
    }
   ],
   "source": [
    "L1"
   ]
  },
  {
   "cell_type": "code",
   "execution_count": 827,
   "id": "59f453f8",
   "metadata": {},
   "outputs": [
    {
     "data": {
      "text/plain": [
       "[1, 2, 3, 4]"
      ]
     },
     "execution_count": 827,
     "metadata": {},
     "output_type": "execute_result"
    }
   ],
   "source": [
    "L"
   ]
  },
  {
   "cell_type": "code",
   "execution_count": 828,
   "id": "bed91049",
   "metadata": {},
   "outputs": [],
   "source": [
    "# how to keep safe from side effects -> (Cloning)\n",
    "# it creates new copy object in memory at a differnt address"
   ]
  },
  {
   "cell_type": "code",
   "execution_count": 829,
   "id": "25079587",
   "metadata": {},
   "outputs": [
    {
     "data": {
      "text/plain": [
       "[1, 2, 3, 4]"
      ]
     },
     "execution_count": 829,
     "metadata": {},
     "output_type": "execute_result"
    }
   ],
   "source": [
    "L"
   ]
  },
  {
   "cell_type": "code",
   "execution_count": 830,
   "id": "29ac1adc",
   "metadata": {},
   "outputs": [],
   "source": [
    "L1=L[:]"
   ]
  },
  {
   "cell_type": "code",
   "execution_count": 831,
   "id": "303c30f9",
   "metadata": {},
   "outputs": [],
   "source": [
    "L1.append(5)"
   ]
  },
  {
   "cell_type": "code",
   "execution_count": 832,
   "id": "d1bc6286",
   "metadata": {},
   "outputs": [
    {
     "data": {
      "text/plain": [
       "[1, 2, 3, 4, 5]"
      ]
     },
     "execution_count": 832,
     "metadata": {},
     "output_type": "execute_result"
    }
   ],
   "source": [
    "L1"
   ]
  },
  {
   "cell_type": "code",
   "execution_count": 833,
   "id": "54bb6b38",
   "metadata": {},
   "outputs": [
    {
     "data": {
      "text/plain": [
       "[1, 2, 3, 4]"
      ]
     },
     "execution_count": 833,
     "metadata": {},
     "output_type": "execute_result"
    }
   ],
   "source": [
    "L"
   ]
  },
  {
   "cell_type": "code",
   "execution_count": 834,
   "id": "09cc518a",
   "metadata": {},
   "outputs": [
    {
     "data": {
      "text/plain": [
       "1757072317696"
      ]
     },
     "execution_count": 834,
     "metadata": {},
     "output_type": "execute_result"
    }
   ],
   "source": [
    "id(L)"
   ]
  },
  {
   "cell_type": "code",
   "execution_count": 835,
   "id": "918727ce",
   "metadata": {},
   "outputs": [
    {
     "data": {
      "text/plain": [
       "1756959519488"
      ]
     },
     "execution_count": 835,
     "metadata": {},
     "output_type": "execute_result"
    }
   ],
   "source": [
    "id(L1)"
   ]
  },
  {
   "cell_type": "markdown",
   "id": "c6368a43",
   "metadata": {},
   "source": [
    "### Examples"
   ]
  },
  {
   "cell_type": "code",
   "execution_count": 840,
   "id": "a6e4d356",
   "metadata": {},
   "outputs": [],
   "source": [
    "a=(1,2,3,[4,5])"
   ]
  },
  {
   "cell_type": "code",
   "execution_count": 841,
   "id": "5794d1e8",
   "metadata": {},
   "outputs": [
    {
     "data": {
      "text/plain": [
       "(1, 2, 3, [4, 5])"
      ]
     },
     "execution_count": 841,
     "metadata": {},
     "output_type": "execute_result"
    }
   ],
   "source": [
    "a"
   ]
  },
  {
   "cell_type": "code",
   "execution_count": 842,
   "id": "6873a065",
   "metadata": {},
   "outputs": [
    {
     "data": {
      "text/plain": [
       "1757072946096"
      ]
     },
     "execution_count": 842,
     "metadata": {},
     "output_type": "execute_result"
    }
   ],
   "source": [
    "id(a)"
   ]
  },
  {
   "cell_type": "code",
   "execution_count": 843,
   "id": "cd9439e4",
   "metadata": {},
   "outputs": [],
   "source": [
    "a[-1][-1]=500"
   ]
  },
  {
   "cell_type": "code",
   "execution_count": 844,
   "id": "7058523b",
   "metadata": {},
   "outputs": [
    {
     "data": {
      "text/plain": [
       "(1, 2, 3, [4, 500])"
      ]
     },
     "execution_count": 844,
     "metadata": {},
     "output_type": "execute_result"
    }
   ],
   "source": [
    "a"
   ]
  },
  {
   "cell_type": "code",
   "execution_count": 845,
   "id": "f0db6bdc",
   "metadata": {},
   "outputs": [
    {
     "data": {
      "text/plain": [
       "1757072946096"
      ]
     },
     "execution_count": 845,
     "metadata": {},
     "output_type": "execute_result"
    }
   ],
   "source": [
    "id(a)"
   ]
  },
  {
   "cell_type": "code",
   "execution_count": 846,
   "id": "fb4fa157",
   "metadata": {},
   "outputs": [],
   "source": [
    "# it seems like it changes the tuple with in the same memory address, but actually it changed\n",
    "# the lis not tuple."
   ]
  },
  {
   "cell_type": "code",
   "execution_count": 847,
   "id": "21ca9152",
   "metadata": {},
   "outputs": [],
   "source": [
    "a=[1,2,3,(4,5)]"
   ]
  },
  {
   "cell_type": "code",
   "execution_count": 848,
   "id": "51353f6d",
   "metadata": {},
   "outputs": [
    {
     "data": {
      "text/plain": [
       "[1, 2, 3, (4, 5)]"
      ]
     },
     "execution_count": 848,
     "metadata": {},
     "output_type": "execute_result"
    }
   ],
   "source": [
    "a"
   ]
  },
  {
   "cell_type": "code",
   "execution_count": 849,
   "id": "6d1381a3",
   "metadata": {},
   "outputs": [
    {
     "data": {
      "text/plain": [
       "1756960350336"
      ]
     },
     "execution_count": 849,
     "metadata": {},
     "output_type": "execute_result"
    }
   ],
   "source": [
    "id(a)"
   ]
  },
  {
   "cell_type": "code",
   "execution_count": 850,
   "id": "c56c90b7",
   "metadata": {},
   "outputs": [
    {
     "ename": "TypeError",
     "evalue": "'tuple' object does not support item assignment",
     "output_type": "error",
     "traceback": [
      "\u001b[1;31m---------------------------------------------------------------------------\u001b[0m",
      "\u001b[1;31mTypeError\u001b[0m                                 Traceback (most recent call last)",
      "\u001b[1;32m~\\AppData\\Local\\Temp\\ipykernel_16856\\2549356361.py\u001b[0m in \u001b[0;36m<module>\u001b[1;34m\u001b[0m\n\u001b[1;32m----> 1\u001b[1;33m \u001b[0ma\u001b[0m\u001b[1;33m[\u001b[0m\u001b[1;33m-\u001b[0m\u001b[1;36m1\u001b[0m\u001b[1;33m]\u001b[0m\u001b[1;33m[\u001b[0m\u001b[1;33m-\u001b[0m\u001b[1;36m1\u001b[0m\u001b[1;33m]\u001b[0m\u001b[1;33m=\u001b[0m\u001b[1;36m500\u001b[0m\u001b[1;33m\u001b[0m\u001b[1;33m\u001b[0m\u001b[0m\n\u001b[0m",
      "\u001b[1;31mTypeError\u001b[0m: 'tuple' object does not support item assignment"
     ]
    }
   ],
   "source": [
    "a[-1][-1]=500"
   ]
  },
  {
   "cell_type": "code",
   "execution_count": 851,
   "id": "5b8d634e",
   "metadata": {},
   "outputs": [],
   "source": [
    "a=[1,2]"
   ]
  },
  {
   "cell_type": "code",
   "execution_count": 852,
   "id": "6380804a",
   "metadata": {},
   "outputs": [],
   "source": [
    "b=[3,4]"
   ]
  },
  {
   "cell_type": "code",
   "execution_count": 853,
   "id": "50d8c533",
   "metadata": {},
   "outputs": [],
   "source": [
    "c=(a,b)"
   ]
  },
  {
   "cell_type": "code",
   "execution_count": 854,
   "id": "eba9f3ef",
   "metadata": {},
   "outputs": [
    {
     "data": {
      "text/plain": [
       "([1, 2], [3, 4])"
      ]
     },
     "execution_count": 854,
     "metadata": {},
     "output_type": "execute_result"
    }
   ],
   "source": [
    "c"
   ]
  },
  {
   "cell_type": "code",
   "execution_count": 855,
   "id": "92b74bf4",
   "metadata": {},
   "outputs": [
    {
     "data": {
      "text/plain": [
       "1756970153856"
      ]
     },
     "execution_count": 855,
     "metadata": {},
     "output_type": "execute_result"
    }
   ],
   "source": [
    "id(a)"
   ]
  },
  {
   "cell_type": "code",
   "execution_count": 856,
   "id": "4f866902",
   "metadata": {},
   "outputs": [
    {
     "data": {
      "text/plain": [
       "1757095322944"
      ]
     },
     "execution_count": 856,
     "metadata": {},
     "output_type": "execute_result"
    }
   ],
   "source": [
    "id(b)"
   ]
  },
  {
   "cell_type": "code",
   "execution_count": 857,
   "id": "38c09f5e",
   "metadata": {},
   "outputs": [
    {
     "data": {
      "text/plain": [
       "1756970909312"
      ]
     },
     "execution_count": 857,
     "metadata": {},
     "output_type": "execute_result"
    }
   ],
   "source": [
    "id(c)"
   ]
  },
  {
   "cell_type": "code",
   "execution_count": 858,
   "id": "2164a52b",
   "metadata": {},
   "outputs": [],
   "source": [
    "c[0][0]=100"
   ]
  },
  {
   "cell_type": "code",
   "execution_count": 859,
   "id": "a48b0d4e",
   "metadata": {},
   "outputs": [
    {
     "data": {
      "text/plain": [
       "([100, 2], [3, 4])"
      ]
     },
     "execution_count": 859,
     "metadata": {},
     "output_type": "execute_result"
    }
   ],
   "source": [
    "c"
   ]
  },
  {
   "cell_type": "code",
   "execution_count": 860,
   "id": "8aee34e0",
   "metadata": {},
   "outputs": [
    {
     "data": {
      "text/plain": [
       "1756970909312"
      ]
     },
     "execution_count": 860,
     "metadata": {},
     "output_type": "execute_result"
    }
   ],
   "source": [
    "id(c)"
   ]
  },
  {
   "cell_type": "code",
   "execution_count": 861,
   "id": "e551ec0c",
   "metadata": {},
   "outputs": [
    {
     "data": {
      "text/plain": [
       "1756970153856"
      ]
     },
     "execution_count": 861,
     "metadata": {},
     "output_type": "execute_result"
    }
   ],
   "source": [
    "id(a)"
   ]
  },
  {
   "cell_type": "code",
   "execution_count": 862,
   "id": "8cbdab48",
   "metadata": {},
   "outputs": [
    {
     "data": {
      "text/plain": [
       "([100, 2], [3, 4])"
      ]
     },
     "execution_count": 862,
     "metadata": {},
     "output_type": "execute_result"
    }
   ],
   "source": [
    "c"
   ]
  },
  {
   "cell_type": "code",
   "execution_count": 863,
   "id": "3cb6176b",
   "metadata": {},
   "outputs": [],
   "source": [
    "L=[1,2,3]"
   ]
  },
  {
   "cell_type": "code",
   "execution_count": 864,
   "id": "c5f718de",
   "metadata": {},
   "outputs": [
    {
     "data": {
      "text/plain": [
       "1757095280320"
      ]
     },
     "execution_count": 864,
     "metadata": {},
     "output_type": "execute_result"
    }
   ],
   "source": [
    "id(L)"
   ]
  },
  {
   "cell_type": "code",
   "execution_count": 865,
   "id": "a4b228d9",
   "metadata": {},
   "outputs": [],
   "source": [
    "# address same\n",
    "L.append(4)"
   ]
  },
  {
   "cell_type": "code",
   "execution_count": 866,
   "id": "0edd6b30",
   "metadata": {},
   "outputs": [
    {
     "data": {
      "text/plain": [
       "[1, 2, 3, 4]"
      ]
     },
     "execution_count": 866,
     "metadata": {},
     "output_type": "execute_result"
    }
   ],
   "source": [
    "L"
   ]
  },
  {
   "cell_type": "code",
   "execution_count": 867,
   "id": "cebfd645",
   "metadata": {},
   "outputs": [
    {
     "data": {
      "text/plain": [
       "1757095280320"
      ]
     },
     "execution_count": 867,
     "metadata": {},
     "output_type": "execute_result"
    }
   ],
   "source": [
    "id(L)"
   ]
  },
  {
   "cell_type": "code",
   "execution_count": 868,
   "id": "cf67c6df",
   "metadata": {},
   "outputs": [],
   "source": [
    "# it creates new list at diff memory address\n",
    "L=L+[5,6]"
   ]
  },
  {
   "cell_type": "code",
   "execution_count": 869,
   "id": "7d3241e8",
   "metadata": {},
   "outputs": [
    {
     "data": {
      "text/plain": [
       "[1, 2, 3, 4, 5, 6]"
      ]
     },
     "execution_count": 869,
     "metadata": {},
     "output_type": "execute_result"
    }
   ],
   "source": [
    "L"
   ]
  },
  {
   "cell_type": "code",
   "execution_count": 870,
   "id": "582bade6",
   "metadata": {},
   "outputs": [
    {
     "data": {
      "text/plain": [
       "1757095323648"
      ]
     },
     "execution_count": 870,
     "metadata": {},
     "output_type": "execute_result"
    }
   ],
   "source": [
    "id(L)"
   ]
  },
  {
   "cell_type": "code",
   "execution_count": 871,
   "id": "b964411e",
   "metadata": {},
   "outputs": [
    {
     "data": {
      "text/plain": [
       "([100, 2], [3, 4])"
      ]
     },
     "execution_count": 871,
     "metadata": {},
     "output_type": "execute_result"
    }
   ],
   "source": [
    "c"
   ]
  },
  {
   "cell_type": "code",
   "execution_count": 872,
   "id": "ba736619",
   "metadata": {},
   "outputs": [
    {
     "ename": "TypeError",
     "evalue": "'tuple' object does not support item assignment",
     "output_type": "error",
     "traceback": [
      "\u001b[1;31m---------------------------------------------------------------------------\u001b[0m",
      "\u001b[1;31mTypeError\u001b[0m                                 Traceback (most recent call last)",
      "\u001b[1;32m~\\AppData\\Local\\Temp\\ipykernel_16856\\424104960.py\u001b[0m in \u001b[0;36m<module>\u001b[1;34m\u001b[0m\n\u001b[1;32m----> 1\u001b[1;33m \u001b[0mc\u001b[0m\u001b[1;33m[\u001b[0m\u001b[1;36m0\u001b[0m\u001b[1;33m]\u001b[0m\u001b[1;33m=\u001b[0m\u001b[0mc\u001b[0m\u001b[1;33m[\u001b[0m\u001b[1;36m0\u001b[0m\u001b[1;33m]\u001b[0m\u001b[1;33m+\u001b[0m\u001b[1;33m[\u001b[0m\u001b[1;36m5\u001b[0m\u001b[1;33m,\u001b[0m\u001b[1;36m6\u001b[0m\u001b[1;33m]\u001b[0m\u001b[1;33m\u001b[0m\u001b[1;33m\u001b[0m\u001b[0m\n\u001b[0m",
      "\u001b[1;31mTypeError\u001b[0m: 'tuple' object does not support item assignment"
     ]
    }
   ],
   "source": [
    "c[0]=c[0]+[5,6]"
   ]
  },
  {
   "cell_type": "code",
   "execution_count": 873,
   "id": "bd8bed73",
   "metadata": {},
   "outputs": [
    {
     "data": {
      "text/plain": [
       "([100, 2], [3, 4])"
      ]
     },
     "execution_count": 873,
     "metadata": {},
     "output_type": "execute_result"
    }
   ],
   "source": [
    "c"
   ]
  },
  {
   "cell_type": "code",
   "execution_count": 874,
   "id": "c95cdb39",
   "metadata": {},
   "outputs": [
    {
     "data": {
      "text/plain": [
       "[100, 2]"
      ]
     },
     "execution_count": 874,
     "metadata": {},
     "output_type": "execute_result"
    }
   ],
   "source": [
    "a"
   ]
  },
  {
   "cell_type": "code",
   "execution_count": 875,
   "id": "38d91025",
   "metadata": {},
   "outputs": [],
   "source": [
    "a=a+[5,6]"
   ]
  },
  {
   "cell_type": "code",
   "execution_count": 876,
   "id": "d31250b0",
   "metadata": {},
   "outputs": [
    {
     "data": {
      "text/plain": [
       "[100, 2, 5, 6]"
      ]
     },
     "execution_count": 876,
     "metadata": {},
     "output_type": "execute_result"
    }
   ],
   "source": [
    "a"
   ]
  },
  {
   "cell_type": "code",
   "execution_count": 877,
   "id": "e5690c1c",
   "metadata": {},
   "outputs": [
    {
     "data": {
      "text/plain": [
       "([100, 2], [3, 4])"
      ]
     },
     "execution_count": 877,
     "metadata": {},
     "output_type": "execute_result"
    }
   ],
   "source": [
    "c"
   ]
  },
  {
   "cell_type": "markdown",
   "id": "40c25cb4",
   "metadata": {},
   "source": [
    "# Functions"
   ]
  },
  {
   "cell_type": "code",
   "execution_count": null,
   "id": "bd88b05f",
   "metadata": {},
   "outputs": [],
   "source": [
    "# creating functions"
   ]
  },
  {
   "cell_type": "code",
   "execution_count": 883,
   "id": "44cbb6a4",
   "metadata": {},
   "outputs": [],
   "source": [
    "def is_even(number):\n",
    "    \"\"\"\n",
    "    This function returns if a given number is even or odd\n",
    "    Input - Any valid integer\n",
    "    Output - dd or even\n",
    "    Created By - Muhammad Bilal Khan\n",
    "    Last edited - 27 Sep 2023\n",
    "    \"\"\"\n",
    "    \n",
    "    if number%2==0:\n",
    "        return \"even\"\n",
    "    else:\n",
    "        return \"odd\"\n",
    "        "
   ]
  },
  {
   "cell_type": "code",
   "execution_count": null,
   "id": "6644a048",
   "metadata": {},
   "outputs": [],
   "source": [
    "# Calling Functions"
   ]
  },
  {
   "cell_type": "code",
   "execution_count": 884,
   "id": "af38265a",
   "metadata": {},
   "outputs": [
    {
     "data": {
      "text/plain": [
       "'even'"
      ]
     },
     "execution_count": 884,
     "metadata": {},
     "output_type": "execute_result"
    }
   ],
   "source": [
    "is_even(46)"
   ]
  },
  {
   "cell_type": "code",
   "execution_count": 885,
   "id": "a17e06c7",
   "metadata": {},
   "outputs": [
    {
     "data": {
      "text/plain": [
       "'odd'"
      ]
     },
     "execution_count": 885,
     "metadata": {},
     "output_type": "execute_result"
    }
   ],
   "source": [
    "is_even(75)"
   ]
  },
  {
   "cell_type": "code",
   "execution_count": 887,
   "id": "4bed5c51",
   "metadata": {},
   "outputs": [
    {
     "name": "stdout",
     "output_type": "stream",
     "text": [
      "1 is odd\n",
      "2 is even\n",
      "3 is odd\n",
      "4 is even\n",
      "5 is odd\n",
      "6 is even\n",
      "7 is odd\n",
      "8 is even\n",
      "9 is odd\n",
      "10 is even\n"
     ]
    }
   ],
   "source": [
    "# calling function in loop\n",
    "for i in range(1,11):\n",
    "    print(i,\"is\",is_even(i))"
   ]
  },
  {
   "cell_type": "code",
   "execution_count": 888,
   "id": "cf4ade12",
   "metadata": {},
   "outputs": [
    {
     "name": "stdout",
     "output_type": "stream",
     "text": [
      "\n",
      "    This function returns if a given number is even or odd\n",
      "    Input - Any valid integer\n",
      "    Output - dd or even\n",
      "    Created By - Muhammad Bilal Khan\n",
      "    Last edited - 27 Sep 2023\n",
      "    \n"
     ]
    }
   ],
   "source": [
    "# printing doc string of function\n",
    "print(is_even.__doc__)"
   ]
  },
  {
   "cell_type": "code",
   "execution_count": 889,
   "id": "4408f6ea",
   "metadata": {},
   "outputs": [],
   "source": [
    "# 2 point of views"
   ]
  },
  {
   "cell_type": "code",
   "execution_count": 892,
   "id": "3acf67ef",
   "metadata": {},
   "outputs": [],
   "source": [
    "def is_even(number):\n",
    "    \"\"\"\n",
    "    This function returns if a given number is even or odd\n",
    "    Input - Any valid integer\n",
    "    Output - dd or even\n",
    "    Created By - Muhammad Bilal Khan\n",
    "    Last edited - 27 Sep 2023\n",
    "    \"\"\"\n",
    "    if type(number)==int:\n",
    "        if number%2==0:\n",
    "            return \"even\"\n",
    "        else:\n",
    "            return \"odd\"\n",
    "    else:\n",
    "        print(\"Not Allowed\")\n",
    "        "
   ]
  },
  {
   "cell_type": "code",
   "execution_count": 893,
   "id": "8b813f39",
   "metadata": {},
   "outputs": [
    {
     "name": "stdout",
     "output_type": "stream",
     "text": [
      "Not Allowed\n"
     ]
    }
   ],
   "source": [
    "is_even(\"hello\")"
   ]
  },
  {
   "cell_type": "code",
   "execution_count": 898,
   "id": "5a82d01e",
   "metadata": {},
   "outputs": [
    {
     "name": "stdout",
     "output_type": "stream",
     "text": [
      "even\n"
     ]
    }
   ],
   "source": [
    "def is_even(number):\n",
    "    if number%2==0:\n",
    "        return \"even\"\n",
    "    else:\n",
    "        return \"odd\"\n",
    "    \n",
    "x=is_even(4)\n",
    "print(x)"
   ]
  },
  {
   "cell_type": "code",
   "execution_count": 899,
   "id": "0c5b841c",
   "metadata": {},
   "outputs": [
    {
     "name": "stdout",
     "output_type": "stream",
     "text": [
      "even\n",
      "None\n"
     ]
    }
   ],
   "source": [
    "def is_even(number):\n",
    "    if number%2==0:\n",
    "        print (\"even\")\n",
    "    else:\n",
    "        print (\"odd\")\n",
    "    \n",
    "x=is_even(4)\n",
    "print(x)"
   ]
  },
  {
   "cell_type": "code",
   "execution_count": 900,
   "id": "8b43482b",
   "metadata": {},
   "outputs": [],
   "source": [
    "def power(a,b):\n",
    "    return a**b"
   ]
  },
  {
   "cell_type": "code",
   "execution_count": 901,
   "id": "51c3f861",
   "metadata": {},
   "outputs": [
    {
     "data": {
      "text/plain": [
       "8"
      ]
     },
     "execution_count": 901,
     "metadata": {},
     "output_type": "execute_result"
    }
   ],
   "source": [
    "power(2,3)"
   ]
  },
  {
   "cell_type": "code",
   "execution_count": 902,
   "id": "08c210a5",
   "metadata": {},
   "outputs": [
    {
     "data": {
      "text/plain": [
       "9"
      ]
     },
     "execution_count": 902,
     "metadata": {},
     "output_type": "execute_result"
    }
   ],
   "source": [
    "power(3,2)"
   ]
  },
  {
   "cell_type": "code",
   "execution_count": 903,
   "id": "cd41dfcd",
   "metadata": {},
   "outputs": [
    {
     "ename": "TypeError",
     "evalue": "power() missing 1 required positional argument: 'b'",
     "output_type": "error",
     "traceback": [
      "\u001b[1;31m---------------------------------------------------------------------------\u001b[0m",
      "\u001b[1;31mTypeError\u001b[0m                                 Traceback (most recent call last)",
      "\u001b[1;32m~\\AppData\\Local\\Temp\\ipykernel_16856\\512475094.py\u001b[0m in \u001b[0;36m<module>\u001b[1;34m\u001b[0m\n\u001b[1;32m----> 1\u001b[1;33m \u001b[0mpower\u001b[0m\u001b[1;33m(\u001b[0m\u001b[1;36m3\u001b[0m\u001b[1;33m)\u001b[0m\u001b[1;33m\u001b[0m\u001b[1;33m\u001b[0m\u001b[0m\n\u001b[0m",
      "\u001b[1;31mTypeError\u001b[0m: power() missing 1 required positional argument: 'b'"
     ]
    }
   ],
   "source": [
    "power(3)"
   ]
  },
  {
   "cell_type": "code",
   "execution_count": 904,
   "id": "f0af3527",
   "metadata": {},
   "outputs": [
    {
     "ename": "TypeError",
     "evalue": "power() missing 2 required positional arguments: 'a' and 'b'",
     "output_type": "error",
     "traceback": [
      "\u001b[1;31m---------------------------------------------------------------------------\u001b[0m",
      "\u001b[1;31mTypeError\u001b[0m                                 Traceback (most recent call last)",
      "\u001b[1;32m~\\AppData\\Local\\Temp\\ipykernel_16856\\964676364.py\u001b[0m in \u001b[0;36m<module>\u001b[1;34m\u001b[0m\n\u001b[1;32m----> 1\u001b[1;33m \u001b[0mpower\u001b[0m\u001b[1;33m(\u001b[0m\u001b[1;33m)\u001b[0m\u001b[1;33m\u001b[0m\u001b[1;33m\u001b[0m\u001b[0m\n\u001b[0m",
      "\u001b[1;31mTypeError\u001b[0m: power() missing 2 required positional arguments: 'a' and 'b'"
     ]
    }
   ],
   "source": [
    "power()"
   ]
  },
  {
   "cell_type": "code",
   "execution_count": 905,
   "id": "e1b8cbf3",
   "metadata": {},
   "outputs": [],
   "source": [
    "#Default Arguments\n",
    "def power(a=1,b=1):\n",
    "    return a**b"
   ]
  },
  {
   "cell_type": "code",
   "execution_count": 906,
   "id": "bbec6538",
   "metadata": {},
   "outputs": [
    {
     "data": {
      "text/plain": [
       "8"
      ]
     },
     "execution_count": 906,
     "metadata": {},
     "output_type": "execute_result"
    }
   ],
   "source": [
    "power(2,3)"
   ]
  },
  {
   "cell_type": "code",
   "execution_count": 907,
   "id": "abfb39a2",
   "metadata": {},
   "outputs": [
    {
     "data": {
      "text/plain": [
       "3"
      ]
     },
     "execution_count": 907,
     "metadata": {},
     "output_type": "execute_result"
    }
   ],
   "source": [
    "power(3)"
   ]
  },
  {
   "cell_type": "code",
   "execution_count": 908,
   "id": "89682431",
   "metadata": {},
   "outputs": [
    {
     "data": {
      "text/plain": [
       "1"
      ]
     },
     "execution_count": 908,
     "metadata": {},
     "output_type": "execute_result"
    }
   ],
   "source": [
    "power()"
   ]
  },
  {
   "cell_type": "code",
   "execution_count": 909,
   "id": "9207016c",
   "metadata": {},
   "outputs": [
    {
     "data": {
      "text/plain": [
       "8"
      ]
     },
     "execution_count": 909,
     "metadata": {},
     "output_type": "execute_result"
    }
   ],
   "source": [
    "# positional Arguments -> 2 ja k a ko mila, or 3 ja k b ko he mila, means order zruri h.\n",
    "power(2,3)"
   ]
  },
  {
   "cell_type": "code",
   "execution_count": 910,
   "id": "7a5e9006",
   "metadata": {},
   "outputs": [
    {
     "data": {
      "text/plain": [
       "9"
      ]
     },
     "execution_count": 910,
     "metadata": {},
     "output_type": "execute_result"
    }
   ],
   "source": [
    "# Keyword Arguments\n",
    "power(b=2,a=3)"
   ]
  },
  {
   "cell_type": "code",
   "execution_count": 911,
   "id": "8311f966",
   "metadata": {},
   "outputs": [],
   "source": [
    "# priority of keyword argument > priority of positional argument"
   ]
  },
  {
   "cell_type": "code",
   "execution_count": 912,
   "id": "8d138414",
   "metadata": {},
   "outputs": [
    {
     "name": "stdout",
     "output_type": "stream",
     "text": [
      "1 2 3\n"
     ]
    }
   ],
   "source": [
    "# arbitrary argument (flexible)\n",
    "print(1,2,3)"
   ]
  },
  {
   "cell_type": "code",
   "execution_count": 913,
   "id": "141d2c63",
   "metadata": {},
   "outputs": [
    {
     "name": "stdout",
     "output_type": "stream",
     "text": [
      "1\n"
     ]
    }
   ],
   "source": [
    "print(1)"
   ]
  },
  {
   "cell_type": "code",
   "execution_count": 914,
   "id": "5ae20e07",
   "metadata": {},
   "outputs": [
    {
     "name": "stdout",
     "output_type": "stream",
     "text": [
      "6\n"
     ]
    }
   ],
   "source": [
    "def flexi(*number):\n",
    "    product=1\n",
    "    for i in number:\n",
    "        product=product * i\n",
    "    print(product)\n",
    "    \n",
    "flexi(1,2,3)"
   ]
  },
  {
   "cell_type": "code",
   "execution_count": 915,
   "id": "9ab117f4",
   "metadata": {},
   "outputs": [
    {
     "name": "stdout",
     "output_type": "stream",
     "text": [
      "(1, 2, 3)\n",
      "<class 'tuple'>\n",
      "6\n"
     ]
    }
   ],
   "source": [
    "def flexi(*number):\n",
    "    product=1\n",
    "    print(number)\n",
    "    print(type(number))\n",
    "    for i in number:\n",
    "        product=product * i\n",
    "    print(product)\n",
    "    \n",
    "flexi(1,2,3)"
   ]
  },
  {
   "cell_type": "markdown",
   "id": "3190f19f",
   "metadata": {},
   "source": [
    "# Global vs Local"
   ]
  },
  {
   "cell_type": "code",
   "execution_count": 916,
   "id": "49a0ef7b",
   "metadata": {},
   "outputs": [
    {
     "name": "stdout",
     "output_type": "stream",
     "text": [
      "Inside fun_a\n",
      "None\n",
      "Inside func_b\n",
      "7\n"
     ]
    }
   ],
   "source": [
    "def func_a():\n",
    "    print(\"Inside fun_a\")\n",
    "    \n",
    "def func_b(y):\n",
    "    print(\"Inside func_b\")\n",
    "    return y\n",
    "\n",
    "\n",
    "print(func_a())\n",
    "print(5 + func_b(2))"
   ]
  },
  {
   "cell_type": "code",
   "execution_count": 917,
   "id": "45da712e",
   "metadata": {},
   "outputs": [
    {
     "name": "stdout",
     "output_type": "stream",
     "text": [
      "2\n",
      "5\n"
     ]
    }
   ],
   "source": [
    "def f(x):\n",
    "    x=1\n",
    "    x+=1\n",
    "    print(x)\n",
    "    \n",
    "    \n",
    "x=5\n",
    "f(x)\n",
    "print(x)"
   ]
  },
  {
   "cell_type": "code",
   "execution_count": 918,
   "id": "e22c428f",
   "metadata": {},
   "outputs": [
    {
     "name": "stdout",
     "output_type": "stream",
     "text": [
      "5\n",
      "6\n",
      "5\n"
     ]
    }
   ],
   "source": [
    "def g(y):\n",
    "    print(x)\n",
    "    print(x+1)\n",
    "    \n",
    "    \n",
    "x=5\n",
    "g(x)\n",
    "print(x)"
   ]
  },
  {
   "cell_type": "code",
   "execution_count": 919,
   "id": "bf3ac16a",
   "metadata": {},
   "outputs": [
    {
     "ename": "UnboundLocalError",
     "evalue": "local variable 'x' referenced before assignment",
     "output_type": "error",
     "traceback": [
      "\u001b[1;31m---------------------------------------------------------------------------\u001b[0m",
      "\u001b[1;31mUnboundLocalError\u001b[0m                         Traceback (most recent call last)",
      "\u001b[1;32m~\\AppData\\Local\\Temp\\ipykernel_16856\\3957418337.py\u001b[0m in \u001b[0;36m<module>\u001b[1;34m\u001b[0m\n\u001b[0;32m      3\u001b[0m \u001b[1;33m\u001b[0m\u001b[0m\n\u001b[0;32m      4\u001b[0m \u001b[0mx\u001b[0m\u001b[1;33m=\u001b[0m\u001b[1;36m5\u001b[0m\u001b[1;33m\u001b[0m\u001b[1;33m\u001b[0m\u001b[0m\n\u001b[1;32m----> 5\u001b[1;33m \u001b[0mh\u001b[0m\u001b[1;33m(\u001b[0m\u001b[0mx\u001b[0m\u001b[1;33m)\u001b[0m\u001b[1;33m\u001b[0m\u001b[1;33m\u001b[0m\u001b[0m\n\u001b[0m\u001b[0;32m      6\u001b[0m \u001b[0mprint\u001b[0m\u001b[1;33m(\u001b[0m\u001b[0mx\u001b[0m\u001b[1;33m)\u001b[0m\u001b[1;33m\u001b[0m\u001b[1;33m\u001b[0m\u001b[0m\n",
      "\u001b[1;32m~\\AppData\\Local\\Temp\\ipykernel_16856\\3957418337.py\u001b[0m in \u001b[0;36mh\u001b[1;34m(y)\u001b[0m\n\u001b[0;32m      1\u001b[0m \u001b[1;32mdef\u001b[0m \u001b[0mh\u001b[0m\u001b[1;33m(\u001b[0m\u001b[0my\u001b[0m\u001b[1;33m)\u001b[0m\u001b[1;33m:\u001b[0m\u001b[1;33m\u001b[0m\u001b[1;33m\u001b[0m\u001b[0m\n\u001b[1;32m----> 2\u001b[1;33m     \u001b[0mx\u001b[0m \u001b[1;33m+=\u001b[0m \u001b[1;36m1\u001b[0m\u001b[1;33m\u001b[0m\u001b[1;33m\u001b[0m\u001b[0m\n\u001b[0m\u001b[0;32m      3\u001b[0m \u001b[1;33m\u001b[0m\u001b[0m\n\u001b[0;32m      4\u001b[0m \u001b[0mx\u001b[0m\u001b[1;33m=\u001b[0m\u001b[1;36m5\u001b[0m\u001b[1;33m\u001b[0m\u001b[1;33m\u001b[0m\u001b[0m\n\u001b[0;32m      5\u001b[0m \u001b[0mh\u001b[0m\u001b[1;33m(\u001b[0m\u001b[0mx\u001b[0m\u001b[1;33m)\u001b[0m\u001b[1;33m\u001b[0m\u001b[1;33m\u001b[0m\u001b[0m\n",
      "\u001b[1;31mUnboundLocalError\u001b[0m: local variable 'x' referenced before assignment"
     ]
    }
   ],
   "source": [
    "def h(y):\n",
    "    x += 1  #can not change global variable inside the function\n",
    "    \n",
    "x=5\n",
    "h(x)\n",
    "print(x)"
   ]
  },
  {
   "cell_type": "code",
   "execution_count": 920,
   "id": "6ff66519",
   "metadata": {},
   "outputs": [
    {
     "name": "stdout",
     "output_type": "stream",
     "text": [
      "6\n"
     ]
    }
   ],
   "source": [
    "def h(y):\n",
    "    global x #we can change global variable using global keyword\n",
    "    x += 1\n",
    "    \n",
    "x=5\n",
    "h(x)\n",
    "print(x)"
   ]
  },
  {
   "cell_type": "code",
   "execution_count": 922,
   "id": "ff0d5cb7",
   "metadata": {},
   "outputs": [
    {
     "name": "stdout",
     "output_type": "stream",
     "text": [
      "In f(x): x =  4\n",
      "In main program scope: z =  4\n",
      "In main program scope: x =  3\n"
     ]
    }
   ],
   "source": [
    "def f(x):\n",
    "    x = x + 1\n",
    "    print(\"In f(x): x = \", x)\n",
    "    return x\n",
    "\n",
    "\n",
    "x=3\n",
    "z=f(x)\n",
    "print(\"In main program scope: z = \", z)\n",
    "print(\"In main program scope: x = \", x)"
   ]
  },
  {
   "cell_type": "markdown",
   "id": "4f723cc1",
   "metadata": {},
   "source": [
    "### Nested Functions"
   ]
  },
  {
   "cell_type": "code",
   "execution_count": 929,
   "id": "a8824b36",
   "metadata": {},
   "outputs": [],
   "source": [
    "def f():\n",
    "    print(\"Inside f\")\n",
    "    def m():\n",
    "        print(\"Inside m\")\n",
    "    \n",
    "    m()"
   ]
  },
  {
   "cell_type": "code",
   "execution_count": 930,
   "id": "9a0361f0",
   "metadata": {},
   "outputs": [
    {
     "name": "stdout",
     "output_type": "stream",
     "text": [
      "Inside f\n",
      "Inside m\n"
     ]
    }
   ],
   "source": [
    "f()"
   ]
  },
  {
   "cell_type": "code",
   "execution_count": 931,
   "id": "7121ab71",
   "metadata": {},
   "outputs": [
    {
     "ename": "NameError",
     "evalue": "name 'm' is not defined",
     "output_type": "error",
     "traceback": [
      "\u001b[1;31m---------------------------------------------------------------------------\u001b[0m",
      "\u001b[1;31mNameError\u001b[0m                                 Traceback (most recent call last)",
      "\u001b[1;32m~\\AppData\\Local\\Temp\\ipykernel_16856\\3166545801.py\u001b[0m in \u001b[0;36m<module>\u001b[1;34m\u001b[0m\n\u001b[1;32m----> 1\u001b[1;33m \u001b[0mm\u001b[0m\u001b[1;33m(\u001b[0m\u001b[1;33m)\u001b[0m\u001b[1;33m\u001b[0m\u001b[1;33m\u001b[0m\u001b[0m\n\u001b[0m",
      "\u001b[1;31mNameError\u001b[0m: name 'm' is not defined"
     ]
    }
   ],
   "source": [
    "m()"
   ]
  },
  {
   "cell_type": "code",
   "execution_count": 933,
   "id": "13357e6a",
   "metadata": {},
   "outputs": [],
   "source": [
    "def f():\n",
    "    print(\"Inside f\")\n",
    "    def m():\n",
    "        print(\"Inside m\")\n",
    "        f()\n",
    "    \n",
    "    m()"
   ]
  },
  {
   "cell_type": "code",
   "execution_count": 1,
   "id": "0ef9d389",
   "metadata": {},
   "outputs": [
    {
     "name": "stdout",
     "output_type": "stream",
     "text": [
      "In g(x): x =  4\n"
     ]
    }
   ],
   "source": [
    "def g(x):\n",
    "    def h():\n",
    "        x = \"abc\"\n",
    "    x = x + 1\n",
    "    print(\"In g(x): x = \", x)\n",
    "    h()\n",
    "    return x\n",
    "\n",
    "\n",
    "x=3\n",
    "z=g(x)"
   ]
  },
  {
   "cell_type": "markdown",
   "id": "341ced2d",
   "metadata": {},
   "source": [
    "### Functions as objects"
   ]
  },
  {
   "cell_type": "code",
   "execution_count": 2,
   "id": "67888584",
   "metadata": {},
   "outputs": [],
   "source": [
    "def f(num):\n",
    "    return num ** 2"
   ]
  },
  {
   "cell_type": "code",
   "execution_count": 3,
   "id": "3daa44d1",
   "metadata": {},
   "outputs": [
    {
     "data": {
      "text/plain": [
       "4"
      ]
     },
     "execution_count": 3,
     "metadata": {},
     "output_type": "execute_result"
    }
   ],
   "source": [
    "f(2)"
   ]
  },
  {
   "cell_type": "code",
   "execution_count": 4,
   "id": "4c4e3e4a",
   "metadata": {},
   "outputs": [
    {
     "data": {
      "text/plain": [
       "16"
      ]
     },
     "execution_count": 4,
     "metadata": {},
     "output_type": "execute_result"
    }
   ],
   "source": [
    "f(4)"
   ]
  },
  {
   "cell_type": "code",
   "execution_count": 5,
   "id": "55b7ee90",
   "metadata": {},
   "outputs": [],
   "source": [
    "# we do aliasing because functions are objects too.\n",
    "x = f"
   ]
  },
  {
   "cell_type": "code",
   "execution_count": 6,
   "id": "9b0b8435",
   "metadata": {},
   "outputs": [
    {
     "data": {
      "text/plain": [
       "16"
      ]
     },
     "execution_count": 6,
     "metadata": {},
     "output_type": "execute_result"
    }
   ],
   "source": [
    "x(4)"
   ]
  },
  {
   "cell_type": "code",
   "execution_count": 7,
   "id": "fb56be69",
   "metadata": {},
   "outputs": [],
   "source": [
    "del f"
   ]
  },
  {
   "cell_type": "code",
   "execution_count": 8,
   "id": "fdfae64e",
   "metadata": {},
   "outputs": [
    {
     "ename": "NameError",
     "evalue": "name 'f' is not defined",
     "output_type": "error",
     "traceback": [
      "\u001b[1;31m---------------------------------------------------------------------------\u001b[0m",
      "\u001b[1;31mNameError\u001b[0m                                 Traceback (most recent call last)",
      "\u001b[1;32m~\\AppData\\Local\\Temp\\ipykernel_11280\\3272250079.py\u001b[0m in \u001b[0;36m<module>\u001b[1;34m\u001b[0m\n\u001b[1;32m----> 1\u001b[1;33m \u001b[0mf\u001b[0m\u001b[1;33m(\u001b[0m\u001b[1;36m2\u001b[0m\u001b[1;33m)\u001b[0m\u001b[1;33m\u001b[0m\u001b[1;33m\u001b[0m\u001b[0m\n\u001b[0m",
      "\u001b[1;31mNameError\u001b[0m: name 'f' is not defined"
     ]
    }
   ],
   "source": [
    "f(2)"
   ]
  },
  {
   "cell_type": "code",
   "execution_count": 9,
   "id": "cc832671",
   "metadata": {},
   "outputs": [
    {
     "data": {
      "text/plain": [
       "4"
      ]
     },
     "execution_count": 9,
     "metadata": {},
     "output_type": "execute_result"
    }
   ],
   "source": [
    "x(2)"
   ]
  },
  {
   "cell_type": "code",
   "execution_count": 10,
   "id": "983e9c59",
   "metadata": {},
   "outputs": [
    {
     "data": {
      "text/plain": [
       "function"
      ]
     },
     "execution_count": 10,
     "metadata": {},
     "output_type": "execute_result"
    }
   ],
   "source": [
    "type(x)"
   ]
  },
  {
   "cell_type": "code",
   "execution_count": 11,
   "id": "cd1e6e5c",
   "metadata": {},
   "outputs": [],
   "source": [
    "L=[1,2,3,4,x]"
   ]
  },
  {
   "cell_type": "code",
   "execution_count": 12,
   "id": "3a620147",
   "metadata": {},
   "outputs": [
    {
     "data": {
      "text/plain": [
       "[1, 2, 3, 4, <function __main__.f(num)>]"
      ]
     },
     "execution_count": 12,
     "metadata": {},
     "output_type": "execute_result"
    }
   ],
   "source": [
    "L"
   ]
  },
  {
   "cell_type": "code",
   "execution_count": 13,
   "id": "d811cd65",
   "metadata": {},
   "outputs": [
    {
     "data": {
      "text/plain": [
       "9"
      ]
     },
     "execution_count": 13,
     "metadata": {},
     "output_type": "execute_result"
    }
   ],
   "source": [
    "L[-1](3)"
   ]
  },
  {
   "cell_type": "code",
   "execution_count": 14,
   "id": "2d5c29d9",
   "metadata": {},
   "outputs": [],
   "source": [
    "L=[1,2,3,4,x(5)]"
   ]
  },
  {
   "cell_type": "code",
   "execution_count": 15,
   "id": "02b0b5dd",
   "metadata": {},
   "outputs": [
    {
     "data": {
      "text/plain": [
       "[1, 2, 3, 4, 25]"
      ]
     },
     "execution_count": 15,
     "metadata": {},
     "output_type": "execute_result"
    }
   ],
   "source": [
    "L"
   ]
  },
  {
   "cell_type": "code",
   "execution_count": 16,
   "id": "2949208f",
   "metadata": {},
   "outputs": [
    {
     "name": "stdout",
     "output_type": "stream",
     "text": [
      "Inside func_c\n",
      "Inside fun_a\n",
      "None\n"
     ]
    }
   ],
   "source": [
    "def func_a():\n",
    "    print(\"Inside fun_a\")\n",
    "    \n",
    "def func_c(z):\n",
    "    print(\"Inside func_c\")\n",
    "    return z()\n",
    "\n",
    "\n",
    "print(func_c(func_a))"
   ]
  },
  {
   "cell_type": "code",
   "execution_count": 17,
   "id": "3cd48dc8",
   "metadata": {},
   "outputs": [
    {
     "name": "stdout",
     "output_type": "stream",
     "text": [
      "7\n"
     ]
    }
   ],
   "source": [
    "def f():\n",
    "    def x(a,b):\n",
    "        return a+b\n",
    "    return x\n",
    "\n",
    "val=f()(3,4)\n",
    "print(val)"
   ]
  },
  {
   "cell_type": "markdown",
   "id": "63c1c9bd",
   "metadata": {},
   "source": [
    "# Recursion"
   ]
  },
  {
   "cell_type": "markdown",
   "id": "4ca59db6",
   "metadata": {},
   "source": [
    "#### Iterartive vs Recursive"
   ]
  },
  {
   "cell_type": "code",
   "execution_count": 21,
   "id": "bcdff4ef",
   "metadata": {},
   "outputs": [
    {
     "name": "stdout",
     "output_type": "stream",
     "text": [
      "6\n"
     ]
    }
   ],
   "source": [
    "# iterative approach\n",
    "def multiply(a,b):\n",
    "    \n",
    "    result = 0\n",
    "    \n",
    "    for i in range(b):\n",
    "        result = result + a\n",
    "        \n",
    "    print(result)\n",
    "        \n",
    "\n",
    "multiply(2,3)"
   ]
  },
  {
   "cell_type": "code",
   "execution_count": 22,
   "id": "c2747bbb",
   "metadata": {},
   "outputs": [
    {
     "name": "stdout",
     "output_type": "stream",
     "text": [
      "6\n"
     ]
    }
   ],
   "source": [
    "# Recursive approach\n",
    "def multiply(a,b):\n",
    "    if b ==1:\n",
    "        return a\n",
    "    else:\n",
    "        return a + multiply(a,b-1)\n",
    "        \n",
    "\n",
    "print(multiply(2,3))"
   ]
  },
  {
   "cell_type": "markdown",
   "id": "d77443bd",
   "metadata": {},
   "source": [
    "#### Write a program to find factorial using recursion"
   ]
  },
  {
   "cell_type": "code",
   "execution_count": 23,
   "id": "17b6514d",
   "metadata": {},
   "outputs": [
    {
     "name": "stdout",
     "output_type": "stream",
     "text": [
      "120\n"
     ]
    }
   ],
   "source": [
    "def factorial(number):\n",
    "    \n",
    "    if number == 1:\n",
    "        return number\n",
    "    else:\n",
    "        return number * factorial(number-1)\n",
    "    \n",
    "\n",
    "print(factorial(5))"
   ]
  },
  {
   "cell_type": "markdown",
   "id": "31bebd6a",
   "metadata": {},
   "source": [
    "#### Write a program to check whether a given string is palindrome or not using recursion"
   ]
  },
  {
   "cell_type": "code",
   "execution_count": 31,
   "id": "81c017cb",
   "metadata": {},
   "outputs": [
    {
     "name": "stdout",
     "output_type": "stream",
     "text": [
      "palindrome\n",
      "palindrome\n",
      "palindrome\n"
     ]
    }
   ],
   "source": [
    "def palindrome(text):\n",
    "    if len(text) <= 1:\n",
    "        print(\"palindrome\")\n",
    "    else:\n",
    "        if text[0] == text[-1]:\n",
    "            palindrome(text[1:-1])\n",
    "        else:\n",
    "            print(\"Not a palindrome\")\n",
    "        \n",
    "        \n",
    "palindrome(\"madam\")\n",
    "palindrome(\"mom\")\n",
    "palindrome(\"abba\")"
   ]
  },
  {
   "cell_type": "markdown",
   "id": "3f286803",
   "metadata": {},
   "source": [
    "#### Write a program to find sum of fibonacci series using recursion"
   ]
  },
  {
   "cell_type": "code",
   "execution_count": 32,
   "id": "5a0e2859",
   "metadata": {},
   "outputs": [],
   "source": [
    "import time"
   ]
  },
  {
   "cell_type": "code",
   "execution_count": 36,
   "id": "ed1d23bf",
   "metadata": {},
   "outputs": [
    {
     "name": "stdout",
     "output_type": "stream",
     "text": [
      "24157817\n",
      "7.511953592300415\n"
     ]
    }
   ],
   "source": [
    "def fib(n):\n",
    "    if n==0 or n==1:\n",
    "        return 1\n",
    "    else:\n",
    "        return fib(n-1) + fib(n-2)\n",
    "    \n",
    "start = time.time()\n",
    "print(fib(36))\n",
    "print(time.time()-start)"
   ]
  },
  {
   "cell_type": "markdown",
   "id": "e79a1bca",
   "metadata": {},
   "source": [
    "#### Memoization (Reducing time complexity by increasing space complexity)"
   ]
  },
  {
   "cell_type": "code",
   "execution_count": 40,
   "id": "e8da800f",
   "metadata": {},
   "outputs": [],
   "source": [
    "import time"
   ]
  },
  {
   "cell_type": "code",
   "execution_count": 41,
   "id": "3563b030",
   "metadata": {},
   "outputs": [
    {
     "name": "stdout",
     "output_type": "stream",
     "text": [
      "14930352\n",
      "0.000997304916381836\n"
     ]
    }
   ],
   "source": [
    "def fib(n,d):\n",
    "    \n",
    "    if n in d:\n",
    "        return d[n]\n",
    "    else:\n",
    "        d[n] = fib(n-1,d) + fib(n-2,d)\n",
    "        return d[n]\n",
    "    \n",
    "start = time.time()\n",
    "d = {0:0,1:1}\n",
    "print(fib(36,d))\n",
    "print(time.time()-start)"
   ]
  },
  {
   "cell_type": "code",
   "execution_count": 43,
   "id": "4c06c4b3",
   "metadata": {},
   "outputs": [
    {
     "name": "stdout",
     "output_type": "stream",
     "text": [
      "[]\n",
      "[1]\n",
      "[2]\n",
      "[1, 2]\n",
      "[3]\n",
      "[1, 3]\n",
      "[2, 3]\n",
      "[1, 2, 3]\n"
     ]
    }
   ],
   "source": [
    "def find_power_set(input_set):\n",
    "    if len(input_set) == 0:\n",
    "        return [[]]  # The power set of an empty set is just the empty set itself\n",
    "    \n",
    "    first_element = input_set[0]\n",
    "    rest_of_elements = input_set[1:]\n",
    "    \n",
    "    # Recursively find the power set of the rest of the elements\n",
    "    subsets_without_first = find_power_set(rest_of_elements)\n",
    "    \n",
    "    # Add the subsets without the first element and with the first element\n",
    "    subsets_with_first = []\n",
    "    for subset in subsets_without_first:\n",
    "        subsets_with_first.append(subset)  # Subset without the first element\n",
    "        subsets_with_first.append([first_element] + subset)  # Subset with the first element\n",
    "    \n",
    "    return subsets_with_first\n",
    "\n",
    "# Test the function\n",
    "my_set = [1, 2, 3]\n",
    "power_set = find_power_set(my_set)\n",
    "\n",
    "# Print the power set\n",
    "for subset in power_set:\n",
    "    print(subset)\n"
   ]
  },
  {
   "cell_type": "markdown",
   "id": "abc9d11a",
   "metadata": {},
   "source": [
    "# Lambda functions / Anonymous functions\n",
    "Syntax => lambda input: expression\n",
    "### Difference between lambda function and normal function\n",
    "- Lambda has no return value , it returns function.\n",
    "- Not more than one line\n",
    "- Not used for code reusability\n",
    "- No name\n",
    "- it is used with higher order function"
   ]
  },
  {
   "cell_type": "code",
   "execution_count": 44,
   "id": "87b176e0",
   "metadata": {},
   "outputs": [],
   "source": [
    "# lambda function to find square of the given number\n",
    "x = lambda x: x**2"
   ]
  },
  {
   "cell_type": "code",
   "execution_count": 45,
   "id": "52f13e83",
   "metadata": {},
   "outputs": [
    {
     "data": {
      "text/plain": [
       "16"
      ]
     },
     "execution_count": 45,
     "metadata": {},
     "output_type": "execute_result"
    }
   ],
   "source": [
    "x(4)"
   ]
  },
  {
   "cell_type": "code",
   "execution_count": 46,
   "id": "3efbeaf9",
   "metadata": {},
   "outputs": [],
   "source": [
    "# lambda function to find sum of the given two numbers\n",
    "y = lambda x,y: x + y"
   ]
  },
  {
   "cell_type": "code",
   "execution_count": 47,
   "id": "7bea0a85",
   "metadata": {},
   "outputs": [
    {
     "data": {
      "text/plain": [
       "5"
      ]
     },
     "execution_count": 47,
     "metadata": {},
     "output_type": "execute_result"
    }
   ],
   "source": [
    "y(2,3)"
   ]
  },
  {
   "cell_type": "code",
   "execution_count": 48,
   "id": "01413276",
   "metadata": {},
   "outputs": [],
   "source": [
    "# to check whether a string starts with \"a\"\n",
    "b=lambda x: x[0]==\"a\""
   ]
  },
  {
   "cell_type": "code",
   "execution_count": 49,
   "id": "14db842a",
   "metadata": {},
   "outputs": [
    {
     "data": {
      "text/plain": [
       "True"
      ]
     },
     "execution_count": 49,
     "metadata": {},
     "output_type": "execute_result"
    }
   ],
   "source": [
    "b(\"ali\")"
   ]
  },
  {
   "cell_type": "code",
   "execution_count": 50,
   "id": "d51deb8c",
   "metadata": {},
   "outputs": [
    {
     "data": {
      "text/plain": [
       "False"
      ]
     },
     "execution_count": 50,
     "metadata": {},
     "output_type": "execute_result"
    }
   ],
   "source": [
    "b(\"bilal\")"
   ]
  },
  {
   "cell_type": "code",
   "execution_count": 51,
   "id": "f2ef65db",
   "metadata": {},
   "outputs": [],
   "source": [
    "# to check whether a given number is even or odd\n",
    "b = lambda x: \"even\" if x%2==0 else \"odd\""
   ]
  },
  {
   "cell_type": "code",
   "execution_count": 52,
   "id": "955051f7",
   "metadata": {},
   "outputs": [
    {
     "data": {
      "text/plain": [
       "'even'"
      ]
     },
     "execution_count": 52,
     "metadata": {},
     "output_type": "execute_result"
    }
   ],
   "source": [
    "b(4)"
   ]
  },
  {
   "cell_type": "code",
   "execution_count": 53,
   "id": "9f9e5e7f",
   "metadata": {},
   "outputs": [
    {
     "data": {
      "text/plain": [
       "'odd'"
      ]
     },
     "execution_count": 53,
     "metadata": {},
     "output_type": "execute_result"
    }
   ],
   "source": [
    "b(7)"
   ]
  },
  {
   "cell_type": "code",
   "execution_count": 54,
   "id": "4d76231f",
   "metadata": {},
   "outputs": [
    {
     "name": "stdout",
     "output_type": "stream",
     "text": [
      "176\n",
      "129\n",
      "144\n"
     ]
    }
   ],
   "source": [
    "# Lambda function in Higher order function (Functions which take or return functions)\n",
    "def return_sum(func,L):\n",
    "    \n",
    "    result = 0\n",
    "    \n",
    "    for i in L:\n",
    "        \n",
    "        if func(i):\n",
    "            result = result + i\n",
    "            \n",
    "    return result\n",
    "\n",
    "L=[11,14,21,23,56,78,45,29,28]\n",
    "\n",
    "x=lambda x: x%2==0\n",
    "y=lambda x: x%2!=0\n",
    "z=lambda x: x%3==0\n",
    "\n",
    "print(return_sum(x,L))\n",
    "print(return_sum(y,L))\n",
    "print(return_sum(z,L))"
   ]
  },
  {
   "cell_type": "markdown",
   "id": "e351a585",
   "metadata": {},
   "source": [
    "# Map\n",
    "It is used when we want to apply some logic on each itmen in iterable."
   ]
  },
  {
   "cell_type": "code",
   "execution_count": 55,
   "id": "f9553692",
   "metadata": {},
   "outputs": [],
   "source": [
    "L=[1,2,3,4,5]"
   ]
  },
  {
   "cell_type": "code",
   "execution_count": 56,
   "id": "1337a10b",
   "metadata": {},
   "outputs": [
    {
     "data": {
      "text/plain": [
       "[1, 2, 3, 4, 5]"
      ]
     },
     "execution_count": 56,
     "metadata": {},
     "output_type": "execute_result"
    }
   ],
   "source": [
    "L"
   ]
  },
  {
   "cell_type": "code",
   "execution_count": 57,
   "id": "628b4d2f",
   "metadata": {},
   "outputs": [
    {
     "data": {
      "text/plain": [
       "<map at 0x1ad3775da90>"
      ]
     },
     "execution_count": 57,
     "metadata": {},
     "output_type": "execute_result"
    }
   ],
   "source": [
    "map(lambda x: x*2, L)"
   ]
  },
  {
   "cell_type": "code",
   "execution_count": 58,
   "id": "0aef5c4e",
   "metadata": {},
   "outputs": [
    {
     "data": {
      "text/plain": [
       "[2, 4, 6, 8, 10]"
      ]
     },
     "execution_count": 58,
     "metadata": {},
     "output_type": "execute_result"
    }
   ],
   "source": [
    "list(map(lambda x: x*2, L))"
   ]
  },
  {
   "cell_type": "code",
   "execution_count": 59,
   "id": "472e3f9c",
   "metadata": {},
   "outputs": [
    {
     "data": {
      "text/plain": [
       "[False, True, False, True, False]"
      ]
     },
     "execution_count": 59,
     "metadata": {},
     "output_type": "execute_result"
    }
   ],
   "source": [
    "list(map(lambda x: x%2 == 0, L))"
   ]
  },
  {
   "cell_type": "code",
   "execution_count": 60,
   "id": "c93cec17",
   "metadata": {},
   "outputs": [],
   "source": [
    "students = [\n",
    "    {\n",
    "        \"name\" : \"Jon\",\n",
    "        \"father name\" : \"Jon's father\",\n",
    "        \"Address\" : \"123 street\"\n",
    "    },{\n",
    "        \"name\" : \"Ron\",\n",
    "        \"father name\" : \"Ron's father\",\n",
    "        \"Address\" : \"456 street\"\n",
    "    },{\n",
    "        \"name\" : \"Don\",\n",
    "        \"father name\" : \"Don's father\",\n",
    "        \"Address\" : \"789 street\"\n",
    "    }\n",
    "]"
   ]
  },
  {
   "cell_type": "code",
   "execution_count": 62,
   "id": "d79fff68",
   "metadata": {},
   "outputs": [
    {
     "data": {
      "text/plain": [
       "['Jon', 'Ron', 'Don']"
      ]
     },
     "execution_count": 62,
     "metadata": {},
     "output_type": "execute_result"
    }
   ],
   "source": [
    "list(map(lambda x: x[\"name\"], students))"
   ]
  },
  {
   "cell_type": "markdown",
   "id": "89d8f7dc",
   "metadata": {},
   "source": [
    "# Filter\n",
    "It filters the result based on given condition"
   ]
  },
  {
   "cell_type": "code",
   "execution_count": 65,
   "id": "31893a1d",
   "metadata": {},
   "outputs": [
    {
     "data": {
      "text/plain": [
       "[1, 2, 3, 4, 5, 6, 7, 8, 9]"
      ]
     },
     "execution_count": 65,
     "metadata": {},
     "output_type": "execute_result"
    }
   ],
   "source": [
    "L=[1,2,3,4,5,6,7,8,9]\n",
    "L"
   ]
  },
  {
   "cell_type": "code",
   "execution_count": 66,
   "id": "24b5d5d2",
   "metadata": {},
   "outputs": [
    {
     "data": {
      "text/plain": [
       "[5, 6, 7, 8, 9]"
      ]
     },
     "execution_count": 66,
     "metadata": {},
     "output_type": "execute_result"
    }
   ],
   "source": [
    "list(filter(lambda x: x>4, L))"
   ]
  },
  {
   "cell_type": "code",
   "execution_count": 67,
   "id": "65a3b081",
   "metadata": {},
   "outputs": [
    {
     "data": {
      "text/plain": [
       "['Apple', 'Mango', 'Orange', 'Banana']"
      ]
     },
     "execution_count": 67,
     "metadata": {},
     "output_type": "execute_result"
    }
   ],
   "source": [
    "fruits = [\"Apple\",\"Mango\",\"Orange\",\"Banana\"]\n",
    "fruits"
   ]
  },
  {
   "cell_type": "code",
   "execution_count": 68,
   "id": "e1a53627",
   "metadata": {},
   "outputs": [
    {
     "data": {
      "text/plain": [
       "['Apple', 'Orange']"
      ]
     },
     "execution_count": 68,
     "metadata": {},
     "output_type": "execute_result"
    }
   ],
   "source": [
    "list(filter(lambda x: \"e\" in x, fruits))"
   ]
  },
  {
   "cell_type": "markdown",
   "id": "1dd5ef59",
   "metadata": {},
   "source": [
    "# Reduce\n",
    "It is used to reduce the list"
   ]
  },
  {
   "cell_type": "code",
   "execution_count": 69,
   "id": "b53c6f2f",
   "metadata": {},
   "outputs": [],
   "source": [
    "import functools"
   ]
  },
  {
   "cell_type": "code",
   "execution_count": 70,
   "id": "cb6287a0",
   "metadata": {},
   "outputs": [
    {
     "data": {
      "text/plain": [
       "[1, 2, 3, 4, 5, 6, 7, 8, 9]"
      ]
     },
     "execution_count": 70,
     "metadata": {},
     "output_type": "execute_result"
    }
   ],
   "source": [
    "L"
   ]
  },
  {
   "cell_type": "code",
   "execution_count": 71,
   "id": "10eb9a95",
   "metadata": {},
   "outputs": [
    {
     "data": {
      "text/plain": [
       "45"
      ]
     },
     "execution_count": 71,
     "metadata": {},
     "output_type": "execute_result"
    }
   ],
   "source": [
    "functools.reduce(lambda x,y: x+y, L)"
   ]
  },
  {
   "cell_type": "code",
   "execution_count": 75,
   "id": "46afb072",
   "metadata": {},
   "outputs": [],
   "source": [
    "L1 = [12,34,56,78,21,11]"
   ]
  },
  {
   "cell_type": "code",
   "execution_count": 76,
   "id": "f36d4484",
   "metadata": {},
   "outputs": [
    {
     "data": {
      "text/plain": [
       "[12, 34, 56, 78, 21, 11]"
      ]
     },
     "execution_count": 76,
     "metadata": {},
     "output_type": "execute_result"
    }
   ],
   "source": [
    "L1"
   ]
  },
  {
   "cell_type": "code",
   "execution_count": 77,
   "id": "61607316",
   "metadata": {},
   "outputs": [
    {
     "data": {
      "text/plain": [
       "78"
      ]
     },
     "execution_count": 77,
     "metadata": {},
     "output_type": "execute_result"
    }
   ],
   "source": [
    "functools.reduce(lambda x,y : x if x>y else y, L1)"
   ]
  },
  {
   "cell_type": "markdown",
   "id": "dac9ff8f",
   "metadata": {},
   "source": [
    "# List comprehension\n",
    "It is used to create a list using another list"
   ]
  },
  {
   "cell_type": "code",
   "execution_count": 63,
   "id": "3874a82d",
   "metadata": {},
   "outputs": [
    {
     "name": "stdout",
     "output_type": "stream",
     "text": [
      "[1, 4, 9, 16, 25, 36, 49, 64, 81, 100]\n"
     ]
    }
   ],
   "source": [
    "# creating a list of square of 1-10 using list comprehension\n",
    "A = [i**2 for i in range(1,11)]\n",
    "print(A)"
   ]
  },
  {
   "cell_type": "code",
   "execution_count": 79,
   "id": "9303946d",
   "metadata": {},
   "outputs": [
    {
     "data": {
      "text/plain": [
       "[1, 2, 3, 4, 5, 6, 7, 8, 9]"
      ]
     },
     "execution_count": 79,
     "metadata": {},
     "output_type": "execute_result"
    }
   ],
   "source": [
    "L"
   ]
  },
  {
   "cell_type": "code",
   "execution_count": 80,
   "id": "6fa5eb6d",
   "metadata": {},
   "outputs": [
    {
     "name": "stdout",
     "output_type": "stream",
     "text": [
      "[2, 4, 6, 8, 10, 12, 14, 16, 18]\n"
     ]
    }
   ],
   "source": [
    "L1 = [item * 2 for item in L]\n",
    "print(L1)"
   ]
  },
  {
   "cell_type": "code",
   "execution_count": 81,
   "id": "859c022e",
   "metadata": {},
   "outputs": [
    {
     "name": "stdout",
     "output_type": "stream",
     "text": [
      "[0, 1, 4, 9, 16, 25, 36, 49, 64, 81]\n"
     ]
    }
   ],
   "source": [
    "L2 = [i**2 for i in range(10)]\n",
    "print(L2)"
   ]
  },
  {
   "cell_type": "code",
   "execution_count": 83,
   "id": "550d0b59",
   "metadata": {},
   "outputs": [
    {
     "name": "stdout",
     "output_type": "stream",
     "text": [
      "[1, 9, 25, 49, 81]\n"
     ]
    }
   ],
   "source": [
    "L3 = [i**2 for i in range(10) if i%2!=0]\n",
    "print(L3)"
   ]
  },
  {
   "cell_type": "code",
   "execution_count": 84,
   "id": "0c823a31",
   "metadata": {},
   "outputs": [
    {
     "data": {
      "text/plain": [
       "['Apple', 'Mango', 'Orange', 'Banana']"
      ]
     },
     "execution_count": 84,
     "metadata": {},
     "output_type": "execute_result"
    }
   ],
   "source": [
    "fruits"
   ]
  },
  {
   "cell_type": "code",
   "execution_count": 90,
   "id": "1b04d899",
   "metadata": {},
   "outputs": [
    {
     "name": "stdout",
     "output_type": "stream",
     "text": [
      "['Orange']\n"
     ]
    }
   ],
   "source": [
    "L4 = [i for i in fruits if i[0]==\"O\"]\n",
    "print(L4)"
   ]
  },
  {
   "cell_type": "code",
   "execution_count": 87,
   "id": "ee94df56",
   "metadata": {},
   "outputs": [
    {
     "data": {
      "text/plain": [
       "[1, 2, 3, 4, 5, 6, 7, 8, 9]"
      ]
     },
     "execution_count": 87,
     "metadata": {},
     "output_type": "execute_result"
    }
   ],
   "source": [
    "L"
   ]
  },
  {
   "cell_type": "markdown",
   "id": "0d90afbe",
   "metadata": {},
   "source": [
    "# Dictionary Comprehension"
   ]
  },
  {
   "cell_type": "code",
   "execution_count": 88,
   "id": "8537393e",
   "metadata": {},
   "outputs": [
    {
     "data": {
      "text/plain": [
       "{1: 1, 2: 4, 3: 9, 4: 16, 5: 25, 6: 36, 7: 49, 8: 64, 9: 81}"
      ]
     },
     "execution_count": 88,
     "metadata": {},
     "output_type": "execute_result"
    }
   ],
   "source": [
    "D2 = {item:item**2 for item in L}\n",
    "D2"
   ]
  },
  {
   "cell_type": "code",
   "execution_count": 89,
   "id": "f8a9b714",
   "metadata": {},
   "outputs": [
    {
     "data": {
      "text/plain": [
       "{2: 4, 4: 16, 6: 36, 8: 64}"
      ]
     },
     "execution_count": 89,
     "metadata": {},
     "output_type": "execute_result"
    }
   ],
   "source": [
    "D2 = {item:item**2 for item in L if item%2==0}\n",
    "D2"
   ]
  },
  {
   "cell_type": "code",
   "execution_count": 91,
   "id": "79a8fb43",
   "metadata": {},
   "outputs": [],
   "source": [
    "D = {\"name\":\"Bilal\",\"Gender\":\"Male\",\"Age\":\"22\"}"
   ]
  },
  {
   "cell_type": "code",
   "execution_count": 92,
   "id": "5ed119d1",
   "metadata": {},
   "outputs": [
    {
     "data": {
      "text/plain": [
       "dict_items([('name', 'Bilal'), ('Gender', 'Male'), ('Age', '22')])"
      ]
     },
     "execution_count": 92,
     "metadata": {},
     "output_type": "execute_result"
    }
   ],
   "source": [
    "D.items()"
   ]
  },
  {
   "cell_type": "code",
   "execution_count": 95,
   "id": "4555457e",
   "metadata": {},
   "outputs": [
    {
     "data": {
      "text/plain": [
       "{'name': 'Bilal', 'Gender': 'Male'}"
      ]
     },
     "execution_count": 95,
     "metadata": {},
     "output_type": "execute_result"
    }
   ],
   "source": [
    "# we want to create a new dict which have len(keys) > 3\n",
    "D1 = {key:value for key,value in D.items() if len(key)>3}\n",
    "D1"
   ]
  },
  {
   "cell_type": "markdown",
   "id": "97e04779",
   "metadata": {},
   "source": [
    "# Iteration\n",
    "Iteration is a general term for taking each item of something ,one after another. Anytime you use a loop, explicit or implicit, to go over a group of items"
   ]
  },
  {
   "cell_type": "code",
   "execution_count": 96,
   "id": "513e8205",
   "metadata": {},
   "outputs": [
    {
     "name": "stdout",
     "output_type": "stream",
     "text": [
      "1\n",
      "2\n",
      "3\n"
     ]
    }
   ],
   "source": [
    "# example\n",
    "num = [1,2,3]\n",
    "for i in num:\n",
    "    print(i)"
   ]
  },
  {
   "cell_type": "markdown",
   "id": "9befdfbb",
   "metadata": {},
   "source": [
    "# Iterator\n",
    "Iterator is an object that allows the programmer to traverse through a sequence of data without having to store the entire data in the memory."
   ]
  },
  {
   "cell_type": "code",
   "execution_count": 5,
   "id": "4990e413",
   "metadata": {},
   "outputs": [
    {
     "name": "stdout",
     "output_type": "stream",
     "text": [
      "782.2109375\n",
      "0.046875\n"
     ]
    }
   ],
   "source": [
    "# example\n",
    "\n",
    "# making a list of 1-100000\n",
    "L = [x for x in range(1,100000)]\n",
    "\n",
    "# for i in L:\n",
    "#     print(i*2)\n",
    "\n",
    "import sys\n",
    "\n",
    "# getting the size of list \"L\" in MB\n",
    "print(sys.getsizeof(L)/1024)\n",
    "\n",
    "\n",
    "x = range(1,100000)\n",
    "# for i in x:\n",
    "#     print(i*2)\n",
    "\n",
    "print(sys.getsizeof(x)/1024)"
   ]
  },
  {
   "cell_type": "code",
   "execution_count": 6,
   "id": "b2b7a2ae",
   "metadata": {},
   "outputs": [],
   "source": [
    "# pehle case me main ne ek sath 1-100000 k numbers ko memory me store kr lia or phr\n",
    "# ek ek kr k un ko utha k 2 se multiply kr k user ko dikha diya to memory me 782 MB liye\n",
    "# lkn jb hum ne range function use kiya tou us ne ek iterator bna diya or iterator jb pehli\n",
    "# bar chla to 1 ko memory me le k aya or 2 se multiply kiya or result dikha dia phr 1 ko\n",
    "# memory se hata dia phr dusri bar chla to 2 ko memory me le k aya multiply kiya result\n",
    "# dikhaya phr 2 ko memory se hata dia is trh is ne memory me srf 0.04 MB liye."
   ]
  },
  {
   "cell_type": "markdown",
   "id": "1ba0e4e9",
   "metadata": {},
   "source": [
    "# Iterable\n",
    "- Iterable is an object, which one can iterate over.\n",
    "- It generates an iterator when passed to iter() method."
   ]
  },
  {
   "cell_type": "code",
   "execution_count": 8,
   "id": "249c0019",
   "metadata": {},
   "outputs": [
    {
     "data": {
      "text/plain": [
       "<list_iterator at 0x24e3e082880>"
      ]
     },
     "execution_count": 8,
     "metadata": {},
     "output_type": "execute_result"
    }
   ],
   "source": [
    "# example\n",
    "\n",
    "L = [1,2,3]\n",
    "type(L)\n",
    "\n",
    "# L is an iterable\n",
    "iter(L)\n",
    "\n",
    "# iter(L) => iterator"
   ]
  },
  {
   "cell_type": "markdown",
   "id": "8f462b61",
   "metadata": {},
   "source": [
    "### Point to remember\n",
    "- All iterators are also an iterable\n",
    "- All iterables are not iterators"
   ]
  },
  {
   "cell_type": "markdown",
   "id": "855a7923",
   "metadata": {},
   "source": [
    "### Trick\n",
    "- Every iterable has an iter function\n",
    "- Every iterator has both <b>iter</b> function as well as a <b>next</b> function"
   ]
  },
  {
   "cell_type": "code",
   "execution_count": 14,
   "id": "91e83e26",
   "metadata": {},
   "outputs": [],
   "source": [
    "# koi object iterable hy ya ni ye pata krna"
   ]
  },
  {
   "cell_type": "code",
   "execution_count": 15,
   "id": "99775ab2",
   "metadata": {},
   "outputs": [
    {
     "ename": "TypeError",
     "evalue": "'int' object is not iterable",
     "output_type": "error",
     "traceback": [
      "\u001b[1;31m---------------------------------------------------------------------------\u001b[0m",
      "\u001b[1;31mTypeError\u001b[0m                                 Traceback (most recent call last)",
      "\u001b[1;32m~\\AppData\\Local\\Temp\\ipykernel_15032\\637160227.py\u001b[0m in \u001b[0;36m<module>\u001b[1;34m\u001b[0m\n\u001b[0;32m      4\u001b[0m \u001b[0ma\u001b[0m \u001b[1;33m=\u001b[0m \u001b[1;36m2\u001b[0m\u001b[1;33m\u001b[0m\u001b[1;33m\u001b[0m\u001b[0m\n\u001b[0;32m      5\u001b[0m \u001b[1;33m\u001b[0m\u001b[0m\n\u001b[1;32m----> 6\u001b[1;33m \u001b[1;32mfor\u001b[0m \u001b[0mi\u001b[0m \u001b[1;32min\u001b[0m \u001b[0ma\u001b[0m\u001b[1;33m:\u001b[0m\u001b[1;33m\u001b[0m\u001b[1;33m\u001b[0m\u001b[0m\n\u001b[0m\u001b[0;32m      7\u001b[0m     \u001b[0mprint\u001b[0m\u001b[1;33m(\u001b[0m\u001b[0mi\u001b[0m\u001b[1;33m)\u001b[0m\u001b[1;33m\u001b[0m\u001b[1;33m\u001b[0m\u001b[0m\n",
      "\u001b[1;31mTypeError\u001b[0m: 'int' object is not iterable"
     ]
    }
   ],
   "source": [
    "# agr ap is k uper loop chla skte ho to wo iterable hy or agr ap loop nhi chla skte\n",
    "# to wo iterable nhi hy\n",
    "\n",
    "a = 2\n",
    "\n",
    "for i in a:\n",
    "    print(i)"
   ]
  },
  {
   "cell_type": "code",
   "execution_count": 16,
   "id": "70191bed",
   "metadata": {},
   "outputs": [
    {
     "data": {
      "text/plain": [
       "['__abs__',\n",
       " '__add__',\n",
       " '__and__',\n",
       " '__bool__',\n",
       " '__ceil__',\n",
       " '__class__',\n",
       " '__delattr__',\n",
       " '__dir__',\n",
       " '__divmod__',\n",
       " '__doc__',\n",
       " '__eq__',\n",
       " '__float__',\n",
       " '__floor__',\n",
       " '__floordiv__',\n",
       " '__format__',\n",
       " '__ge__',\n",
       " '__getattribute__',\n",
       " '__getnewargs__',\n",
       " '__gt__',\n",
       " '__hash__',\n",
       " '__index__',\n",
       " '__init__',\n",
       " '__init_subclass__',\n",
       " '__int__',\n",
       " '__invert__',\n",
       " '__le__',\n",
       " '__lshift__',\n",
       " '__lt__',\n",
       " '__mod__',\n",
       " '__mul__',\n",
       " '__ne__',\n",
       " '__neg__',\n",
       " '__new__',\n",
       " '__or__',\n",
       " '__pos__',\n",
       " '__pow__',\n",
       " '__radd__',\n",
       " '__rand__',\n",
       " '__rdivmod__',\n",
       " '__reduce__',\n",
       " '__reduce_ex__',\n",
       " '__repr__',\n",
       " '__rfloordiv__',\n",
       " '__rlshift__',\n",
       " '__rmod__',\n",
       " '__rmul__',\n",
       " '__ror__',\n",
       " '__round__',\n",
       " '__rpow__',\n",
       " '__rrshift__',\n",
       " '__rshift__',\n",
       " '__rsub__',\n",
       " '__rtruediv__',\n",
       " '__rxor__',\n",
       " '__setattr__',\n",
       " '__sizeof__',\n",
       " '__str__',\n",
       " '__sub__',\n",
       " '__subclasshook__',\n",
       " '__truediv__',\n",
       " '__trunc__',\n",
       " '__xor__',\n",
       " 'as_integer_ratio',\n",
       " 'bit_length',\n",
       " 'conjugate',\n",
       " 'denominator',\n",
       " 'from_bytes',\n",
       " 'imag',\n",
       " 'numerator',\n",
       " 'real',\n",
       " 'to_bytes']"
      ]
     },
     "execution_count": 16,
     "metadata": {},
     "output_type": "execute_result"
    }
   ],
   "source": [
    "# ek or tarika hy ye check krne ka k ye item iterable hy ya nhi\n",
    "\n",
    "a = 2\n",
    "\n",
    "# agr is k andr iter function hy tou ye iterable hy wrna nhi h\n",
    "dir(a)"
   ]
  },
  {
   "cell_type": "code",
   "execution_count": 17,
   "id": "f45a7273",
   "metadata": {},
   "outputs": [
    {
     "data": {
      "text/plain": [
       "['__add__',\n",
       " '__class__',\n",
       " '__class_getitem__',\n",
       " '__contains__',\n",
       " '__delattr__',\n",
       " '__dir__',\n",
       " '__doc__',\n",
       " '__eq__',\n",
       " '__format__',\n",
       " '__ge__',\n",
       " '__getattribute__',\n",
       " '__getitem__',\n",
       " '__getnewargs__',\n",
       " '__gt__',\n",
       " '__hash__',\n",
       " '__init__',\n",
       " '__init_subclass__',\n",
       " '__iter__',\n",
       " '__le__',\n",
       " '__len__',\n",
       " '__lt__',\n",
       " '__mul__',\n",
       " '__ne__',\n",
       " '__new__',\n",
       " '__reduce__',\n",
       " '__reduce_ex__',\n",
       " '__repr__',\n",
       " '__rmul__',\n",
       " '__setattr__',\n",
       " '__sizeof__',\n",
       " '__str__',\n",
       " '__subclasshook__',\n",
       " 'count',\n",
       " 'index']"
      ]
     },
     "execution_count": 17,
     "metadata": {},
     "output_type": "execute_result"
    }
   ],
   "source": [
    "T = (1,2,3)\n",
    "\n",
    "dir(T)"
   ]
  },
  {
   "cell_type": "code",
   "execution_count": 18,
   "id": "92775b79",
   "metadata": {},
   "outputs": [
    {
     "data": {
      "text/plain": [
       "['__and__',\n",
       " '__class__',\n",
       " '__class_getitem__',\n",
       " '__contains__',\n",
       " '__delattr__',\n",
       " '__dir__',\n",
       " '__doc__',\n",
       " '__eq__',\n",
       " '__format__',\n",
       " '__ge__',\n",
       " '__getattribute__',\n",
       " '__gt__',\n",
       " '__hash__',\n",
       " '__iand__',\n",
       " '__init__',\n",
       " '__init_subclass__',\n",
       " '__ior__',\n",
       " '__isub__',\n",
       " '__iter__',\n",
       " '__ixor__',\n",
       " '__le__',\n",
       " '__len__',\n",
       " '__lt__',\n",
       " '__ne__',\n",
       " '__new__',\n",
       " '__or__',\n",
       " '__rand__',\n",
       " '__reduce__',\n",
       " '__reduce_ex__',\n",
       " '__repr__',\n",
       " '__ror__',\n",
       " '__rsub__',\n",
       " '__rxor__',\n",
       " '__setattr__',\n",
       " '__sizeof__',\n",
       " '__str__',\n",
       " '__sub__',\n",
       " '__subclasshook__',\n",
       " '__xor__',\n",
       " 'add',\n",
       " 'clear',\n",
       " 'copy',\n",
       " 'difference',\n",
       " 'difference_update',\n",
       " 'discard',\n",
       " 'intersection',\n",
       " 'intersection_update',\n",
       " 'isdisjoint',\n",
       " 'issubset',\n",
       " 'issuperset',\n",
       " 'pop',\n",
       " 'remove',\n",
       " 'symmetric_difference',\n",
       " 'symmetric_difference_update',\n",
       " 'union',\n",
       " 'update']"
      ]
     },
     "execution_count": 18,
     "metadata": {},
     "output_type": "execute_result"
    }
   ],
   "source": [
    "s = {1,2,3}\n",
    "dir(s)"
   ]
  },
  {
   "cell_type": "code",
   "execution_count": 19,
   "id": "5ccfc778",
   "metadata": {},
   "outputs": [
    {
     "data": {
      "text/plain": [
       "['__class__',\n",
       " '__class_getitem__',\n",
       " '__contains__',\n",
       " '__delattr__',\n",
       " '__delitem__',\n",
       " '__dir__',\n",
       " '__doc__',\n",
       " '__eq__',\n",
       " '__format__',\n",
       " '__ge__',\n",
       " '__getattribute__',\n",
       " '__getitem__',\n",
       " '__gt__',\n",
       " '__hash__',\n",
       " '__init__',\n",
       " '__init_subclass__',\n",
       " '__ior__',\n",
       " '__iter__',\n",
       " '__le__',\n",
       " '__len__',\n",
       " '__lt__',\n",
       " '__ne__',\n",
       " '__new__',\n",
       " '__or__',\n",
       " '__reduce__',\n",
       " '__reduce_ex__',\n",
       " '__repr__',\n",
       " '__reversed__',\n",
       " '__ror__',\n",
       " '__setattr__',\n",
       " '__setitem__',\n",
       " '__sizeof__',\n",
       " '__str__',\n",
       " '__subclasshook__',\n",
       " 'clear',\n",
       " 'copy',\n",
       " 'fromkeys',\n",
       " 'get',\n",
       " 'items',\n",
       " 'keys',\n",
       " 'pop',\n",
       " 'popitem',\n",
       " 'setdefault',\n",
       " 'update',\n",
       " 'values']"
      ]
     },
     "execution_count": 19,
     "metadata": {},
     "output_type": "execute_result"
    }
   ],
   "source": [
    "d = {1:2,3:4}\n",
    "dir(d)"
   ]
  },
  {
   "cell_type": "code",
   "execution_count": 20,
   "id": "05dbf29d",
   "metadata": {},
   "outputs": [],
   "source": [
    "# koi object iterator hy ya nhi ye pata krna?"
   ]
  },
  {
   "cell_type": "code",
   "execution_count": 21,
   "id": "04fb8516",
   "metadata": {},
   "outputs": [],
   "source": [
    "# dir chlane k baad us k andr iter and next functions dikh rhe hen tou to wo iterator hai.\n",
    "# agr in me se koi ek bhi nhi hy to wo iterator nhi hoskta."
   ]
  },
  {
   "cell_type": "code",
   "execution_count": 27,
   "id": "1d1588b7",
   "metadata": {},
   "outputs": [
    {
     "name": "stdout",
     "output_type": "stream",
     "text": [
      "['__add__', '__class__', '__class_getitem__', '__contains__', '__delattr__', '__delitem__', '__dir__', '__doc__', '__eq__', '__format__', '__ge__', '__getattribute__', '__getitem__', '__gt__', '__hash__', '__iadd__', '__imul__', '__init__', '__init_subclass__', '__iter__', '__le__', '__len__', '__lt__', '__mul__', '__ne__', '__new__', '__reduce__', '__reduce_ex__', '__repr__', '__reversed__', '__rmul__', '__setattr__', '__setitem__', '__sizeof__', '__str__', '__subclasshook__', 'append', 'clear', 'copy', 'count', 'extend', 'index', 'insert', 'pop', 'remove', 'reverse', 'sort']\n",
      "**************************************************************************************************\n",
      "['__class__', '__delattr__', '__dir__', '__doc__', '__eq__', '__format__', '__ge__', '__getattribute__', '__gt__', '__hash__', '__init__', '__init_subclass__', '__iter__', '__le__', '__length_hint__', '__lt__', '__ne__', '__new__', '__next__', '__reduce__', '__reduce_ex__', '__repr__', '__setattr__', '__setstate__', '__sizeof__', '__str__', '__subclasshook__']\n"
     ]
    }
   ],
   "source": [
    "L = [1,2,3]\n",
    "\n",
    "iter_L = iter(L)\n",
    "\n",
    "# is k andr iter tou hy mtlb ye iterable hy lkn next nhi hy is ka mtlb ye iterator nhi hai.\n",
    "print(dir(L))\n",
    "print(\"*\"*98)\n",
    "# is k andr iter or next dono hen is ka mtlb ye iterator bhi hy or iterable bhi hai.\n",
    "print(dir(iter_L))"
   ]
  },
  {
   "cell_type": "markdown",
   "id": "9217c1b8",
   "metadata": {},
   "source": [
    "# Understanding how for loop works"
   ]
  },
  {
   "cell_type": "code",
   "execution_count": 29,
   "id": "2c901ef0",
   "metadata": {},
   "outputs": [
    {
     "name": "stdout",
     "output_type": "stream",
     "text": [
      "<list_iterator object at 0x0000024E3E0828E0>\n",
      "1\n",
      "2\n",
      "3\n"
     ]
    },
    {
     "ename": "StopIteration",
     "evalue": "",
     "output_type": "error",
     "traceback": [
      "\u001b[1;31m---------------------------------------------------------------------------\u001b[0m",
      "\u001b[1;31mStopIteration\u001b[0m                             Traceback (most recent call last)",
      "\u001b[1;32m~\\AppData\\Local\\Temp\\ipykernel_15032\\3739335337.py\u001b[0m in \u001b[0;36m<module>\u001b[1;34m\u001b[0m\n\u001b[0;32m      8\u001b[0m \u001b[0mprint\u001b[0m\u001b[1;33m(\u001b[0m\u001b[0mnext\u001b[0m\u001b[1;33m(\u001b[0m\u001b[0miter_num\u001b[0m\u001b[1;33m)\u001b[0m\u001b[1;33m)\u001b[0m\u001b[1;33m\u001b[0m\u001b[1;33m\u001b[0m\u001b[0m\n\u001b[0;32m      9\u001b[0m \u001b[0mprint\u001b[0m\u001b[1;33m(\u001b[0m\u001b[0mnext\u001b[0m\u001b[1;33m(\u001b[0m\u001b[0miter_num\u001b[0m\u001b[1;33m)\u001b[0m\u001b[1;33m)\u001b[0m\u001b[1;33m\u001b[0m\u001b[1;33m\u001b[0m\u001b[0m\n\u001b[1;32m---> 10\u001b[1;33m \u001b[0mprint\u001b[0m\u001b[1;33m(\u001b[0m\u001b[0mnext\u001b[0m\u001b[1;33m(\u001b[0m\u001b[0miter_num\u001b[0m\u001b[1;33m)\u001b[0m\u001b[1;33m)\u001b[0m\u001b[1;33m\u001b[0m\u001b[1;33m\u001b[0m\u001b[0m\n\u001b[0m",
      "\u001b[1;31mStopIteration\u001b[0m: "
     ]
    }
   ],
   "source": [
    "num = [1,2,3]\n",
    "\n",
    "#step1 --> fetch the iterator\n",
    "iter_num = iter(num)\n",
    "print(iter_num)\n",
    "#step2 --> next\n",
    "print(next(iter_num))\n",
    "print(next(iter_num))\n",
    "print(next(iter_num))\n",
    "# is ko print krne pr stop iteration error ayega mtlb items khatam\n",
    "print(next(iter_num))"
   ]
  },
  {
   "cell_type": "markdown",
   "id": "1390bae2",
   "metadata": {},
   "source": [
    "# Making our owon for loop"
   ]
  },
  {
   "cell_type": "code",
   "execution_count": 30,
   "id": "a4dd3d71",
   "metadata": {},
   "outputs": [],
   "source": [
    "def mera_for_loop(iterable):\n",
    "    \n",
    "    iterator = iter(iterable)\n",
    "    \n",
    "    while True:\n",
    "        \n",
    "        try:\n",
    "            print(next(iterator))\n",
    "            \n",
    "        except StopIteration:\n",
    "            break"
   ]
  },
  {
   "cell_type": "code",
   "execution_count": 31,
   "id": "849575a9",
   "metadata": {},
   "outputs": [],
   "source": [
    "a = [3,2,1,]\n",
    "b = range(1,11)\n",
    "c = (\"A\",\"B\",\"C\")\n",
    "d = {1,2,3}\n",
    "e = {0:1,1:1}"
   ]
  },
  {
   "cell_type": "code",
   "execution_count": 32,
   "id": "2b012f33",
   "metadata": {},
   "outputs": [
    {
     "name": "stdout",
     "output_type": "stream",
     "text": [
      "3\n",
      "2\n",
      "1\n"
     ]
    }
   ],
   "source": [
    "mera_for_loop(a)"
   ]
  },
  {
   "cell_type": "code",
   "execution_count": 33,
   "id": "987b5a9d",
   "metadata": {},
   "outputs": [
    {
     "name": "stdout",
     "output_type": "stream",
     "text": [
      "1\n",
      "2\n",
      "3\n",
      "4\n",
      "5\n",
      "6\n",
      "7\n",
      "8\n",
      "9\n",
      "10\n"
     ]
    }
   ],
   "source": [
    "mera_for_loop(b)"
   ]
  },
  {
   "cell_type": "code",
   "execution_count": 34,
   "id": "51e37004",
   "metadata": {},
   "outputs": [
    {
     "name": "stdout",
     "output_type": "stream",
     "text": [
      "A\n",
      "B\n",
      "C\n"
     ]
    }
   ],
   "source": [
    "mera_for_loop(c)"
   ]
  },
  {
   "cell_type": "code",
   "execution_count": 35,
   "id": "9fb0e2b3",
   "metadata": {},
   "outputs": [
    {
     "name": "stdout",
     "output_type": "stream",
     "text": [
      "1\n",
      "2\n",
      "3\n"
     ]
    }
   ],
   "source": [
    "mera_for_loop(d)"
   ]
  },
  {
   "cell_type": "code",
   "execution_count": 36,
   "id": "61fb942b",
   "metadata": {},
   "outputs": [
    {
     "name": "stdout",
     "output_type": "stream",
     "text": [
      "0\n",
      "1\n"
     ]
    }
   ],
   "source": [
    "mera_for_loop(e)"
   ]
  },
  {
   "cell_type": "markdown",
   "id": "0c7f6a25",
   "metadata": {},
   "source": [
    "# Creating our own range() function"
   ]
  },
  {
   "cell_type": "code",
   "execution_count": 38,
   "id": "6cddee64",
   "metadata": {},
   "outputs": [],
   "source": [
    "class Mera_Range:\n",
    "    \n",
    "    def __init__(self,start,end):\n",
    "        self.start = start\n",
    "        self.end = end\n",
    "        \n",
    "    def __iter__(self):\n",
    "        return Mera_Range_Iterator(self)"
   ]
  },
  {
   "cell_type": "code",
   "execution_count": 42,
   "id": "7d71edec",
   "metadata": {},
   "outputs": [],
   "source": [
    "class Mera_Range_Iterator:\n",
    "    \n",
    "    def __init__(self,iterable_obj):\n",
    "        self.iterable = iterable_obj\n",
    "    \n",
    "    def __iter__(self):\n",
    "        return self\n",
    "    \n",
    "    def __next__(self):\n",
    "        \n",
    "        if self.iterable.start >= self.iterable.end:\n",
    "            raise StopIteration\n",
    "            \n",
    "        current = self.iterable.start\n",
    "        self.iterable.start += 1\n",
    "        return current"
   ]
  },
  {
   "cell_type": "code",
   "execution_count": 43,
   "id": "c53878a5",
   "metadata": {},
   "outputs": [
    {
     "name": "stdout",
     "output_type": "stream",
     "text": [
      "1\n",
      "2\n",
      "3\n",
      "4\n",
      "5\n",
      "6\n",
      "7\n",
      "8\n",
      "9\n",
      "10\n"
     ]
    }
   ],
   "source": [
    "for i in Mera_Range(1,11):\n",
    "    print(i)"
   ]
  },
  {
   "cell_type": "code",
   "execution_count": 44,
   "id": "1ec32525",
   "metadata": {},
   "outputs": [
    {
     "data": {
      "text/plain": [
       "__main__.Mera_Range"
      ]
     },
     "execution_count": 44,
     "metadata": {},
     "output_type": "execute_result"
    }
   ],
   "source": [
    "x = Mera_Range(1,11)\n",
    "type(x)"
   ]
  },
  {
   "cell_type": "code",
   "execution_count": 45,
   "id": "fa639a79",
   "metadata": {},
   "outputs": [
    {
     "data": {
      "text/plain": [
       "<__main__.Mera_Range_Iterator at 0x24e3fc93e50>"
      ]
     },
     "execution_count": 45,
     "metadata": {},
     "output_type": "execute_result"
    }
   ],
   "source": [
    "iter(x)"
   ]
  },
  {
   "cell_type": "markdown",
   "id": "d987cadb",
   "metadata": {},
   "source": [
    "# Generators\n",
    "Python generators are a simple way of creating iterators\n",
    "\n",
    "## Benefits of Generator:\n",
    "1. Ease of implementation\n",
    "2. Memory efficient\n",
    "3. Representing infinite streams\n",
    "4. Chaining generators"
   ]
  },
  {
   "cell_type": "markdown",
   "id": "bbc2b7f5",
   "metadata": {},
   "source": [
    "#### A simple example"
   ]
  },
  {
   "cell_type": "code",
   "execution_count": 46,
   "id": "afbbc507",
   "metadata": {},
   "outputs": [],
   "source": [
    "def gen_demo():\n",
    "    \n",
    "    yield \"first statement\"\n",
    "    yield \"second statement\"\n",
    "    yield \"third statement\""
   ]
  },
  {
   "cell_type": "code",
   "execution_count": 53,
   "id": "43ef8ba4",
   "metadata": {},
   "outputs": [
    {
     "name": "stdout",
     "output_type": "stream",
     "text": [
      "first statement\n",
      "second statement\n",
      "third statement\n"
     ]
    }
   ],
   "source": [
    "gen = gen_demo()\n",
    "# print(gen)\n",
    "\n",
    "# print(next(gen))\n",
    "# print(next(gen))\n",
    "# print(next(gen))\n",
    "# # this should give stop iteration error\n",
    "# print(next(gen))\n",
    "\n",
    "for i in gen:\n",
    "    print(i)"
   ]
  },
  {
   "cell_type": "code",
   "execution_count": 54,
   "id": "e71c9983",
   "metadata": {},
   "outputs": [],
   "source": [
    "# yield vs return (python tutor demo)"
   ]
  },
  {
   "cell_type": "markdown",
   "id": "47f5f980",
   "metadata": {},
   "source": [
    "#### Example 2"
   ]
  },
  {
   "cell_type": "code",
   "execution_count": 55,
   "id": "72234511",
   "metadata": {},
   "outputs": [],
   "source": [
    "# generator for square till number\n",
    "def square(num):\n",
    "    \n",
    "    for i in range(1,num+1):\n",
    "        yield i**2"
   ]
  },
  {
   "cell_type": "code",
   "execution_count": 56,
   "id": "c3d96e34",
   "metadata": {},
   "outputs": [
    {
     "name": "stdout",
     "output_type": "stream",
     "text": [
      "1\n"
     ]
    }
   ],
   "source": [
    "gen = square(10)\n",
    "\n",
    "print(next(gen))"
   ]
  },
  {
   "cell_type": "code",
   "execution_count": 57,
   "id": "6e04008b",
   "metadata": {},
   "outputs": [
    {
     "name": "stdout",
     "output_type": "stream",
     "text": [
      "4\n"
     ]
    }
   ],
   "source": [
    "print(next(gen))"
   ]
  },
  {
   "cell_type": "code",
   "execution_count": 58,
   "id": "e51847e5",
   "metadata": {},
   "outputs": [
    {
     "name": "stdout",
     "output_type": "stream",
     "text": [
      "9\n"
     ]
    }
   ],
   "source": [
    "print(next(gen))"
   ]
  },
  {
   "cell_type": "code",
   "execution_count": 59,
   "id": "d792df2d",
   "metadata": {},
   "outputs": [
    {
     "name": "stdout",
     "output_type": "stream",
     "text": [
      "16\n",
      "25\n",
      "36\n",
      "49\n",
      "64\n",
      "81\n",
      "100\n"
     ]
    }
   ],
   "source": [
    "for i in gen:\n",
    "    print(i)"
   ]
  },
  {
   "cell_type": "markdown",
   "id": "458de472",
   "metadata": {},
   "source": [
    "## Creating range function using generator"
   ]
  },
  {
   "cell_type": "code",
   "execution_count": 60,
   "id": "4116bba0",
   "metadata": {},
   "outputs": [],
   "source": [
    "def mera_range(start,end):\n",
    "    \n",
    "    for i in range(start,end):\n",
    "        yield i"
   ]
  },
  {
   "cell_type": "code",
   "execution_count": 61,
   "id": "fe856286",
   "metadata": {},
   "outputs": [
    {
     "name": "stdout",
     "output_type": "stream",
     "text": [
      "15\n",
      "16\n",
      "17\n",
      "18\n",
      "19\n",
      "20\n",
      "21\n",
      "22\n",
      "23\n",
      "24\n",
      "25\n"
     ]
    }
   ],
   "source": [
    "gen = mera_range(15,26)\n",
    "\n",
    "for i in gen:\n",
    "    print(i)"
   ]
  },
  {
   "cell_type": "code",
   "execution_count": 62,
   "id": "318ba0a3",
   "metadata": {},
   "outputs": [
    {
     "name": "stdout",
     "output_type": "stream",
     "text": [
      "15\n",
      "16\n",
      "17\n",
      "18\n",
      "19\n",
      "20\n",
      "21\n",
      "22\n",
      "23\n",
      "24\n",
      "25\n"
     ]
    }
   ],
   "source": [
    "for i in mera_range(15,26):\n",
    "    print(i)"
   ]
  },
  {
   "cell_type": "markdown",
   "id": "1cba55cc",
   "metadata": {},
   "source": [
    "### Generator expression"
   ]
  },
  {
   "cell_type": "code",
   "execution_count": 64,
   "id": "bdecac5f",
   "metadata": {},
   "outputs": [
    {
     "data": {
      "text/plain": [
       "[1, 4, 9, 16, 25, 36, 49, 64, 81, 100]"
      ]
     },
     "execution_count": 64,
     "metadata": {},
     "output_type": "execute_result"
    }
   ],
   "source": [
    "# List comprehension\n",
    "L = [x**2 for x in range(1,11)]\n",
    "L"
   ]
  },
  {
   "cell_type": "code",
   "execution_count": 65,
   "id": "12d6279b",
   "metadata": {},
   "outputs": [
    {
     "name": "stdout",
     "output_type": "stream",
     "text": [
      "1\n",
      "4\n",
      "9\n",
      "16\n",
      "25\n",
      "36\n",
      "49\n",
      "64\n",
      "81\n",
      "100\n"
     ]
    }
   ],
   "source": [
    "# generator expression\n",
    "gen = (x**2 for x in range(1,11))\n",
    "\n",
    "for i in gen:\n",
    "    print(i)"
   ]
  },
  {
   "cell_type": "markdown",
   "id": "0939a176",
   "metadata": {},
   "source": [
    "### Practical example of generator\n",
    "loading one by one image into memory and converting into numpy array"
   ]
  },
  {
   "cell_type": "code",
   "execution_count": 66,
   "id": "a2bad865",
   "metadata": {},
   "outputs": [],
   "source": [
    "# import os\n",
    "# import cv2\n",
    "\n",
    "# def image_data_reader(folder_path):\n",
    "#     for file in os.listdir(folder_path):\n",
    "#         f_array = cv2.imread(os.path.join(folder_path,file))\n",
    "#         yield f_array"
   ]
  },
  {
   "cell_type": "code",
   "execution_count": 67,
   "id": "db214177",
   "metadata": {},
   "outputs": [],
   "source": [
    "# gen = image_data_reader(\"C:/path\")\n",
    "\n",
    "# next(gen)\n",
    "# next(gen)\n",
    "# next(gen)"
   ]
  },
  {
   "cell_type": "markdown",
   "id": "860df6c2",
   "metadata": {},
   "source": [
    "#### Benefits of Generators"
   ]
  },
  {
   "cell_type": "code",
   "execution_count": 68,
   "id": "5a29ea8b",
   "metadata": {},
   "outputs": [],
   "source": [
    "# 1. Ease of implementation\n",
    "\n",
    "def mera_range(start,end):\n",
    "    \n",
    "    for i in range(start,end):\n",
    "        yield i"
   ]
  },
  {
   "cell_type": "code",
   "execution_count": 71,
   "id": "1a52bb0f",
   "metadata": {},
   "outputs": [
    {
     "name": "stdout",
     "output_type": "stream",
     "text": [
      "Size of L in memory is 85176\n",
      "Size of gen in memory is 112\n"
     ]
    }
   ],
   "source": [
    "# 2. Memory efficient\n",
    "\n",
    "L = [x**2 for x in range(10000)]\n",
    "gen = (x**2 for x in range(10000))\n",
    "\n",
    "import sys\n",
    "\n",
    "print(\"Size of L in memory is\",sys.getsizeof(L))\n",
    "print(\"Size of gen in memory is\",sys.getsizeof(gen))"
   ]
  },
  {
   "cell_type": "code",
   "execution_count": 74,
   "id": "518d30ef",
   "metadata": {},
   "outputs": [],
   "source": [
    "# 3. Representing infinite streams\n",
    "\n",
    "def all_even():\n",
    "    n = 0\n",
    "    while True:\n",
    "        yield n\n",
    "        n = n + 2"
   ]
  },
  {
   "cell_type": "code",
   "execution_count": 76,
   "id": "d0f609b3",
   "metadata": {},
   "outputs": [
    {
     "name": "stdout",
     "output_type": "stream",
     "text": [
      "0\n"
     ]
    }
   ],
   "source": [
    "even_num_gen = all_even()\n",
    "print(next(even_num_gen))"
   ]
  },
  {
   "cell_type": "code",
   "execution_count": 77,
   "id": "3f2a469e",
   "metadata": {},
   "outputs": [
    {
     "name": "stdout",
     "output_type": "stream",
     "text": [
      "2\n"
     ]
    }
   ],
   "source": [
    "print(next(even_num_gen))"
   ]
  },
  {
   "cell_type": "code",
   "execution_count": 78,
   "id": "ffefba99",
   "metadata": {},
   "outputs": [
    {
     "name": "stdout",
     "output_type": "stream",
     "text": [
      "4\n"
     ]
    }
   ],
   "source": [
    "print(next(even_num_gen))"
   ]
  },
  {
   "cell_type": "code",
   "execution_count": 79,
   "id": "8a2316a0",
   "metadata": {},
   "outputs": [
    {
     "name": "stdout",
     "output_type": "stream",
     "text": [
      "6\n"
     ]
    }
   ],
   "source": [
    "print(next(even_num_gen))"
   ]
  },
  {
   "cell_type": "code",
   "execution_count": 81,
   "id": "351a1ae0",
   "metadata": {},
   "outputs": [
    {
     "name": "stdout",
     "output_type": "stream",
     "text": [
      "4895\n"
     ]
    }
   ],
   "source": [
    "# 4. Chaining generators\n",
    "\n",
    "def fibonacci_numbers(nums):\n",
    "    x = 0\n",
    "    y = 1\n",
    "    \n",
    "    for _ in range(nums):\n",
    "        x,y = y,x+y\n",
    "        yield x\n",
    "        \n",
    "        \n",
    "def square(nums):\n",
    "    for num in nums:\n",
    "        yield num**2\n",
    "        \n",
    "        \n",
    "print(sum(square(fibonacci_numbers(10))))"
   ]
  },
  {
   "cell_type": "markdown",
   "id": "ff9bbe29",
   "metadata": {},
   "source": [
    "# Exception Handling"
   ]
  },
  {
   "cell_type": "code",
   "execution_count": 83,
   "id": "2d622d4f",
   "metadata": {},
   "outputs": [
    {
     "ename": "NameError",
     "evalue": "name 't' is not defined",
     "output_type": "error",
     "traceback": [
      "\u001b[1;31m---------------------------------------------------------------------------\u001b[0m",
      "\u001b[1;31mNameError\u001b[0m                                 Traceback (most recent call last)",
      "\u001b[1;32m~\\AppData\\Local\\Temp\\ipykernel_15032\\2058247866.py\u001b[0m in \u001b[0;36m<module>\u001b[1;34m\u001b[0m\n\u001b[1;32m----> 1\u001b[1;33m \u001b[0mprint\u001b[0m\u001b[1;33m(\u001b[0m\u001b[0mt\u001b[0m\u001b[1;33m)\u001b[0m\u001b[1;33m\u001b[0m\u001b[1;33m\u001b[0m\u001b[0m\n\u001b[0m",
      "\u001b[1;31mNameError\u001b[0m: name 't' is not defined"
     ]
    }
   ],
   "source": [
    "print(t)"
   ]
  },
  {
   "cell_type": "code",
   "execution_count": 85,
   "id": "7e7040e8",
   "metadata": {},
   "outputs": [
    {
     "name": "stdout",
     "output_type": "stream",
     "text": [
      "There is an error\n"
     ]
    }
   ],
   "source": [
    "try:\n",
    "    print(t)\n",
    "except:\n",
    "    print(\"There is an error\")"
   ]
  },
  {
   "cell_type": "code",
   "execution_count": 87,
   "id": "60315490",
   "metadata": {},
   "outputs": [
    {
     "name": "stdout",
     "output_type": "stream",
     "text": [
      "NameError means something is undefined\n"
     ]
    }
   ],
   "source": [
    "try:\n",
    "    print(t)\n",
    "except NameError:\n",
    "    print(\"NameError means something is undefined\")"
   ]
  },
  {
   "cell_type": "code",
   "execution_count": 88,
   "id": "00306f89",
   "metadata": {},
   "outputs": [
    {
     "ename": "ZeroDivisionError",
     "evalue": "division by zero",
     "output_type": "error",
     "traceback": [
      "\u001b[1;31m---------------------------------------------------------------------------\u001b[0m",
      "\u001b[1;31mZeroDivisionError\u001b[0m                         Traceback (most recent call last)",
      "\u001b[1;32m~\\AppData\\Local\\Temp\\ipykernel_15032\\798166921.py\u001b[0m in \u001b[0;36m<module>\u001b[1;34m\u001b[0m\n\u001b[0;32m      1\u001b[0m \u001b[0mt\u001b[0m\u001b[1;33m=\u001b[0m\u001b[1;36m2\u001b[0m\u001b[1;33m\u001b[0m\u001b[1;33m\u001b[0m\u001b[0m\n\u001b[0;32m      2\u001b[0m \u001b[1;32mtry\u001b[0m\u001b[1;33m:\u001b[0m\u001b[1;33m\u001b[0m\u001b[1;33m\u001b[0m\u001b[0m\n\u001b[1;32m----> 3\u001b[1;33m     \u001b[0mprint\u001b[0m\u001b[1;33m(\u001b[0m\u001b[0mt\u001b[0m\u001b[1;33m/\u001b[0m\u001b[1;36m0\u001b[0m\u001b[1;33m)\u001b[0m\u001b[1;33m\u001b[0m\u001b[1;33m\u001b[0m\u001b[0m\n\u001b[0m\u001b[0;32m      4\u001b[0m \u001b[1;32mexcept\u001b[0m \u001b[0mNameError\u001b[0m\u001b[1;33m:\u001b[0m\u001b[1;33m\u001b[0m\u001b[1;33m\u001b[0m\u001b[0m\n\u001b[0;32m      5\u001b[0m     \u001b[0mprint\u001b[0m\u001b[1;33m(\u001b[0m\u001b[1;34m\"NameError - Something is undefined\"\u001b[0m\u001b[1;33m)\u001b[0m\u001b[1;33m\u001b[0m\u001b[1;33m\u001b[0m\u001b[0m\n",
      "\u001b[1;31mZeroDivisionError\u001b[0m: division by zero"
     ]
    }
   ],
   "source": [
    "t=2\n",
    "try:\n",
    "    print(t/0)\n",
    "except NameError:\n",
    "    print(\"NameError - Something is undefined\")"
   ]
  },
  {
   "cell_type": "code",
   "execution_count": 89,
   "id": "725850e2",
   "metadata": {},
   "outputs": [
    {
     "name": "stdout",
     "output_type": "stream",
     "text": [
      "ZeroDivisionError - Please don't divide by zero\n"
     ]
    }
   ],
   "source": [
    "t=2\n",
    "try:\n",
    "    print(t/0)\n",
    "except NameError:\n",
    "    print(\"NameError - Something is undefined\")\n",
    "except ZeroDivisionError:\n",
    "    print(\"ZeroDivisionError - Please don't divide by zero\")"
   ]
  },
  {
   "cell_type": "code",
   "execution_count": 91,
   "id": "c3687630",
   "metadata": {},
   "outputs": [
    {
     "name": "stdout",
     "output_type": "stream",
     "text": [
      "2.0\n",
      "No errors\n"
     ]
    }
   ],
   "source": [
    "t=2\n",
    "try:\n",
    "    print(t/1)\n",
    "except NameError:\n",
    "    print(\"NameError - Something is undefined\")\n",
    "except ZeroDivisionError:\n",
    "    print(\"ZeroDivisionError - Please don't divide by zero\")\n",
    "else:\n",
    "    print(\"No errors\")"
   ]
  },
  {
   "cell_type": "code",
   "execution_count": 92,
   "id": "7b78c1f9",
   "metadata": {},
   "outputs": [
    {
     "name": "stdout",
     "output_type": "stream",
     "text": [
      "2.0\n",
      "No errors\n",
      "I am going to print with or without an error\n"
     ]
    }
   ],
   "source": [
    "t=2\n",
    "try:\n",
    "    print(t/1)\n",
    "except NameError:\n",
    "    print(\"NameError - Something is undefined\")\n",
    "except ZeroDivisionError:\n",
    "    print(\"ZeroDivisionError - Please don't divide by zero\")\n",
    "else:\n",
    "    print(\"No errors\")\n",
    "finally:\n",
    "    print(\"I am going to print with or without an error\")"
   ]
  },
  {
   "cell_type": "code",
   "execution_count": 93,
   "id": "e8a9516a",
   "metadata": {},
   "outputs": [
    {
     "name": "stdout",
     "output_type": "stream",
     "text": [
      "ZeroDivisionError - Please don't divide by zero\n",
      "I am going to print with or without an error\n"
     ]
    }
   ],
   "source": [
    "t=2\n",
    "try:\n",
    "    print(t/0)\n",
    "except NameError:\n",
    "    print(\"NameError - Something is undefined\")\n",
    "except ZeroDivisionError:\n",
    "    print(\"ZeroDivisionError - Please don't divide by zero\")\n",
    "else:\n",
    "    print(\"No errors\")\n",
    "finally:\n",
    "    print(\"I am going to print with or without an error\")"
   ]
  },
  {
   "cell_type": "code",
   "execution_count": 94,
   "id": "0144cce7",
   "metadata": {},
   "outputs": [
    {
     "name": "stdout",
     "output_type": "stream",
     "text": [
      "Only strings are allowed\n",
      "I am going to print with or without an error\n"
     ]
    }
   ],
   "source": [
    "t=2\n",
    "try:\n",
    "    if not type(t) is str:\n",
    "        raise TypeError(\"Only strings are allowed\")\n",
    "except NameError:\n",
    "    print(\"NameError - Something is undefined\")\n",
    "except ZeroDivisionError:\n",
    "    print(\"ZeroDivisionError - Please don't divide by zero\")\n",
    "except Exception as error:\n",
    "    print(error)\n",
    "else:\n",
    "    print(\"No errors\")\n",
    "finally:\n",
    "    print(\"I am going to print with or without an error\")"
   ]
  },
  {
   "cell_type": "code",
   "execution_count": 95,
   "id": "8ddf9af5",
   "metadata": {},
   "outputs": [
    {
     "name": "stdout",
     "output_type": "stream",
     "text": [
      "I am a custom exception!\n",
      "I am going to print with or without an error\n"
     ]
    }
   ],
   "source": [
    "t=2\n",
    "try:\n",
    "    raise Exception(\"I am a custom exception!\")\n",
    "except NameError:\n",
    "    print(\"NameError - Something is undefined\")\n",
    "except ZeroDivisionError:\n",
    "    print(\"ZeroDivisionError - Please don't divide by zero\")\n",
    "except Exception as error:\n",
    "    print(error)\n",
    "else:\n",
    "    print(\"No errors\")\n",
    "finally:\n",
    "    print(\"I am going to print with or without an error\")"
   ]
  },
  {
   "cell_type": "code",
   "execution_count": 96,
   "id": "193170e8",
   "metadata": {},
   "outputs": [
    {
     "name": "stdout",
     "output_type": "stream",
     "text": [
      "This just isn't cool\n",
      "I am going to print with or without an error\n"
     ]
    }
   ],
   "source": [
    "class JustNotCoolError(Exception):\n",
    "    pass\n",
    "\n",
    "t=2\n",
    "try:\n",
    "    raise JustNotCoolError(\"This just isn't cool\")\n",
    "except NameError:\n",
    "    print(\"NameError - Something is undefined\")\n",
    "except ZeroDivisionError:\n",
    "    print(\"ZeroDivisionError - Please don't divide by zero\")\n",
    "except Exception as error:\n",
    "    print(error)\n",
    "else:\n",
    "    print(\"No errors\")\n",
    "finally:\n",
    "    print(\"I am going to print with or without an error\")"
   ]
  },
  {
   "cell_type": "code",
   "execution_count": null,
   "id": "ec002373",
   "metadata": {},
   "outputs": [],
   "source": []
  }
 ],
 "metadata": {
  "kernelspec": {
   "display_name": "Python 3 (ipykernel)",
   "language": "python",
   "name": "python3"
  },
  "language_info": {
   "codemirror_mode": {
    "name": "ipython",
    "version": 3
   },
   "file_extension": ".py",
   "mimetype": "text/x-python",
   "name": "python",
   "nbconvert_exporter": "python",
   "pygments_lexer": "ipython3",
   "version": "3.9.13"
  }
 },
 "nbformat": 4,
 "nbformat_minor": 5
}
